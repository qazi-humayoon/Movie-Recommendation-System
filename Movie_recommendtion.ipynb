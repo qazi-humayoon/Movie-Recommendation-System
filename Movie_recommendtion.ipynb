{
  "nbformat": 4,
  "nbformat_minor": 0,
  "metadata": {
    "colab": {
      "provenance": []
    },
    "kernelspec": {
      "name": "python3",
      "display_name": "Python 3"
    },
    "language_info": {
      "name": "python"
    }
  },
  "cells": [
    {
      "cell_type": "code",
      "execution_count": 34,
      "metadata": {
        "id": "x9PZ_xPMrI5n"
      },
      "outputs": [],
      "source": [
        "import pandas as pd\n",
        "import numpy as np"
      ]
    },
    {
      "cell_type": "code",
      "source": [
        "df = pd.read_csv(\"https://raw.githubusercontent.com/YBI-Foundation/Dataset/main/Movies%20Recommendation.csv\")"
      ],
      "metadata": {
        "id": "V2y5rNIvrnEy"
      },
      "execution_count": 35,
      "outputs": []
    },
    {
      "cell_type": "code",
      "source": [
        "df.head()"
      ],
      "metadata": {
        "colab": {
          "base_uri": "https://localhost:8080/",
          "height": 716
        },
        "id": "T-6uEKY4sFft",
        "outputId": "a9dc16f3-7741-463f-f1b6-cc94d58fc25a"
      },
      "execution_count": 36,
      "outputs": [
        {
          "output_type": "execute_result",
          "data": {
            "text/plain": [
              "   Movie_ID      Movie_Title                       Movie_Genre Movie_Language  \\\n",
              "0         1       Four Rooms                      Crime Comedy             en   \n",
              "1         2        Star Wars  Adventure Action Science Fiction             en   \n",
              "2         3     Finding Nemo                  Animation Family             en   \n",
              "3         4     Forrest Gump              Comedy Drama Romance             en   \n",
              "4         5  American Beauty                             Drama             en   \n",
              "\n",
              "   Movie_Budget  Movie_Popularity Movie_Release_Date  Movie_Revenue  \\\n",
              "0       4000000         22.876230         09-12-1995        4300000   \n",
              "1      11000000        126.393695         25-05-1977      775398007   \n",
              "2      94000000         85.688789         30-05-2003      940335536   \n",
              "3      55000000        138.133331         06-07-1994      677945399   \n",
              "4      15000000         80.878605         15-09-1999      356296601   \n",
              "\n",
              "   Movie_Runtime  Movie_Vote  ...  \\\n",
              "0           98.0         6.5  ...   \n",
              "1          121.0         8.1  ...   \n",
              "2          100.0         7.6  ...   \n",
              "3          142.0         8.2  ...   \n",
              "4          122.0         7.9  ...   \n",
              "\n",
              "                                      Movie_Homepage  \\\n",
              "0                                                NaN   \n",
              "1  http://www.starwars.com/films/star-wars-episod...   \n",
              "2              http://movies.disney.com/finding-nemo   \n",
              "3                                                NaN   \n",
              "4                      http://www.dreamworks.com/ab/   \n",
              "\n",
              "                                      Movie_Keywords  \\\n",
              "0          hotel new year's eve witch bet hotel room   \n",
              "1        android galaxy hermit death star lightsaber   \n",
              "2  father son relationship harbor underwater fish...   \n",
              "3  vietnam veteran hippie mentally disabled runni...   \n",
              "4  male nudity female nudity adultery midlife cri...   \n",
              "\n",
              "                                      Movie_Overview  \\\n",
              "0  It's Ted the Bellhop's first night on the job....   \n",
              "1  Princess Leia is captured and held hostage by ...   \n",
              "2  Nemo, an adventurous young clownfish, is unexp...   \n",
              "3  A man with a low IQ has accomplished great thi...   \n",
              "4  Lester Burnham, a depressed suburban father in...   \n",
              "\n",
              "                              Movie_Production_House  \\\n",
              "0  [{\"name\": \"Miramax Films\", \"id\": 14}, {\"name\":...   \n",
              "1  [{\"name\": \"Lucasfilm\", \"id\": 1}, {\"name\": \"Twe...   \n",
              "2     [{\"name\": \"Pixar Animation Studios\", \"id\": 3}]   \n",
              "3          [{\"name\": \"Paramount Pictures\", \"id\": 4}]   \n",
              "4  [{\"name\": \"DreamWorks SKG\", \"id\": 27}, {\"name\"...   \n",
              "\n",
              "                            Movie_Production_Country  \\\n",
              "0  [{\"iso_3166_1\": \"US\", \"name\": \"United States o...   \n",
              "1  [{\"iso_3166_1\": \"US\", \"name\": \"United States o...   \n",
              "2  [{\"iso_3166_1\": \"US\", \"name\": \"United States o...   \n",
              "3  [{\"iso_3166_1\": \"US\", \"name\": \"United States o...   \n",
              "4  [{\"iso_3166_1\": \"US\", \"name\": \"United States o...   \n",
              "\n",
              "                      Movie_Spoken_Language  \\\n",
              "0  [{\"iso_639_1\": \"en\", \"name\": \"English\"}]   \n",
              "1  [{\"iso_639_1\": \"en\", \"name\": \"English\"}]   \n",
              "2  [{\"iso_639_1\": \"en\", \"name\": \"English\"}]   \n",
              "3  [{\"iso_639_1\": \"en\", \"name\": \"English\"}]   \n",
              "4  [{\"iso_639_1\": \"en\", \"name\": \"English\"}]   \n",
              "\n",
              "                                       Movie_Tagline  \\\n",
              "0  Twelve outrageous guests. Four scandalous requ...   \n",
              "1       A long time ago in a galaxy far, far away...   \n",
              "2  There are 3.7 trillion fish in the ocean, they...   \n",
              "3  The world will never be the same, once you've ...   \n",
              "4                                       Look closer.   \n",
              "\n",
              "                                          Movie_Cast  \\\n",
              "0  Tim Roth Antonio Banderas Jennifer Beals Madon...   \n",
              "1  Mark Hamill Harrison Ford Carrie Fisher Peter ...   \n",
              "2  Albert Brooks Ellen DeGeneres Alexander Gould ...   \n",
              "3  Tom Hanks Robin Wright Gary Sinise Mykelti Wil...   \n",
              "4  Kevin Spacey Annette Bening Thora Birch Wes Be...   \n",
              "\n",
              "                                          Movie_Crew   Movie_Director  \n",
              "0  [{'name': 'Allison Anders', 'gender': 1, 'depa...   Allison Anders  \n",
              "1  [{'name': 'George Lucas', 'gender': 2, 'depart...     George Lucas  \n",
              "2  [{'name': 'Andrew Stanton', 'gender': 2, 'depa...   Andrew Stanton  \n",
              "3  [{'name': 'Alan Silvestri', 'gender': 2, 'depa...  Robert Zemeckis  \n",
              "4  [{'name': 'Thomas Newman', 'gender': 2, 'depar...       Sam Mendes  \n",
              "\n",
              "[5 rows x 21 columns]"
            ],
            "text/html": [
              "\n",
              "\n",
              "  <div id=\"df-b8d0ac56-5d87-4451-aa4f-92a2f8dffa45\">\n",
              "    <div class=\"colab-df-container\">\n",
              "      <div>\n",
              "<style scoped>\n",
              "    .dataframe tbody tr th:only-of-type {\n",
              "        vertical-align: middle;\n",
              "    }\n",
              "\n",
              "    .dataframe tbody tr th {\n",
              "        vertical-align: top;\n",
              "    }\n",
              "\n",
              "    .dataframe thead th {\n",
              "        text-align: right;\n",
              "    }\n",
              "</style>\n",
              "<table border=\"1\" class=\"dataframe\">\n",
              "  <thead>\n",
              "    <tr style=\"text-align: right;\">\n",
              "      <th></th>\n",
              "      <th>Movie_ID</th>\n",
              "      <th>Movie_Title</th>\n",
              "      <th>Movie_Genre</th>\n",
              "      <th>Movie_Language</th>\n",
              "      <th>Movie_Budget</th>\n",
              "      <th>Movie_Popularity</th>\n",
              "      <th>Movie_Release_Date</th>\n",
              "      <th>Movie_Revenue</th>\n",
              "      <th>Movie_Runtime</th>\n",
              "      <th>Movie_Vote</th>\n",
              "      <th>...</th>\n",
              "      <th>Movie_Homepage</th>\n",
              "      <th>Movie_Keywords</th>\n",
              "      <th>Movie_Overview</th>\n",
              "      <th>Movie_Production_House</th>\n",
              "      <th>Movie_Production_Country</th>\n",
              "      <th>Movie_Spoken_Language</th>\n",
              "      <th>Movie_Tagline</th>\n",
              "      <th>Movie_Cast</th>\n",
              "      <th>Movie_Crew</th>\n",
              "      <th>Movie_Director</th>\n",
              "    </tr>\n",
              "  </thead>\n",
              "  <tbody>\n",
              "    <tr>\n",
              "      <th>0</th>\n",
              "      <td>1</td>\n",
              "      <td>Four Rooms</td>\n",
              "      <td>Crime Comedy</td>\n",
              "      <td>en</td>\n",
              "      <td>4000000</td>\n",
              "      <td>22.876230</td>\n",
              "      <td>09-12-1995</td>\n",
              "      <td>4300000</td>\n",
              "      <td>98.0</td>\n",
              "      <td>6.5</td>\n",
              "      <td>...</td>\n",
              "      <td>NaN</td>\n",
              "      <td>hotel new year's eve witch bet hotel room</td>\n",
              "      <td>It's Ted the Bellhop's first night on the job....</td>\n",
              "      <td>[{\"name\": \"Miramax Films\", \"id\": 14}, {\"name\":...</td>\n",
              "      <td>[{\"iso_3166_1\": \"US\", \"name\": \"United States o...</td>\n",
              "      <td>[{\"iso_639_1\": \"en\", \"name\": \"English\"}]</td>\n",
              "      <td>Twelve outrageous guests. Four scandalous requ...</td>\n",
              "      <td>Tim Roth Antonio Banderas Jennifer Beals Madon...</td>\n",
              "      <td>[{'name': 'Allison Anders', 'gender': 1, 'depa...</td>\n",
              "      <td>Allison Anders</td>\n",
              "    </tr>\n",
              "    <tr>\n",
              "      <th>1</th>\n",
              "      <td>2</td>\n",
              "      <td>Star Wars</td>\n",
              "      <td>Adventure Action Science Fiction</td>\n",
              "      <td>en</td>\n",
              "      <td>11000000</td>\n",
              "      <td>126.393695</td>\n",
              "      <td>25-05-1977</td>\n",
              "      <td>775398007</td>\n",
              "      <td>121.0</td>\n",
              "      <td>8.1</td>\n",
              "      <td>...</td>\n",
              "      <td>http://www.starwars.com/films/star-wars-episod...</td>\n",
              "      <td>android galaxy hermit death star lightsaber</td>\n",
              "      <td>Princess Leia is captured and held hostage by ...</td>\n",
              "      <td>[{\"name\": \"Lucasfilm\", \"id\": 1}, {\"name\": \"Twe...</td>\n",
              "      <td>[{\"iso_3166_1\": \"US\", \"name\": \"United States o...</td>\n",
              "      <td>[{\"iso_639_1\": \"en\", \"name\": \"English\"}]</td>\n",
              "      <td>A long time ago in a galaxy far, far away...</td>\n",
              "      <td>Mark Hamill Harrison Ford Carrie Fisher Peter ...</td>\n",
              "      <td>[{'name': 'George Lucas', 'gender': 2, 'depart...</td>\n",
              "      <td>George Lucas</td>\n",
              "    </tr>\n",
              "    <tr>\n",
              "      <th>2</th>\n",
              "      <td>3</td>\n",
              "      <td>Finding Nemo</td>\n",
              "      <td>Animation Family</td>\n",
              "      <td>en</td>\n",
              "      <td>94000000</td>\n",
              "      <td>85.688789</td>\n",
              "      <td>30-05-2003</td>\n",
              "      <td>940335536</td>\n",
              "      <td>100.0</td>\n",
              "      <td>7.6</td>\n",
              "      <td>...</td>\n",
              "      <td>http://movies.disney.com/finding-nemo</td>\n",
              "      <td>father son relationship harbor underwater fish...</td>\n",
              "      <td>Nemo, an adventurous young clownfish, is unexp...</td>\n",
              "      <td>[{\"name\": \"Pixar Animation Studios\", \"id\": 3}]</td>\n",
              "      <td>[{\"iso_3166_1\": \"US\", \"name\": \"United States o...</td>\n",
              "      <td>[{\"iso_639_1\": \"en\", \"name\": \"English\"}]</td>\n",
              "      <td>There are 3.7 trillion fish in the ocean, they...</td>\n",
              "      <td>Albert Brooks Ellen DeGeneres Alexander Gould ...</td>\n",
              "      <td>[{'name': 'Andrew Stanton', 'gender': 2, 'depa...</td>\n",
              "      <td>Andrew Stanton</td>\n",
              "    </tr>\n",
              "    <tr>\n",
              "      <th>3</th>\n",
              "      <td>4</td>\n",
              "      <td>Forrest Gump</td>\n",
              "      <td>Comedy Drama Romance</td>\n",
              "      <td>en</td>\n",
              "      <td>55000000</td>\n",
              "      <td>138.133331</td>\n",
              "      <td>06-07-1994</td>\n",
              "      <td>677945399</td>\n",
              "      <td>142.0</td>\n",
              "      <td>8.2</td>\n",
              "      <td>...</td>\n",
              "      <td>NaN</td>\n",
              "      <td>vietnam veteran hippie mentally disabled runni...</td>\n",
              "      <td>A man with a low IQ has accomplished great thi...</td>\n",
              "      <td>[{\"name\": \"Paramount Pictures\", \"id\": 4}]</td>\n",
              "      <td>[{\"iso_3166_1\": \"US\", \"name\": \"United States o...</td>\n",
              "      <td>[{\"iso_639_1\": \"en\", \"name\": \"English\"}]</td>\n",
              "      <td>The world will never be the same, once you've ...</td>\n",
              "      <td>Tom Hanks Robin Wright Gary Sinise Mykelti Wil...</td>\n",
              "      <td>[{'name': 'Alan Silvestri', 'gender': 2, 'depa...</td>\n",
              "      <td>Robert Zemeckis</td>\n",
              "    </tr>\n",
              "    <tr>\n",
              "      <th>4</th>\n",
              "      <td>5</td>\n",
              "      <td>American Beauty</td>\n",
              "      <td>Drama</td>\n",
              "      <td>en</td>\n",
              "      <td>15000000</td>\n",
              "      <td>80.878605</td>\n",
              "      <td>15-09-1999</td>\n",
              "      <td>356296601</td>\n",
              "      <td>122.0</td>\n",
              "      <td>7.9</td>\n",
              "      <td>...</td>\n",
              "      <td>http://www.dreamworks.com/ab/</td>\n",
              "      <td>male nudity female nudity adultery midlife cri...</td>\n",
              "      <td>Lester Burnham, a depressed suburban father in...</td>\n",
              "      <td>[{\"name\": \"DreamWorks SKG\", \"id\": 27}, {\"name\"...</td>\n",
              "      <td>[{\"iso_3166_1\": \"US\", \"name\": \"United States o...</td>\n",
              "      <td>[{\"iso_639_1\": \"en\", \"name\": \"English\"}]</td>\n",
              "      <td>Look closer.</td>\n",
              "      <td>Kevin Spacey Annette Bening Thora Birch Wes Be...</td>\n",
              "      <td>[{'name': 'Thomas Newman', 'gender': 2, 'depar...</td>\n",
              "      <td>Sam Mendes</td>\n",
              "    </tr>\n",
              "  </tbody>\n",
              "</table>\n",
              "<p>5 rows × 21 columns</p>\n",
              "</div>\n",
              "      <button class=\"colab-df-convert\" onclick=\"convertToInteractive('df-b8d0ac56-5d87-4451-aa4f-92a2f8dffa45')\"\n",
              "              title=\"Convert this dataframe to an interactive table.\"\n",
              "              style=\"display:none;\">\n",
              "\n",
              "  <svg xmlns=\"http://www.w3.org/2000/svg\" height=\"24px\"viewBox=\"0 0 24 24\"\n",
              "       width=\"24px\">\n",
              "    <path d=\"M0 0h24v24H0V0z\" fill=\"none\"/>\n",
              "    <path d=\"M18.56 5.44l.94 2.06.94-2.06 2.06-.94-2.06-.94-.94-2.06-.94 2.06-2.06.94zm-11 1L8.5 8.5l.94-2.06 2.06-.94-2.06-.94L8.5 2.5l-.94 2.06-2.06.94zm10 10l.94 2.06.94-2.06 2.06-.94-2.06-.94-.94-2.06-.94 2.06-2.06.94z\"/><path d=\"M17.41 7.96l-1.37-1.37c-.4-.4-.92-.59-1.43-.59-.52 0-1.04.2-1.43.59L10.3 9.45l-7.72 7.72c-.78.78-.78 2.05 0 2.83L4 21.41c.39.39.9.59 1.41.59.51 0 1.02-.2 1.41-.59l7.78-7.78 2.81-2.81c.8-.78.8-2.07 0-2.86zM5.41 20L4 18.59l7.72-7.72 1.47 1.35L5.41 20z\"/>\n",
              "  </svg>\n",
              "      </button>\n",
              "\n",
              "\n",
              "\n",
              "    <div id=\"df-2b1d9a66-558a-425c-90a7-9c05aa5e36c2\">\n",
              "      <button class=\"colab-df-quickchart\" onclick=\"quickchart('df-2b1d9a66-558a-425c-90a7-9c05aa5e36c2')\"\n",
              "              title=\"Suggest charts.\"\n",
              "              style=\"display:none;\">\n",
              "\n",
              "<svg xmlns=\"http://www.w3.org/2000/svg\" height=\"24px\"viewBox=\"0 0 24 24\"\n",
              "     width=\"24px\">\n",
              "    <g>\n",
              "        <path d=\"M19 3H5c-1.1 0-2 .9-2 2v14c0 1.1.9 2 2 2h14c1.1 0 2-.9 2-2V5c0-1.1-.9-2-2-2zM9 17H7v-7h2v7zm4 0h-2V7h2v10zm4 0h-2v-4h2v4z\"/>\n",
              "    </g>\n",
              "</svg>\n",
              "      </button>\n",
              "    </div>\n",
              "\n",
              "<style>\n",
              "  .colab-df-quickchart {\n",
              "    background-color: #E8F0FE;\n",
              "    border: none;\n",
              "    border-radius: 50%;\n",
              "    cursor: pointer;\n",
              "    display: none;\n",
              "    fill: #1967D2;\n",
              "    height: 32px;\n",
              "    padding: 0 0 0 0;\n",
              "    width: 32px;\n",
              "  }\n",
              "\n",
              "  .colab-df-quickchart:hover {\n",
              "    background-color: #E2EBFA;\n",
              "    box-shadow: 0px 1px 2px rgba(60, 64, 67, 0.3), 0px 1px 3px 1px rgba(60, 64, 67, 0.15);\n",
              "    fill: #174EA6;\n",
              "  }\n",
              "\n",
              "  [theme=dark] .colab-df-quickchart {\n",
              "    background-color: #3B4455;\n",
              "    fill: #D2E3FC;\n",
              "  }\n",
              "\n",
              "  [theme=dark] .colab-df-quickchart:hover {\n",
              "    background-color: #434B5C;\n",
              "    box-shadow: 0px 1px 3px 1px rgba(0, 0, 0, 0.15);\n",
              "    filter: drop-shadow(0px 1px 2px rgba(0, 0, 0, 0.3));\n",
              "    fill: #FFFFFF;\n",
              "  }\n",
              "</style>\n",
              "\n",
              "    <script>\n",
              "      async function quickchart(key) {\n",
              "        const containerElement = document.querySelector('#' + key);\n",
              "        const charts = await google.colab.kernel.invokeFunction(\n",
              "            'suggestCharts', [key], {});\n",
              "      }\n",
              "    </script>\n",
              "\n",
              "      <script>\n",
              "\n",
              "function displayQuickchartButton(domScope) {\n",
              "  let quickchartButtonEl =\n",
              "    domScope.querySelector('#df-2b1d9a66-558a-425c-90a7-9c05aa5e36c2 button.colab-df-quickchart');\n",
              "  quickchartButtonEl.style.display =\n",
              "    google.colab.kernel.accessAllowed ? 'block' : 'none';\n",
              "}\n",
              "\n",
              "        displayQuickchartButton(document);\n",
              "      </script>\n",
              "      <style>\n",
              "    .colab-df-container {\n",
              "      display:flex;\n",
              "      flex-wrap:wrap;\n",
              "      gap: 12px;\n",
              "    }\n",
              "\n",
              "    .colab-df-convert {\n",
              "      background-color: #E8F0FE;\n",
              "      border: none;\n",
              "      border-radius: 50%;\n",
              "      cursor: pointer;\n",
              "      display: none;\n",
              "      fill: #1967D2;\n",
              "      height: 32px;\n",
              "      padding: 0 0 0 0;\n",
              "      width: 32px;\n",
              "    }\n",
              "\n",
              "    .colab-df-convert:hover {\n",
              "      background-color: #E2EBFA;\n",
              "      box-shadow: 0px 1px 2px rgba(60, 64, 67, 0.3), 0px 1px 3px 1px rgba(60, 64, 67, 0.15);\n",
              "      fill: #174EA6;\n",
              "    }\n",
              "\n",
              "    [theme=dark] .colab-df-convert {\n",
              "      background-color: #3B4455;\n",
              "      fill: #D2E3FC;\n",
              "    }\n",
              "\n",
              "    [theme=dark] .colab-df-convert:hover {\n",
              "      background-color: #434B5C;\n",
              "      box-shadow: 0px 1px 3px 1px rgba(0, 0, 0, 0.15);\n",
              "      filter: drop-shadow(0px 1px 2px rgba(0, 0, 0, 0.3));\n",
              "      fill: #FFFFFF;\n",
              "    }\n",
              "  </style>\n",
              "\n",
              "      <script>\n",
              "        const buttonEl =\n",
              "          document.querySelector('#df-b8d0ac56-5d87-4451-aa4f-92a2f8dffa45 button.colab-df-convert');\n",
              "        buttonEl.style.display =\n",
              "          google.colab.kernel.accessAllowed ? 'block' : 'none';\n",
              "\n",
              "        async function convertToInteractive(key) {\n",
              "          const element = document.querySelector('#df-b8d0ac56-5d87-4451-aa4f-92a2f8dffa45');\n",
              "          const dataTable =\n",
              "            await google.colab.kernel.invokeFunction('convertToInteractive',\n",
              "                                                     [key], {});\n",
              "          if (!dataTable) return;\n",
              "\n",
              "          const docLinkHtml = 'Like what you see? Visit the ' +\n",
              "            '<a target=\"_blank\" href=https://colab.research.google.com/notebooks/data_table.ipynb>data table notebook</a>'\n",
              "            + ' to learn more about interactive tables.';\n",
              "          element.innerHTML = '';\n",
              "          dataTable['output_type'] = 'display_data';\n",
              "          await google.colab.output.renderOutput(dataTable, element);\n",
              "          const docLink = document.createElement('div');\n",
              "          docLink.innerHTML = docLinkHtml;\n",
              "          element.appendChild(docLink);\n",
              "        }\n",
              "      </script>\n",
              "    </div>\n",
              "  </div>\n"
            ]
          },
          "metadata": {},
          "execution_count": 36
        }
      ]
    },
    {
      "cell_type": "code",
      "source": [
        "df.info()"
      ],
      "metadata": {
        "colab": {
          "base_uri": "https://localhost:8080/"
        },
        "id": "yH8vGwWqs5Kx",
        "outputId": "8e4e1d54-3720-48bc-ed8a-d67d8422bff6"
      },
      "execution_count": 37,
      "outputs": [
        {
          "output_type": "stream",
          "name": "stdout",
          "text": [
            "<class 'pandas.core.frame.DataFrame'>\n",
            "RangeIndex: 4760 entries, 0 to 4759\n",
            "Data columns (total 21 columns):\n",
            " #   Column                    Non-Null Count  Dtype  \n",
            "---  ------                    --------------  -----  \n",
            " 0   Movie_ID                  4760 non-null   int64  \n",
            " 1   Movie_Title               4760 non-null   object \n",
            " 2   Movie_Genre               4760 non-null   object \n",
            " 3   Movie_Language            4760 non-null   object \n",
            " 4   Movie_Budget              4760 non-null   int64  \n",
            " 5   Movie_Popularity          4760 non-null   float64\n",
            " 6   Movie_Release_Date        4760 non-null   object \n",
            " 7   Movie_Revenue             4760 non-null   int64  \n",
            " 8   Movie_Runtime             4758 non-null   float64\n",
            " 9   Movie_Vote                4760 non-null   float64\n",
            " 10  Movie_Vote_Count          4760 non-null   int64  \n",
            " 11  Movie_Homepage            1699 non-null   object \n",
            " 12  Movie_Keywords            4373 non-null   object \n",
            " 13  Movie_Overview            4757 non-null   object \n",
            " 14  Movie_Production_House    4760 non-null   object \n",
            " 15  Movie_Production_Country  4760 non-null   object \n",
            " 16  Movie_Spoken_Language     4760 non-null   object \n",
            " 17  Movie_Tagline             3942 non-null   object \n",
            " 18  Movie_Cast                4733 non-null   object \n",
            " 19  Movie_Crew                4760 non-null   object \n",
            " 20  Movie_Director            4738 non-null   object \n",
            "dtypes: float64(3), int64(4), object(14)\n",
            "memory usage: 781.1+ KB\n"
          ]
        }
      ]
    },
    {
      "cell_type": "code",
      "source": [
        "df.shape"
      ],
      "metadata": {
        "colab": {
          "base_uri": "https://localhost:8080/"
        },
        "id": "ZZLsx9dnvKj5",
        "outputId": "4e1b5e85-50f9-473a-8c2f-cc53633ec827"
      },
      "execution_count": 38,
      "outputs": [
        {
          "output_type": "execute_result",
          "data": {
            "text/plain": [
              "(4760, 21)"
            ]
          },
          "metadata": {},
          "execution_count": 38
        }
      ]
    },
    {
      "cell_type": "code",
      "source": [
        "df.describe()"
      ],
      "metadata": {
        "colab": {
          "base_uri": "https://localhost:8080/",
          "height": 300
        },
        "id": "urcUNViXtBpJ",
        "outputId": "aa4fc6a3-678f-4d15-d9cf-2cffe72ae25c"
      },
      "execution_count": 39,
      "outputs": [
        {
          "output_type": "execute_result",
          "data": {
            "text/plain": [
              "          Movie_ID  Movie_Budget  Movie_Popularity  Movie_Revenue  \\\n",
              "count  4760.000000  4.760000e+03       4760.000000   4.760000e+03   \n",
              "mean   2382.566387  2.920129e+07         21.599510   8.263743e+07   \n",
              "std    1377.270159  4.075620e+07         31.887919   1.630554e+08   \n",
              "min       1.000000  0.000000e+00          0.000372   0.000000e+00   \n",
              "25%    1190.750000  9.257500e+05          4.807074   0.000000e+00   \n",
              "50%    2380.500000  1.500000e+07         13.119058   1.944716e+07   \n",
              "75%    3572.250000  4.000000e+07         28.411929   9.341276e+07   \n",
              "max    4788.000000  3.800000e+08        875.581305   2.787965e+09   \n",
              "\n",
              "       Movie_Runtime   Movie_Vote  Movie_Vote_Count  \n",
              "count    4758.000000  4760.000000       4760.000000  \n",
              "mean      107.184111     6.113866        692.508403  \n",
              "std        21.960332     1.141294       1235.007337  \n",
              "min         0.000000     0.000000          0.000000  \n",
              "25%        94.000000     5.600000         55.000000  \n",
              "50%       104.000000     6.200000        238.000000  \n",
              "75%       118.000000     6.800000        740.250000  \n",
              "max       338.000000    10.000000      13752.000000  "
            ],
            "text/html": [
              "\n",
              "\n",
              "  <div id=\"df-1f16063f-3603-446c-bdec-b7b9ffae6c7b\">\n",
              "    <div class=\"colab-df-container\">\n",
              "      <div>\n",
              "<style scoped>\n",
              "    .dataframe tbody tr th:only-of-type {\n",
              "        vertical-align: middle;\n",
              "    }\n",
              "\n",
              "    .dataframe tbody tr th {\n",
              "        vertical-align: top;\n",
              "    }\n",
              "\n",
              "    .dataframe thead th {\n",
              "        text-align: right;\n",
              "    }\n",
              "</style>\n",
              "<table border=\"1\" class=\"dataframe\">\n",
              "  <thead>\n",
              "    <tr style=\"text-align: right;\">\n",
              "      <th></th>\n",
              "      <th>Movie_ID</th>\n",
              "      <th>Movie_Budget</th>\n",
              "      <th>Movie_Popularity</th>\n",
              "      <th>Movie_Revenue</th>\n",
              "      <th>Movie_Runtime</th>\n",
              "      <th>Movie_Vote</th>\n",
              "      <th>Movie_Vote_Count</th>\n",
              "    </tr>\n",
              "  </thead>\n",
              "  <tbody>\n",
              "    <tr>\n",
              "      <th>count</th>\n",
              "      <td>4760.000000</td>\n",
              "      <td>4.760000e+03</td>\n",
              "      <td>4760.000000</td>\n",
              "      <td>4.760000e+03</td>\n",
              "      <td>4758.000000</td>\n",
              "      <td>4760.000000</td>\n",
              "      <td>4760.000000</td>\n",
              "    </tr>\n",
              "    <tr>\n",
              "      <th>mean</th>\n",
              "      <td>2382.566387</td>\n",
              "      <td>2.920129e+07</td>\n",
              "      <td>21.599510</td>\n",
              "      <td>8.263743e+07</td>\n",
              "      <td>107.184111</td>\n",
              "      <td>6.113866</td>\n",
              "      <td>692.508403</td>\n",
              "    </tr>\n",
              "    <tr>\n",
              "      <th>std</th>\n",
              "      <td>1377.270159</td>\n",
              "      <td>4.075620e+07</td>\n",
              "      <td>31.887919</td>\n",
              "      <td>1.630554e+08</td>\n",
              "      <td>21.960332</td>\n",
              "      <td>1.141294</td>\n",
              "      <td>1235.007337</td>\n",
              "    </tr>\n",
              "    <tr>\n",
              "      <th>min</th>\n",
              "      <td>1.000000</td>\n",
              "      <td>0.000000e+00</td>\n",
              "      <td>0.000372</td>\n",
              "      <td>0.000000e+00</td>\n",
              "      <td>0.000000</td>\n",
              "      <td>0.000000</td>\n",
              "      <td>0.000000</td>\n",
              "    </tr>\n",
              "    <tr>\n",
              "      <th>25%</th>\n",
              "      <td>1190.750000</td>\n",
              "      <td>9.257500e+05</td>\n",
              "      <td>4.807074</td>\n",
              "      <td>0.000000e+00</td>\n",
              "      <td>94.000000</td>\n",
              "      <td>5.600000</td>\n",
              "      <td>55.000000</td>\n",
              "    </tr>\n",
              "    <tr>\n",
              "      <th>50%</th>\n",
              "      <td>2380.500000</td>\n",
              "      <td>1.500000e+07</td>\n",
              "      <td>13.119058</td>\n",
              "      <td>1.944716e+07</td>\n",
              "      <td>104.000000</td>\n",
              "      <td>6.200000</td>\n",
              "      <td>238.000000</td>\n",
              "    </tr>\n",
              "    <tr>\n",
              "      <th>75%</th>\n",
              "      <td>3572.250000</td>\n",
              "      <td>4.000000e+07</td>\n",
              "      <td>28.411929</td>\n",
              "      <td>9.341276e+07</td>\n",
              "      <td>118.000000</td>\n",
              "      <td>6.800000</td>\n",
              "      <td>740.250000</td>\n",
              "    </tr>\n",
              "    <tr>\n",
              "      <th>max</th>\n",
              "      <td>4788.000000</td>\n",
              "      <td>3.800000e+08</td>\n",
              "      <td>875.581305</td>\n",
              "      <td>2.787965e+09</td>\n",
              "      <td>338.000000</td>\n",
              "      <td>10.000000</td>\n",
              "      <td>13752.000000</td>\n",
              "    </tr>\n",
              "  </tbody>\n",
              "</table>\n",
              "</div>\n",
              "      <button class=\"colab-df-convert\" onclick=\"convertToInteractive('df-1f16063f-3603-446c-bdec-b7b9ffae6c7b')\"\n",
              "              title=\"Convert this dataframe to an interactive table.\"\n",
              "              style=\"display:none;\">\n",
              "\n",
              "  <svg xmlns=\"http://www.w3.org/2000/svg\" height=\"24px\"viewBox=\"0 0 24 24\"\n",
              "       width=\"24px\">\n",
              "    <path d=\"M0 0h24v24H0V0z\" fill=\"none\"/>\n",
              "    <path d=\"M18.56 5.44l.94 2.06.94-2.06 2.06-.94-2.06-.94-.94-2.06-.94 2.06-2.06.94zm-11 1L8.5 8.5l.94-2.06 2.06-.94-2.06-.94L8.5 2.5l-.94 2.06-2.06.94zm10 10l.94 2.06.94-2.06 2.06-.94-2.06-.94-.94-2.06-.94 2.06-2.06.94z\"/><path d=\"M17.41 7.96l-1.37-1.37c-.4-.4-.92-.59-1.43-.59-.52 0-1.04.2-1.43.59L10.3 9.45l-7.72 7.72c-.78.78-.78 2.05 0 2.83L4 21.41c.39.39.9.59 1.41.59.51 0 1.02-.2 1.41-.59l7.78-7.78 2.81-2.81c.8-.78.8-2.07 0-2.86zM5.41 20L4 18.59l7.72-7.72 1.47 1.35L5.41 20z\"/>\n",
              "  </svg>\n",
              "      </button>\n",
              "\n",
              "\n",
              "\n",
              "    <div id=\"df-d31b0d7e-fee6-45c9-8d32-63886093f99a\">\n",
              "      <button class=\"colab-df-quickchart\" onclick=\"quickchart('df-d31b0d7e-fee6-45c9-8d32-63886093f99a')\"\n",
              "              title=\"Suggest charts.\"\n",
              "              style=\"display:none;\">\n",
              "\n",
              "<svg xmlns=\"http://www.w3.org/2000/svg\" height=\"24px\"viewBox=\"0 0 24 24\"\n",
              "     width=\"24px\">\n",
              "    <g>\n",
              "        <path d=\"M19 3H5c-1.1 0-2 .9-2 2v14c0 1.1.9 2 2 2h14c1.1 0 2-.9 2-2V5c0-1.1-.9-2-2-2zM9 17H7v-7h2v7zm4 0h-2V7h2v10zm4 0h-2v-4h2v4z\"/>\n",
              "    </g>\n",
              "</svg>\n",
              "      </button>\n",
              "    </div>\n",
              "\n",
              "<style>\n",
              "  .colab-df-quickchart {\n",
              "    background-color: #E8F0FE;\n",
              "    border: none;\n",
              "    border-radius: 50%;\n",
              "    cursor: pointer;\n",
              "    display: none;\n",
              "    fill: #1967D2;\n",
              "    height: 32px;\n",
              "    padding: 0 0 0 0;\n",
              "    width: 32px;\n",
              "  }\n",
              "\n",
              "  .colab-df-quickchart:hover {\n",
              "    background-color: #E2EBFA;\n",
              "    box-shadow: 0px 1px 2px rgba(60, 64, 67, 0.3), 0px 1px 3px 1px rgba(60, 64, 67, 0.15);\n",
              "    fill: #174EA6;\n",
              "  }\n",
              "\n",
              "  [theme=dark] .colab-df-quickchart {\n",
              "    background-color: #3B4455;\n",
              "    fill: #D2E3FC;\n",
              "  }\n",
              "\n",
              "  [theme=dark] .colab-df-quickchart:hover {\n",
              "    background-color: #434B5C;\n",
              "    box-shadow: 0px 1px 3px 1px rgba(0, 0, 0, 0.15);\n",
              "    filter: drop-shadow(0px 1px 2px rgba(0, 0, 0, 0.3));\n",
              "    fill: #FFFFFF;\n",
              "  }\n",
              "</style>\n",
              "\n",
              "    <script>\n",
              "      async function quickchart(key) {\n",
              "        const containerElement = document.querySelector('#' + key);\n",
              "        const charts = await google.colab.kernel.invokeFunction(\n",
              "            'suggestCharts', [key], {});\n",
              "      }\n",
              "    </script>\n",
              "\n",
              "      <script>\n",
              "\n",
              "function displayQuickchartButton(domScope) {\n",
              "  let quickchartButtonEl =\n",
              "    domScope.querySelector('#df-d31b0d7e-fee6-45c9-8d32-63886093f99a button.colab-df-quickchart');\n",
              "  quickchartButtonEl.style.display =\n",
              "    google.colab.kernel.accessAllowed ? 'block' : 'none';\n",
              "}\n",
              "\n",
              "        displayQuickchartButton(document);\n",
              "      </script>\n",
              "      <style>\n",
              "    .colab-df-container {\n",
              "      display:flex;\n",
              "      flex-wrap:wrap;\n",
              "      gap: 12px;\n",
              "    }\n",
              "\n",
              "    .colab-df-convert {\n",
              "      background-color: #E8F0FE;\n",
              "      border: none;\n",
              "      border-radius: 50%;\n",
              "      cursor: pointer;\n",
              "      display: none;\n",
              "      fill: #1967D2;\n",
              "      height: 32px;\n",
              "      padding: 0 0 0 0;\n",
              "      width: 32px;\n",
              "    }\n",
              "\n",
              "    .colab-df-convert:hover {\n",
              "      background-color: #E2EBFA;\n",
              "      box-shadow: 0px 1px 2px rgba(60, 64, 67, 0.3), 0px 1px 3px 1px rgba(60, 64, 67, 0.15);\n",
              "      fill: #174EA6;\n",
              "    }\n",
              "\n",
              "    [theme=dark] .colab-df-convert {\n",
              "      background-color: #3B4455;\n",
              "      fill: #D2E3FC;\n",
              "    }\n",
              "\n",
              "    [theme=dark] .colab-df-convert:hover {\n",
              "      background-color: #434B5C;\n",
              "      box-shadow: 0px 1px 3px 1px rgba(0, 0, 0, 0.15);\n",
              "      filter: drop-shadow(0px 1px 2px rgba(0, 0, 0, 0.3));\n",
              "      fill: #FFFFFF;\n",
              "    }\n",
              "  </style>\n",
              "\n",
              "      <script>\n",
              "        const buttonEl =\n",
              "          document.querySelector('#df-1f16063f-3603-446c-bdec-b7b9ffae6c7b button.colab-df-convert');\n",
              "        buttonEl.style.display =\n",
              "          google.colab.kernel.accessAllowed ? 'block' : 'none';\n",
              "\n",
              "        async function convertToInteractive(key) {\n",
              "          const element = document.querySelector('#df-1f16063f-3603-446c-bdec-b7b9ffae6c7b');\n",
              "          const dataTable =\n",
              "            await google.colab.kernel.invokeFunction('convertToInteractive',\n",
              "                                                     [key], {});\n",
              "          if (!dataTable) return;\n",
              "\n",
              "          const docLinkHtml = 'Like what you see? Visit the ' +\n",
              "            '<a target=\"_blank\" href=https://colab.research.google.com/notebooks/data_table.ipynb>data table notebook</a>'\n",
              "            + ' to learn more about interactive tables.';\n",
              "          element.innerHTML = '';\n",
              "          dataTable['output_type'] = 'display_data';\n",
              "          await google.colab.output.renderOutput(dataTable, element);\n",
              "          const docLink = document.createElement('div');\n",
              "          docLink.innerHTML = docLinkHtml;\n",
              "          element.appendChild(docLink);\n",
              "        }\n",
              "      </script>\n",
              "    </div>\n",
              "  </div>\n"
            ]
          },
          "metadata": {},
          "execution_count": 39
        }
      ]
    },
    {
      "cell_type": "code",
      "source": [
        "df.columns"
      ],
      "metadata": {
        "colab": {
          "base_uri": "https://localhost:8080/"
        },
        "id": "LLrD9108tIl6",
        "outputId": "4bad2143-8161-4a1c-8570-a67421e80b8e"
      },
      "execution_count": 40,
      "outputs": [
        {
          "output_type": "execute_result",
          "data": {
            "text/plain": [
              "Index(['Movie_ID', 'Movie_Title', 'Movie_Genre', 'Movie_Language',\n",
              "       'Movie_Budget', 'Movie_Popularity', 'Movie_Release_Date',\n",
              "       'Movie_Revenue', 'Movie_Runtime', 'Movie_Vote', 'Movie_Vote_Count',\n",
              "       'Movie_Homepage', 'Movie_Keywords', 'Movie_Overview',\n",
              "       'Movie_Production_House', 'Movie_Production_Country',\n",
              "       'Movie_Spoken_Language', 'Movie_Tagline', 'Movie_Cast', 'Movie_Crew',\n",
              "       'Movie_Director'],\n",
              "      dtype='object')"
            ]
          },
          "metadata": {},
          "execution_count": 40
        }
      ]
    },
    {
      "cell_type": "code",
      "source": [
        "df.duplicated().sum()"
      ],
      "metadata": {
        "colab": {
          "base_uri": "https://localhost:8080/"
        },
        "id": "nqXsoseqtS6T",
        "outputId": "feb938e0-b247-46e9-d70e-1a39b87be94c"
      },
      "execution_count": 41,
      "outputs": [
        {
          "output_type": "execute_result",
          "data": {
            "text/plain": [
              "0"
            ]
          },
          "metadata": {},
          "execution_count": 41
        }
      ]
    },
    {
      "cell_type": "code",
      "source": [
        "df.isnull().sum()"
      ],
      "metadata": {
        "colab": {
          "base_uri": "https://localhost:8080/"
        },
        "id": "okrjtn4xtX55",
        "outputId": "cfba051c-cb4e-4c21-f2de-381bea2dc5c2"
      },
      "execution_count": 42,
      "outputs": [
        {
          "output_type": "execute_result",
          "data": {
            "text/plain": [
              "Movie_ID                       0\n",
              "Movie_Title                    0\n",
              "Movie_Genre                    0\n",
              "Movie_Language                 0\n",
              "Movie_Budget                   0\n",
              "Movie_Popularity               0\n",
              "Movie_Release_Date             0\n",
              "Movie_Revenue                  0\n",
              "Movie_Runtime                  2\n",
              "Movie_Vote                     0\n",
              "Movie_Vote_Count               0\n",
              "Movie_Homepage              3061\n",
              "Movie_Keywords               387\n",
              "Movie_Overview                 3\n",
              "Movie_Production_House         0\n",
              "Movie_Production_Country       0\n",
              "Movie_Spoken_Language          0\n",
              "Movie_Tagline                818\n",
              "Movie_Cast                    27\n",
              "Movie_Crew                     0\n",
              "Movie_Director                22\n",
              "dtype: int64"
            ]
          },
          "metadata": {},
          "execution_count": 42
        }
      ]
    },
    {
      "cell_type": "markdown",
      "source": [
        "### Doing feature selection, based on these features the movie would be recommended"
      ],
      "metadata": {
        "id": "V7K3WtGrvlIP"
      }
    },
    {
      "cell_type": "code",
      "source": [
        "df_features = df[['Movie_Genre','Movie_Keywords','Movie_Tagline','Movie_Cast','Movie_Director']].fillna('')"
      ],
      "metadata": {
        "id": "1XL1zbmAta0d"
      },
      "execution_count": 43,
      "outputs": []
    },
    {
      "cell_type": "code",
      "source": [
        "df_features.shape"
      ],
      "metadata": {
        "colab": {
          "base_uri": "https://localhost:8080/"
        },
        "id": "hxNRyZkRwXmq",
        "outputId": "6feaef6d-c398-4e42-8b56-11ae38a7d510"
      },
      "execution_count": 44,
      "outputs": [
        {
          "output_type": "execute_result",
          "data": {
            "text/plain": [
              "(4760, 5)"
            ]
          },
          "metadata": {},
          "execution_count": 44
        }
      ]
    },
    {
      "cell_type": "code",
      "source": [
        "df_features.isnull().sum()"
      ],
      "metadata": {
        "colab": {
          "base_uri": "https://localhost:8080/"
        },
        "id": "xvBey6iW82RO",
        "outputId": "4d64b1a5-7a53-4e14-8fad-281eeb581909"
      },
      "execution_count": 82,
      "outputs": [
        {
          "output_type": "execute_result",
          "data": {
            "text/plain": [
              "Movie_Genre       0\n",
              "Movie_Keywords    0\n",
              "Movie_Tagline     0\n",
              "Movie_Cast        0\n",
              "Movie_Director    0\n",
              "dtype: int64"
            ]
          },
          "metadata": {},
          "execution_count": 82
        }
      ]
    },
    {
      "cell_type": "code",
      "source": [
        "df_features.head()"
      ],
      "metadata": {
        "colab": {
          "base_uri": "https://localhost:8080/",
          "height": 250
        },
        "id": "EAseOTbkwFiP",
        "outputId": "399b4aee-307f-424c-f75b-ff32e07b22f8"
      },
      "execution_count": 45,
      "outputs": [
        {
          "output_type": "execute_result",
          "data": {
            "text/plain": [
              "                        Movie_Genre  \\\n",
              "0                      Crime Comedy   \n",
              "1  Adventure Action Science Fiction   \n",
              "2                  Animation Family   \n",
              "3              Comedy Drama Romance   \n",
              "4                             Drama   \n",
              "\n",
              "                                      Movie_Keywords  \\\n",
              "0          hotel new year's eve witch bet hotel room   \n",
              "1        android galaxy hermit death star lightsaber   \n",
              "2  father son relationship harbor underwater fish...   \n",
              "3  vietnam veteran hippie mentally disabled runni...   \n",
              "4  male nudity female nudity adultery midlife cri...   \n",
              "\n",
              "                                       Movie_Tagline  \\\n",
              "0  Twelve outrageous guests. Four scandalous requ...   \n",
              "1       A long time ago in a galaxy far, far away...   \n",
              "2  There are 3.7 trillion fish in the ocean, they...   \n",
              "3  The world will never be the same, once you've ...   \n",
              "4                                       Look closer.   \n",
              "\n",
              "                                          Movie_Cast   Movie_Director  \n",
              "0  Tim Roth Antonio Banderas Jennifer Beals Madon...   Allison Anders  \n",
              "1  Mark Hamill Harrison Ford Carrie Fisher Peter ...     George Lucas  \n",
              "2  Albert Brooks Ellen DeGeneres Alexander Gould ...   Andrew Stanton  \n",
              "3  Tom Hanks Robin Wright Gary Sinise Mykelti Wil...  Robert Zemeckis  \n",
              "4  Kevin Spacey Annette Bening Thora Birch Wes Be...       Sam Mendes  "
            ],
            "text/html": [
              "\n",
              "\n",
              "  <div id=\"df-efd929ef-bfbb-454f-8c63-2709004fff30\">\n",
              "    <div class=\"colab-df-container\">\n",
              "      <div>\n",
              "<style scoped>\n",
              "    .dataframe tbody tr th:only-of-type {\n",
              "        vertical-align: middle;\n",
              "    }\n",
              "\n",
              "    .dataframe tbody tr th {\n",
              "        vertical-align: top;\n",
              "    }\n",
              "\n",
              "    .dataframe thead th {\n",
              "        text-align: right;\n",
              "    }\n",
              "</style>\n",
              "<table border=\"1\" class=\"dataframe\">\n",
              "  <thead>\n",
              "    <tr style=\"text-align: right;\">\n",
              "      <th></th>\n",
              "      <th>Movie_Genre</th>\n",
              "      <th>Movie_Keywords</th>\n",
              "      <th>Movie_Tagline</th>\n",
              "      <th>Movie_Cast</th>\n",
              "      <th>Movie_Director</th>\n",
              "    </tr>\n",
              "  </thead>\n",
              "  <tbody>\n",
              "    <tr>\n",
              "      <th>0</th>\n",
              "      <td>Crime Comedy</td>\n",
              "      <td>hotel new year's eve witch bet hotel room</td>\n",
              "      <td>Twelve outrageous guests. Four scandalous requ...</td>\n",
              "      <td>Tim Roth Antonio Banderas Jennifer Beals Madon...</td>\n",
              "      <td>Allison Anders</td>\n",
              "    </tr>\n",
              "    <tr>\n",
              "      <th>1</th>\n",
              "      <td>Adventure Action Science Fiction</td>\n",
              "      <td>android galaxy hermit death star lightsaber</td>\n",
              "      <td>A long time ago in a galaxy far, far away...</td>\n",
              "      <td>Mark Hamill Harrison Ford Carrie Fisher Peter ...</td>\n",
              "      <td>George Lucas</td>\n",
              "    </tr>\n",
              "    <tr>\n",
              "      <th>2</th>\n",
              "      <td>Animation Family</td>\n",
              "      <td>father son relationship harbor underwater fish...</td>\n",
              "      <td>There are 3.7 trillion fish in the ocean, they...</td>\n",
              "      <td>Albert Brooks Ellen DeGeneres Alexander Gould ...</td>\n",
              "      <td>Andrew Stanton</td>\n",
              "    </tr>\n",
              "    <tr>\n",
              "      <th>3</th>\n",
              "      <td>Comedy Drama Romance</td>\n",
              "      <td>vietnam veteran hippie mentally disabled runni...</td>\n",
              "      <td>The world will never be the same, once you've ...</td>\n",
              "      <td>Tom Hanks Robin Wright Gary Sinise Mykelti Wil...</td>\n",
              "      <td>Robert Zemeckis</td>\n",
              "    </tr>\n",
              "    <tr>\n",
              "      <th>4</th>\n",
              "      <td>Drama</td>\n",
              "      <td>male nudity female nudity adultery midlife cri...</td>\n",
              "      <td>Look closer.</td>\n",
              "      <td>Kevin Spacey Annette Bening Thora Birch Wes Be...</td>\n",
              "      <td>Sam Mendes</td>\n",
              "    </tr>\n",
              "  </tbody>\n",
              "</table>\n",
              "</div>\n",
              "      <button class=\"colab-df-convert\" onclick=\"convertToInteractive('df-efd929ef-bfbb-454f-8c63-2709004fff30')\"\n",
              "              title=\"Convert this dataframe to an interactive table.\"\n",
              "              style=\"display:none;\">\n",
              "\n",
              "  <svg xmlns=\"http://www.w3.org/2000/svg\" height=\"24px\"viewBox=\"0 0 24 24\"\n",
              "       width=\"24px\">\n",
              "    <path d=\"M0 0h24v24H0V0z\" fill=\"none\"/>\n",
              "    <path d=\"M18.56 5.44l.94 2.06.94-2.06 2.06-.94-2.06-.94-.94-2.06-.94 2.06-2.06.94zm-11 1L8.5 8.5l.94-2.06 2.06-.94-2.06-.94L8.5 2.5l-.94 2.06-2.06.94zm10 10l.94 2.06.94-2.06 2.06-.94-2.06-.94-.94-2.06-.94 2.06-2.06.94z\"/><path d=\"M17.41 7.96l-1.37-1.37c-.4-.4-.92-.59-1.43-.59-.52 0-1.04.2-1.43.59L10.3 9.45l-7.72 7.72c-.78.78-.78 2.05 0 2.83L4 21.41c.39.39.9.59 1.41.59.51 0 1.02-.2 1.41-.59l7.78-7.78 2.81-2.81c.8-.78.8-2.07 0-2.86zM5.41 20L4 18.59l7.72-7.72 1.47 1.35L5.41 20z\"/>\n",
              "  </svg>\n",
              "      </button>\n",
              "\n",
              "\n",
              "\n",
              "    <div id=\"df-b4aac715-e1da-4a92-9954-57729c39a343\">\n",
              "      <button class=\"colab-df-quickchart\" onclick=\"quickchart('df-b4aac715-e1da-4a92-9954-57729c39a343')\"\n",
              "              title=\"Suggest charts.\"\n",
              "              style=\"display:none;\">\n",
              "\n",
              "<svg xmlns=\"http://www.w3.org/2000/svg\" height=\"24px\"viewBox=\"0 0 24 24\"\n",
              "     width=\"24px\">\n",
              "    <g>\n",
              "        <path d=\"M19 3H5c-1.1 0-2 .9-2 2v14c0 1.1.9 2 2 2h14c1.1 0 2-.9 2-2V5c0-1.1-.9-2-2-2zM9 17H7v-7h2v7zm4 0h-2V7h2v10zm4 0h-2v-4h2v4z\"/>\n",
              "    </g>\n",
              "</svg>\n",
              "      </button>\n",
              "    </div>\n",
              "\n",
              "<style>\n",
              "  .colab-df-quickchart {\n",
              "    background-color: #E8F0FE;\n",
              "    border: none;\n",
              "    border-radius: 50%;\n",
              "    cursor: pointer;\n",
              "    display: none;\n",
              "    fill: #1967D2;\n",
              "    height: 32px;\n",
              "    padding: 0 0 0 0;\n",
              "    width: 32px;\n",
              "  }\n",
              "\n",
              "  .colab-df-quickchart:hover {\n",
              "    background-color: #E2EBFA;\n",
              "    box-shadow: 0px 1px 2px rgba(60, 64, 67, 0.3), 0px 1px 3px 1px rgba(60, 64, 67, 0.15);\n",
              "    fill: #174EA6;\n",
              "  }\n",
              "\n",
              "  [theme=dark] .colab-df-quickchart {\n",
              "    background-color: #3B4455;\n",
              "    fill: #D2E3FC;\n",
              "  }\n",
              "\n",
              "  [theme=dark] .colab-df-quickchart:hover {\n",
              "    background-color: #434B5C;\n",
              "    box-shadow: 0px 1px 3px 1px rgba(0, 0, 0, 0.15);\n",
              "    filter: drop-shadow(0px 1px 2px rgba(0, 0, 0, 0.3));\n",
              "    fill: #FFFFFF;\n",
              "  }\n",
              "</style>\n",
              "\n",
              "    <script>\n",
              "      async function quickchart(key) {\n",
              "        const containerElement = document.querySelector('#' + key);\n",
              "        const charts = await google.colab.kernel.invokeFunction(\n",
              "            'suggestCharts', [key], {});\n",
              "      }\n",
              "    </script>\n",
              "\n",
              "      <script>\n",
              "\n",
              "function displayQuickchartButton(domScope) {\n",
              "  let quickchartButtonEl =\n",
              "    domScope.querySelector('#df-b4aac715-e1da-4a92-9954-57729c39a343 button.colab-df-quickchart');\n",
              "  quickchartButtonEl.style.display =\n",
              "    google.colab.kernel.accessAllowed ? 'block' : 'none';\n",
              "}\n",
              "\n",
              "        displayQuickchartButton(document);\n",
              "      </script>\n",
              "      <style>\n",
              "    .colab-df-container {\n",
              "      display:flex;\n",
              "      flex-wrap:wrap;\n",
              "      gap: 12px;\n",
              "    }\n",
              "\n",
              "    .colab-df-convert {\n",
              "      background-color: #E8F0FE;\n",
              "      border: none;\n",
              "      border-radius: 50%;\n",
              "      cursor: pointer;\n",
              "      display: none;\n",
              "      fill: #1967D2;\n",
              "      height: 32px;\n",
              "      padding: 0 0 0 0;\n",
              "      width: 32px;\n",
              "    }\n",
              "\n",
              "    .colab-df-convert:hover {\n",
              "      background-color: #E2EBFA;\n",
              "      box-shadow: 0px 1px 2px rgba(60, 64, 67, 0.3), 0px 1px 3px 1px rgba(60, 64, 67, 0.15);\n",
              "      fill: #174EA6;\n",
              "    }\n",
              "\n",
              "    [theme=dark] .colab-df-convert {\n",
              "      background-color: #3B4455;\n",
              "      fill: #D2E3FC;\n",
              "    }\n",
              "\n",
              "    [theme=dark] .colab-df-convert:hover {\n",
              "      background-color: #434B5C;\n",
              "      box-shadow: 0px 1px 3px 1px rgba(0, 0, 0, 0.15);\n",
              "      filter: drop-shadow(0px 1px 2px rgba(0, 0, 0, 0.3));\n",
              "      fill: #FFFFFF;\n",
              "    }\n",
              "  </style>\n",
              "\n",
              "      <script>\n",
              "        const buttonEl =\n",
              "          document.querySelector('#df-efd929ef-bfbb-454f-8c63-2709004fff30 button.colab-df-convert');\n",
              "        buttonEl.style.display =\n",
              "          google.colab.kernel.accessAllowed ? 'block' : 'none';\n",
              "\n",
              "        async function convertToInteractive(key) {\n",
              "          const element = document.querySelector('#df-efd929ef-bfbb-454f-8c63-2709004fff30');\n",
              "          const dataTable =\n",
              "            await google.colab.kernel.invokeFunction('convertToInteractive',\n",
              "                                                     [key], {});\n",
              "          if (!dataTable) return;\n",
              "\n",
              "          const docLinkHtml = 'Like what you see? Visit the ' +\n",
              "            '<a target=\"_blank\" href=https://colab.research.google.com/notebooks/data_table.ipynb>data table notebook</a>'\n",
              "            + ' to learn more about interactive tables.';\n",
              "          element.innerHTML = '';\n",
              "          dataTable['output_type'] = 'display_data';\n",
              "          await google.colab.output.renderOutput(dataTable, element);\n",
              "          const docLink = document.createElement('div');\n",
              "          docLink.innerHTML = docLinkHtml;\n",
              "          element.appendChild(docLink);\n",
              "        }\n",
              "      </script>\n",
              "    </div>\n",
              "  </div>\n"
            ]
          },
          "metadata": {},
          "execution_count": 45
        }
      ]
    },
    {
      "cell_type": "markdown",
      "source": [
        "### Combining all the columns which were stored in a single dataframe called df_features. we use + '' + to concatenate"
      ],
      "metadata": {
        "id": "g5bxB1q7x8ZO"
      }
    },
    {
      "cell_type": "code",
      "source": [
        "X = df_features['Movie_Genre'] + '' + df_features['Movie_Keywords'] + '' + df_features['Movie_Tagline'] + '' +  df_features['Movie_Cast'] + '' +  df_features['Movie_Director']"
      ],
      "metadata": {
        "id": "WwUqYLPWwJ00"
      },
      "execution_count": 46,
      "outputs": []
    },
    {
      "cell_type": "code",
      "source": [
        "X"
      ],
      "metadata": {
        "colab": {
          "base_uri": "https://localhost:8080/"
        },
        "id": "NDJxREuSxhn_",
        "outputId": "26c36750-677f-49ed-cb34-74384a634c48"
      },
      "execution_count": 47,
      "outputs": [
        {
          "output_type": "execute_result",
          "data": {
            "text/plain": [
              "0       Crime Comedyhotel new year's eve witch bet hot...\n",
              "1       Adventure Action Science Fictionandroid galaxy...\n",
              "2       Animation Familyfather son relationship harbor...\n",
              "3       Comedy Drama Romancevietnam veteran hippie men...\n",
              "4       Dramamale nudity female nudity adultery midlif...\n",
              "                              ...                        \n",
              "4755    HorrorThe hot spot where Satan's waitin'.Lisa ...\n",
              "4756    Comedy Family DramaIt’s better to stand out th...\n",
              "4757    Thriller Dramachristian film sex traffickingSh...\n",
              "4758                                               Family\n",
              "4759    Documentarymusic actors legendary perfomer cla...\n",
              "Length: 4760, dtype: object"
            ]
          },
          "metadata": {},
          "execution_count": 47
        }
      ]
    },
    {
      "cell_type": "code",
      "source": [
        "X.shape"
      ],
      "metadata": {
        "colab": {
          "base_uri": "https://localhost:8080/"
        },
        "id": "BzKTtjIexjuW",
        "outputId": "b95d485a-b65e-4158-9df7-97f7cb3c82b5"
      },
      "execution_count": 48,
      "outputs": [
        {
          "output_type": "execute_result",
          "data": {
            "text/plain": [
              "(4760,)"
            ]
          },
          "metadata": {},
          "execution_count": 48
        }
      ]
    },
    {
      "cell_type": "markdown",
      "source": [
        "## Get feature text conversion to tokens\n",
        "Here we import text from sklearn.feature_extraction library then TfidfVectorizer(Term Frequency-Inverse Document Frequency). It helps in Converting all the documents or other words into numerical features which machine learning algorithms can understand. It calculates how frequently words appear in a document and across multiple documents, taking into consideration the importance of words that are unique to certain documents and common words that appear in many documents. This allows you to represent textual data in a format that can be used for training machine learning models.\n",
        "\n",
        "\n",
        "\n",
        "\n"
      ],
      "metadata": {
        "id": "duDjVEIMyRdy"
      }
    },
    {
      "cell_type": "code",
      "source": [
        "from sklearn.feature_extraction.text import TfidfVectorizer"
      ],
      "metadata": {
        "id": "i0b04RLzx6yl"
      },
      "execution_count": 49,
      "outputs": []
    },
    {
      "cell_type": "code",
      "source": [
        "tfidf = TfidfVectorizer()"
      ],
      "metadata": {
        "id": "e7BhWZGCyizx"
      },
      "execution_count": 50,
      "outputs": []
    },
    {
      "cell_type": "code",
      "source": [
        "X = tfidf.fit_transform(X)"
      ],
      "metadata": {
        "id": "WAFw1dj7yp3N"
      },
      "execution_count": 51,
      "outputs": []
    },
    {
      "cell_type": "code",
      "source": [
        "X.shape"
      ],
      "metadata": {
        "colab": {
          "base_uri": "https://localhost:8080/"
        },
        "id": "S15IsWyjzEXw",
        "outputId": "768787ed-007e-436a-86bf-27f717fbdf4b"
      },
      "execution_count": 52,
      "outputs": [
        {
          "output_type": "execute_result",
          "data": {
            "text/plain": [
              "(4760, 27466)"
            ]
          },
          "metadata": {},
          "execution_count": 52
        }
      ]
    },
    {
      "cell_type": "code",
      "source": [
        "print(X)"
      ],
      "metadata": {
        "colab": {
          "base_uri": "https://localhost:8080/"
        },
        "id": "K9AuQ_LXzG5u",
        "outputId": "99d75adc-2530-452d-c4c1-6703f86cb446"
      },
      "execution_count": 53,
      "outputs": [
        {
          "output_type": "stream",
          "name": "stdout",
          "text": [
            "  (0, 1028)\t0.16196019146631543\n",
            "  (0, 24785)\t0.1954632929283795\n",
            "  (0, 15844)\t0.14205053053187272\n",
            "  (0, 15553)\t0.17099186675469502\n",
            "  (0, 2132)\t0.18002354204307464\n",
            "  (0, 13312)\t0.09914387783149516\n",
            "  (0, 1887)\t0.14106037409792174\n",
            "  (0, 1216)\t0.13920306109638164\n",
            "  (0, 21158)\t0.14205053053187272\n",
            "  (0, 24701)\t0.11357423942624927\n",
            "  (0, 14943)\t0.091376722056839\n",
            "  (0, 18098)\t0.06200430666985742\n",
            "  (0, 26738)\t0.175053052455033\n",
            "  (0, 9790)\t0.08712552095655665\n",
            "  (0, 26675)\t0.1116831168780693\n",
            "  (0, 13401)\t0.13748876529263096\n",
            "  (0, 24105)\t0.10726395493180996\n",
            "  (0, 18192)\t0.07278761942152372\n",
            "  (0, 6172)\t0.11970212451073885\n",
            "  (0, 9626)\t0.11757910435818826\n",
            "  (0, 11960)\t0.20134029899961134\n",
            "  (0, 12801)\t0.1530338818199682\n",
            "  (0, 2292)\t0.1954632929283795\n",
            "  (0, 15172)\t0.1537691763994982\n",
            "  (0, 18196)\t0.08579029869987485\n",
            "  :\t:\n",
            "  (4757, 1839)\t0.19327629083107672\n",
            "  (4757, 5410)\t0.19734759150400596\n",
            "  (4757, 11350)\t0.21582294886514122\n",
            "  (4757, 22017)\t0.1646400247918531\n",
            "  (4757, 17789)\t0.18881341937258544\n",
            "  (4757, 9484)\t0.1411164779725638\n",
            "  (4757, 14176)\t0.2330831990045816\n",
            "  (4757, 11762)\t0.17321388936472645\n",
            "  (4757, 14052)\t0.1776312353410007\n",
            "  (4757, 24232)\t0.10947784435203887\n",
            "  (4757, 24746)\t0.09744940789814222\n",
            "  (4757, 13079)\t0.12400374714145113\n",
            "  (4757, 17721)\t0.1489085353667712\n",
            "  (4758, 8651)\t1.0\n",
            "  (4759, 18229)\t0.33527342183765224\n",
            "  (4759, 22434)\t0.33527342183765224\n",
            "  (4759, 18841)\t0.33527342183765224\n",
            "  (4759, 6950)\t0.33527342183765224\n",
            "  (4759, 345)\t0.31978160936741457\n",
            "  (4759, 14742)\t0.31978160936741457\n",
            "  (4759, 12139)\t0.2778063685558062\n",
            "  (4759, 4446)\t0.282306565154911\n",
            "  (4759, 17552)\t0.3087899934962816\n",
            "  (4759, 9955)\t0.21805075638656476\n",
            "  (4759, 2285)\t0.21465229435984196\n"
          ]
        }
      ]
    },
    {
      "cell_type": "markdown",
      "source": [
        "## Get Similarity Score using Cosine Similarity\n",
        "\n",
        "|| cosine_similarity computes the L2-normalized dot product of vectors. Euclidean(L2) normalization projects the vectors unto the unit sphere, and their dot product is then the cosine of the angle between the points denoted by the vectors.||\n",
        "Thus, here whatever the documents we converted into numerical features using (TfidfVectorizer). Here we access pairwise from sklearn.metrics and then from pairwise we import cosine_similarity which tells use what is the similarity between the similarity between pairs of vectors.It's often used to compare the similarity of documents, items, or other kinds of data points. Higher cosine similarity values indicate greater similarity between vectors, while lower values indicate less similarity."
      ],
      "metadata": {
        "id": "bbL3Wa_EzY16"
      }
    },
    {
      "cell_type": "code",
      "source": [
        "from sklearn.metrics.pairwise import cosine_similarity"
      ],
      "metadata": {
        "id": "h5d8c54JzLk6"
      },
      "execution_count": 54,
      "outputs": []
    },
    {
      "cell_type": "code",
      "source": [
        "Similarity_score = cosine_similarity(X)"
      ],
      "metadata": {
        "id": "wZCVvK8w0NG_"
      },
      "execution_count": 55,
      "outputs": []
    },
    {
      "cell_type": "code",
      "source": [
        "Similarity_score"
      ],
      "metadata": {
        "colab": {
          "base_uri": "https://localhost:8080/"
        },
        "id": "YhQAUUZD1JYX",
        "outputId": "51009df9-0bbb-482a-ec1d-baa8d0a58e66"
      },
      "execution_count": 56,
      "outputs": [
        {
          "output_type": "execute_result",
          "data": {
            "text/plain": [
              "array([[1.        , 0.01438634, 0.03807033, ..., 0.        , 0.        ,\n",
              "        0.        ],\n",
              "       [0.01438634, 1.        , 0.00844858, ..., 0.        , 0.        ,\n",
              "        0.        ],\n",
              "       [0.03807033, 0.00844858, 1.        , ..., 0.        , 0.        ,\n",
              "        0.        ],\n",
              "       ...,\n",
              "       [0.        , 0.        , 0.        , ..., 1.        , 0.        ,\n",
              "        0.        ],\n",
              "       [0.        , 0.        , 0.        , ..., 0.        , 1.        ,\n",
              "        0.        ],\n",
              "       [0.        , 0.        , 0.        , ..., 0.        , 0.        ,\n",
              "        1.        ]])"
            ]
          },
          "metadata": {},
          "execution_count": 56
        }
      ]
    },
    {
      "cell_type": "markdown",
      "source": [
        "###  The shape of X and the shape of the resulting Similarity_score matrix are the same because you're calculating similarity scores between all pairs of rows in the original X matrix."
      ],
      "metadata": {
        "id": "1GUcK1di3JWr"
      }
    },
    {
      "cell_type": "code",
      "source": [
        "Similarity_score.shape"
      ],
      "metadata": {
        "colab": {
          "base_uri": "https://localhost:8080/"
        },
        "id": "VfQI9Nkz1L5r",
        "outputId": "39795436-079c-46ef-b7b4-7ad169e134a3"
      },
      "execution_count": 57,
      "outputs": [
        {
          "output_type": "execute_result",
          "data": {
            "text/plain": [
              "(4760, 4760)"
            ]
          },
          "metadata": {},
          "execution_count": 57
        }
      ]
    },
    {
      "cell_type": "markdown",
      "source": [
        "## Get Movie Name as Input from the User and Validate for the Closest Spelling"
      ],
      "metadata": {
        "id": "TfqyjXcD3Rkz"
      }
    },
    {
      "cell_type": "code",
      "source": [
        "fav_movie_name = input (\"Enter your favourite movie name\")"
      ],
      "metadata": {
        "colab": {
          "base_uri": "https://localhost:8080/"
        },
        "id": "fTqB9I5X24qt",
        "outputId": "30be2ab4-f358-495e-ab94-655cf005dca4"
      },
      "execution_count": 72,
      "outputs": [
        {
          "name": "stdout",
          "output_type": "stream",
          "text": [
            "Enter your favourite movie nameInterstellar\n"
          ]
        }
      ]
    },
    {
      "cell_type": "code",
      "source": [
        "# used to extract the values from the \"Movie_Title\" column of a DataFrame df and convert them into a Python list.\n",
        "All_Movies_Title_List = df['Movie_Title'].tolist()"
      ],
      "metadata": {
        "id": "2XPERHHh3jfi"
      },
      "execution_count": 73,
      "outputs": []
    },
    {
      "cell_type": "code",
      "source": [
        "#The difflib module in Python provides tools for comparing sequences, such as strings, and generating differences between them\n",
        "import difflib"
      ],
      "metadata": {
        "id": "CuwxNBuc3y9t"
      },
      "execution_count": 74,
      "outputs": []
    },
    {
      "cell_type": "code",
      "source": [
        "#difflib.get_close_matches(): This function is used to find the closest matches in a list of strings for a given target string. It's often used for tasks like suggesting corrections for misspelled words.\n",
        "#difflib.Sequence\n",
        "Movie_Recommendation = difflib.get_close_matches(fav_movie_name,All_Movies_Title_List)\n",
        "print(Movie_Recommendation)"
      ],
      "metadata": {
        "colab": {
          "base_uri": "https://localhost:8080/"
        },
        "id": "2QaIhykS31Ik",
        "outputId": "d4b894d7-e0ca-4611-f832-9ad2f64857cb"
      },
      "execution_count": 75,
      "outputs": [
        {
          "output_type": "stream",
          "name": "stdout",
          "text": [
            "['Interstellar', 'Cinderella']\n"
          ]
        }
      ]
    },
    {
      "cell_type": "code",
      "source": [
        "# Movie_Recommendation is a list, and you're trying to access its first element using the index [0]\n",
        "Close_Match=Movie_Recommendation[0]\n",
        "print(Close_Match)"
      ],
      "metadata": {
        "colab": {
          "base_uri": "https://localhost:8080/"
        },
        "id": "Fb-0wb_E4Hl-",
        "outputId": "232fe4cf-fc5e-4e9b-d27d-4d7624d4efb6"
      },
      "execution_count": 76,
      "outputs": [
        {
          "output_type": "stream",
          "name": "stdout",
          "text": [
            "Interstellar\n"
          ]
        }
      ]
    },
    {
      "cell_type": "code",
      "source": [
        "Index_of_Close_Match_Movie = df[df.Movie_Title == Close_Match]['Movie_ID'].values[0]\n",
        "print(Index_of_Close_Match_Movie)"
      ],
      "metadata": {
        "colab": {
          "base_uri": "https://localhost:8080/"
        },
        "id": "EtfArQhQ4Qaj",
        "outputId": "8243c74f-7e69-414d-d5ac-3ee69dbca457"
      },
      "execution_count": 77,
      "outputs": [
        {
          "output_type": "stream",
          "name": "stdout",
          "text": [
            "4157\n"
          ]
        }
      ]
    },
    {
      "cell_type": "code",
      "source": [
        "#getting list of similar movies\n",
        "Recommendation_Score = list(enumerate(Similarity_score[Index_of_Close_Match_Movie]))\n",
        "print(Recommendation_Score)"
      ],
      "metadata": {
        "colab": {
          "base_uri": "https://localhost:8080/"
        },
        "id": "gk7tUUuw401J",
        "outputId": "c05cd876-8952-4183-fa6f-8e17886ec34b"
      },
      "execution_count": 78,
      "outputs": [
        {
          "output_type": "stream",
          "name": "stdout",
          "text": [
            "[(0, 0.007752588629594665), (1, 0.0), (2, 0.004552816692471235), (3, 0.021769613238053136), (4, 0.0), (5, 0.0), (6, 0.0), (7, 0.011948151543685077), (8, 0.0), (9, 0.004983106192339749), (10, 0.005692292411876828), (11, 0.005499511293205847), (12, 0.005824295006243212), (13, 0.013101740136529413), (14, 0.01588766819406767), (15, 0.0), (16, 0.0), (17, 0.0), (18, 0.004942417503642966), (19, 0.0), (20, 0.0), (21, 0.0), (22, 0.0), (23, 0.0), (24, 0.0), (25, 0.030699917529386743), (26, 0.0), (27, 0.0), (28, 0.005383041455759213), (29, 0.00512940794362319), (30, 0.0), (31, 0.016950454426977637), (32, 0.013742447050691255), (33, 0.004720721237510168), (34, 0.020759312712180147), (35, 0.014739186461132921), (36, 0.016219663180150744), (37, 0.00959230290185483), (38, 0.0), (39, 0.03406664116123051), (40, 0.0), (41, 0.015981961740282703), (42, 0.0), (43, 0.0), (44, 0.0), (45, 0.004973941017441337), (46, 0.0), (47, 0.0), (48, 0.0), (49, 0.0), (50, 0.0), (51, 0.0), (52, 0.0), (53, 0.011189480104241603), (54, 0.0), (55, 0.0), (56, 0.0053777873345155595), (57, 0.008940246193011894), (58, 0.0), (59, 0.0), (60, 0.004592300782575528), (61, 0.0), (62, 0.0), (63, 0.0), (64, 0.004635363433875551), (65, 0.0), (66, 0.0), (67, 0.014359963586894342), (68, 0.0), (69, 0.0), (70, 0.0), (71, 0.0), (72, 0.005143417836093551), (73, 0.011156394081899166), (74, 0.011226878632578619), (75, 0.014036542666052603), (76, 0.0), (77, 0.0), (78, 0.0170617121402359), (79, 0.019271592414788364), (80, 0.016080394063223053), (81, 0.0), (82, 0.00836334702207021), (83, 0.02836143931751025), (84, 0.0), (85, 0.0), (86, 0.0045484993436917), (87, 0.0), (88, 0.004391972013381948), (89, 0.0), (90, 0.0), (91, 0.015057969568997524), (92, 0.0), (93, 0.0), (94, 0.01661931755385831), (95, 0.0), (96, 0.004981168255819984), (97, 0.030799131576515225), (98, 0.0), (99, 0.0), (100, 0.01611514930243795), (101, 0.005601145760626099), (102, 0.005727417013474012), (103, 0.0), (104, 0.0), (105, 0.0052403753674521575), (106, 0.00417216766593049), (107, 0.0), (108, 0.0150374562255194), (109, 0.0), (110, 0.0), (111, 0.0), (112, 0.005170714456526551), (113, 0.0), (114, 0.0), (115, 0.0), (116, 0.014056719388579015), (117, 0.011767688939099562), (118, 0.0), (119, 0.005099805167628552), (120, 0.0), (121, 0.0), (122, 0.009640880545586424), (123, 0.005611004911470846), (124, 0.0096873431410366), (125, 0.0), (126, 0.0), (127, 0.0), (128, 0.0), (129, 0.012684508171751015), (130, 0.014246061010035007), (131, 0.0), (132, 0.0), (133, 0.0), (134, 0.0), (135, 0.01992070413063493), (136, 0.0), (137, 0.005418987742996871), (138, 0.023985804312276995), (139, 0.0), (140, 0.0), (141, 0.0), (142, 0.0), (143, 0.0), (144, 0.0), (145, 0.0), (146, 0.012870187366820905), (147, 0.0), (148, 0.004769067897793509), (149, 0.0), (150, 0.005235282897410462), (151, 0.018755842108215216), (152, 0.005174957237609383), (153, 0.0), (154, 0.0), (155, 0.0), (156, 0.0), (157, 0.0), (158, 0.0), (159, 0.004276812715139886), (160, 0.0), (161, 0.0), (162, 0.011392561201675443), (163, 0.016001829989430446), (164, 0.0), (165, 0.00918656627562696), (166, 0.031755656508546524), (167, 0.0), (168, 0.0042424263237895955), (169, 0.005397556501335936), (170, 0.004938380463085086), (171, 0.005173076008736306), (172, 0.0), (173, 0.0), (174, 0.0), (175, 0.0), (176, 0.0), (177, 0.004501357385233152), (178, 0.0), (179, 0.03355433372939235), (180, 0.030094679504918665), (181, 0.0), (182, 0.005310715009575836), (183, 0.0), (184, 0.004816076185818364), (185, 0.011187174557404235), (186, 0.004519891977773546), (187, 0.0), (188, 0.011707637828751963), (189, 0.020641603253582937), (190, 0.0), (191, 0.004763291837999578), (192, 0.0055496410820126294), (193, 0.0), (194, 0.0), (195, 0.004536090812237514), (196, 0.049846156603302924), (197, 0.0), (198, 0.0), (199, 0.0), (200, 0.0137566987682869), (201, 0.0055164258014429035), (202, 0.0069627692766403935), (203, 0.0), (204, 0.0), (205, 0.0), (206, 0.0), (207, 0.0201760830941303), (208, 0.0), (209, 0.0), (210, 0.0), (211, 0.0), (212, 0.019568459972589835), (213, 0.0), (214, 0.009833388267777167), (215, 0.005049848195456055), (216, 0.005470422077525905), (217, 0.0), (218, 0.013668191106644361), (219, 0.0), (220, 0.00546982823641428), (221, 0.010149534069940699), (222, 0.009339298511463933), (223, 0.005142849458356261), (224, 0.024580521701552362), (225, 0.0061387667387023245), (226, 0.0), (227, 0.0), (228, 0.008076197473958288), (229, 0.0), (230, 0.0), (231, 0.0523603895511799), (232, 0.0), (233, 0.0), (234, 0.0), (235, 0.0), (236, 0.0), (237, 0.00427876397572211), (238, 0.0), (239, 0.005508063201887468), (240, 0.004960078091375158), (241, 0.0), (242, 0.0), (243, 0.007519769186333507), (244, 0.0), (245, 0.0), (246, 0.028670186212826358), (247, 0.0), (248, 0.0), (249, 0.00927447353095072), (250, 0.03638719512395057), (251, 0.009345810169353711), (252, 0.0), (253, 0.0), (254, 0.0), (255, 0.0), (256, 0.0), (257, 0.01065476337366301), (258, 0.015120854954091809), (259, 0.010650606228142664), (260, 0.005220824944925278), (261, 0.04028291240666656), (262, 0.0), (263, 0.029351839725104745), (264, 0.020377518023272954), (265, 0.0), (266, 0.008146641593463448), (267, 0.026745101110176635), (268, 0.0), (269, 0.013604455179401757), (270, 0.0), (271, 0.038206154456554994), (272, 0.005537963148711721), (273, 0.04721443502160946), (274, 0.0), (275, 0.0), (276, 0.0), (277, 0.0195410594059221), (278, 0.0), (279, 0.004885549209126301), (280, 0.0), (281, 0.0), (282, 0.0), (283, 0.01280800433184179), (284, 0.023238493215950333), (285, 0.0), (286, 0.0), (287, 0.010163297072270953), (288, 0.021031058242981605), (289, 0.0), (290, 0.0), (291, 0.004875805112907372), (292, 0.0), (293, 0.003876304690363525), (294, 0.004182322817800761), (295, 0.0), (296, 0.0), (297, 0.011105496240680704), (298, 0.0055438121250810666), (299, 0.005322662403256706), (300, 0.0), (301, 0.017864605453975717), (302, 0.0), (303, 0.0), (304, 0.0), (305, 0.0), (306, 0.0048732058314259), (307, 0.028774402650251284), (308, 0.014160815067701586), (309, 0.004300944504572909), (310, 0.010196068494568954), (311, 0.0), (312, 0.012331135261520342), (313, 0.0), (314, 0.0), (315, 0.0), (316, 0.018207973088516988), (317, 0.0), (318, 0.0), (319, 0.004346656372249854), (320, 0.0), (321, 0.0), (322, 0.0), (323, 0.0), (324, 0.004850408290128007), (325, 0.0), (326, 0.0), (327, 0.004809922062734964), (328, 0.01055850682113781), (329, 0.0), (330, 0.007407622953196171), (331, 0.0), (332, 0.0), (333, 0.0), (334, 0.0171659015476308), (335, 0.011438105248152053), (336, 0.007883918098995881), (337, 0.0), (338, 0.0459715899161297), (339, 0.0), (340, 0.0), (341, 0.04022954064855965), (342, 0.005646252269034373), (343, 0.01907335475113036), (344, 0.03052747655434101), (345, 0.01620964034981659), (346, 0.028808218557399276), (347, 0.00528128969895101), (348, 0.0051861188125232206), (349, 0.0), (350, 0.0), (351, 0.0), (352, 0.004835735436782039), (353, 0.0), (354, 0.03651349521512297), (355, 0.0), (356, 0.005015011599800719), (357, 0.009439235092491812), (358, 0.0), (359, 0.0), (360, 0.0), (361, 0.012463055319034036), (362, 0.012805932129706274), (363, 0.0), (364, 0.0), (365, 0.013314148342923092), (366, 0.0), (367, 0.0), (368, 0.0060764971345141075), (369, 0.004109890298182364), (370, 0.0), (371, 0.0), (372, 0.018914190240238854), (373, 0.0), (374, 0.0), (375, 0.0), (376, 0.05227340684938946), (377, 0.0), (378, 0.0), (379, 0.0), (380, 0.005907572638474987), (381, 0.004292628187127561), (382, 0.0), (383, 0.0), (384, 0.0), (385, 0.0), (386, 0.0), (387, 0.0), (388, 0.00502873635096868), (389, 0.0), (390, 0.0), (391, 0.0), (392, 0.0), (393, 0.0), (394, 0.014952357284593373), (395, 0.015581231472415571), (396, 0.0), (397, 0.0), (398, 0.0), (399, 0.02919764800634779), (400, 0.019336258967297588), (401, 0.0), (402, 0.0), (403, 0.009175322973090407), (404, 0.011843760239531625), (405, 0.012487065417359958), (406, 0.0), (407, 0.02228756322182955), (408, 0.021985766398259162), (409, 0.005010708468005528), (410, 0.03718900072881654), (411, 0.018747320593951438), (412, 0.008606113543584913), (413, 0.0123390165872395), (414, 0.0), (415, 0.0), (416, 0.0), (417, 0.0), (418, 0.005589451710316479), (419, 0.0), (420, 0.0), (421, 0.009589749174039397), (422, 0.0), (423, 0.012016119055274868), (424, 0.005955445235297915), (425, 0.005963656083918089), (426, 0.0), (427, 0.005253036173939606), (428, 0.009684171473631476), (429, 0.0), (430, 0.0), (431, 0.0), (432, 0.0), (433, 0.012083166885103542), (434, 0.0), (435, 0.0), (436, 0.0), (437, 0.0), (438, 0.0), (439, 0.005226543051149297), (440, 0.0), (441, 0.008956936387159855), (442, 0.05300387452286358), (443, 0.0), (444, 0.015595289919053242), (445, 0.0), (446, 0.0), (447, 0.0), (448, 0.006227931328447081), (449, 0.0), (450, 0.0), (451, 0.0), (452, 0.008121481997758393), (453, 0.0), (454, 0.0048668231224310195), (455, 0.0), (456, 0.0156987291410959), (457, 0.0), (458, 0.0), (459, 0.02984145782362201), (460, 0.010411112023653621), (461, 0.0), (462, 0.0), (463, 0.0), (464, 0.0), (465, 0.0), (466, 0.0), (467, 0.0), (468, 0.0), (469, 0.004376645818626734), (470, 0.028191688368422396), (471, 0.0), (472, 0.005582090083910469), (473, 0.0), (474, 0.0), (475, 0.15481427523761843), (476, 0.0), (477, 0.018993656532422902), (478, 0.0), (479, 0.0), (480, 0.0), (481, 0.01605880804486733), (482, 0.0), (483, 0.0053925488841442375), (484, 0.022647294348021166), (485, 0.0), (486, 0.0050061297511433366), (487, 0.0), (488, 0.0), (489, 0.0), (490, 0.011826446315315377), (491, 0.006269311203012706), (492, 0.004983422370844271), (493, 0.0), (494, 0.0), (495, 0.004810408518130835), (496, 0.013860402005830235), (497, 0.004661665607138059), (498, 0.012011333556785655), (499, 0.0), (500, 0.010054023335932069), (501, 0.0), (502, 0.0), (503, 0.0), (504, 0.00538129449597007), (505, 0.0), (506, 0.032030214495655365), (507, 0.005149625722798249), (508, 0.018943573330134945), (509, 0.0), (510, 0.004212751822230881), (511, 0.015853811603275755), (512, 0.0), (513, 0.0), (514, 0.0), (515, 0.0), (516, 0.0), (517, 0.11687782863405907), (518, 0.0), (519, 0.010679052345916653), (520, 0.0), (521, 0.005291282609058076), (522, 0.011640248793829381), (523, 0.005389008304434311), (524, 0.009731523181955129), (525, 0.005446886322722523), (526, 0.0), (527, 0.01916132111134494), (528, 0.012037743633367525), (529, 0.005322213947450762), (530, 0.010287180166678057), (531, 0.0), (532, 0.0), (533, 0.0), (534, 0.0), (535, 0.0), (536, 0.0), (537, 0.016355867638663674), (538, 0.009238381174181973), (539, 0.0), (540, 0.00998238189700602), (541, 0.0), (542, 0.0), (543, 0.0), (544, 0.0), (545, 0.004611312824864766), (546, 0.011266075384802452), (547, 0.0), (548, 0.0), (549, 0.004989611779731537), (550, 0.0), (551, 0.0), (552, 0.0), (553, 0.0076091193883951165), (554, 0.0175861459024426), (555, 0.01760448086848338), (556, 0.0), (557, 0.0), (558, 0.0), (559, 0.0), (560, 0.005362263396727773), (561, 0.01585491790255719), (562, 0.015641784980709113), (563, 0.02717323483057861), (564, 0.0), (565, 0.0), (566, 0.009125216379379316), (567, 0.0), (568, 0.005105069096454037), (569, 0.004850799270579309), (570, 0.0), (571, 0.0), (572, 0.0), (573, 0.0), (574, 0.0), (575, 0.018478684846026005), (576, 0.013231199506669313), (577, 0.01835152508902973), (578, 0.0), (579, 0.020209093322880328), (580, 0.04938502283978402), (581, 0.0), (582, 0.0), (583, 0.004792947754204753), (584, 0.015612878603253477), (585, 0.005381624155521825), (586, 0.0), (587, 0.0), (588, 0.01515162905210046), (589, 0.0), (590, 0.0), (591, 0.0), (592, 0.0), (593, 0.0), (594, 0.009889875229593205), (595, 0.0), (596, 0.0), (597, 0.014167019064708939), (598, 0.0), (599, 0.0), (600, 0.0), (601, 0.04760574264026833), (602, 0.0), (603, 0.0), (604, 0.0), (605, 0.0), (606, 0.0), (607, 0.023349323865915622), (608, 0.0), (609, 0.017100895619555637), (610, 0.005284046876495845), (611, 0.0), (612, 0.0), (613, 0.005202866283435516), (614, 0.006087605736674058), (615, 0.0), (616, 0.024597290915228175), (617, 0.013025540168773157), (618, 0.005130247730306966), (619, 0.0), (620, 0.02851011248576128), (621, 0.012522667804180028), (622, 0.0), (623, 0.0), (624, 0.0), (625, 0.0), (626, 0.0), (627, 0.0), (628, 0.017748462329575387), (629, 0.0), (630, 0.0), (631, 0.020205692885536), (632, 0.0), (633, 0.0), (634, 0.014804411331885769), (635, 0.011543691614606388), (636, 0.0), (637, 0.0), (638, 0.0), (639, 0.004486576037680307), (640, 0.009246601759919076), (641, 0.0), (642, 0.0), (643, 0.005039253585139053), (644, 0.0), (645, 0.0), (646, 0.0), (647, 0.0), (648, 0.0), (649, 0.0), (650, 0.0), (651, 0.0), (652, 0.0), (653, 0.022294972747584216), (654, 0.0), (655, 0.0), (656, 0.015365586010201842), (657, 0.03155403375164234), (658, 0.0), (659, 0.0), (660, 0.0), (661, 0.016943401122597932), (662, 0.011575195382683083), (663, 0.0), (664, 0.02089951448990449), (665, 0.011750293972663146), (666, 0.0058313879196310965), (667, 0.0), (668, 0.01602546629933467), (669, 0.0), (670, 0.0), (671, 0.0), (672, 0.0), (673, 0.0), (674, 0.0), (675, 0.0), (676, 0.0), (677, 0.005716880568446551), (678, 0.0), (679, 0.0), (680, 0.0), (681, 0.12136285856205034), (682, 0.0), (683, 0.005782928864950906), (684, 0.012357567804136771), (685, 0.005400105453382826), (686, 0.029783684304176203), (687, 0.0058390625488411695), (688, 0.0), (689, 0.0), (690, 0.005093508984771661), (691, 0.018539242778650503), (692, 0.008963560961977776), (693, 0.0), (694, 0.0), (695, 0.0), (696, 0.0), (697, 0.0), (698, 0.0), (699, 0.022499670967411733), (700, 0.050882467917480995), (701, 0.005913922773605543), (702, 0.0), (703, 0.0), (704, 0.005594334944815787), (705, 0.0), (706, 0.023240433393786286), (707, 0.016751891737627634), (708, 0.0), (709, 0.0), (710, 0.0), (711, 0.0), (712, 0.010348316440636317), (713, 0.09988006476951175), (714, 0.0), (715, 0.012832510886791784), (716, 0.0), (717, 0.018016913754865096), (718, 0.0), (719, 0.013231321565359914), (720, 0.0), (721, 0.0), (722, 0.004757338645852766), (723, 0.013466987402138), (724, 0.029761109204334685), (725, 0.12106934871116641), (726, 0.019008454240040704), (727, 0.010327599517854747), (728, 0.0), (729, 0.0), (730, 0.03005380449484469), (731, 0.015212331227025951), (732, 0.0), (733, 0.033527244919907426), (734, 0.0), (735, 0.0), (736, 0.0052975685812885745), (737, 0.005741306633346171), (738, 0.004316350017422476), (739, 0.01652145775609205), (740, 0.012398357940835951), (741, 0.0), (742, 0.02184560562636895), (743, 0.0), (744, 0.004809100365303391), (745, 0.010917033264341588), (746, 0.0), (747, 0.00571319693491733), (748, 0.020313214096012708), (749, 0.038401632437816274), (750, 0.0309854485622835), (751, 0.0), (752, 0.0), (753, 0.0), (754, 0.0), (755, 0.0), (756, 0.004666160860766519), (757, 0.012744155413021378), (758, 0.019340466468272907), (759, 0.0), (760, 0.0), (761, 0.0), (762, 0.009187439357572519), (763, 0.00986955627799749), (764, 0.0), (765, 0.0), (766, 0.0), (767, 0.0), (768, 0.010459505687024098), (769, 0.005256824504146484), (770, 0.0), (771, 0.0), (772, 0.0), (773, 0.030735355153398314), (774, 0.0), (775, 0.008303300625039143), (776, 0.0), (777, 0.0), (778, 0.0204316937636114), (779, 0.0046525346066005864), (780, 0.010213385786726729), (781, 0.018011329637067315), (782, 0.0), (783, 0.0), (784, 0.0), (785, 0.010480043810822582), (786, 0.0), (787, 0.006641439943325108), (788, 0.00487469047366624), (789, 0.008537033368108578), (790, 0.005075613942509327), (791, 0.0), (792, 0.005583208759481812), (793, 0.0), (794, 0.015085353924654916), (795, 0.0), (796, 0.0), (797, 0.0), (798, 0.03671775192554), (799, 0.04704787899631917), (800, 0.0), (801, 0.01623122873487897), (802, 0.0), (803, 0.014082209412684035), (804, 0.0), (805, 0.0), (806, 0.0), (807, 0.004236918270103107), (808, 0.0), (809, 0.0), (810, 0.030313278306074914), (811, 0.0), (812, 0.029784819247011908), (813, 0.012161931414813018), (814, 0.044627835469378846), (815, 0.0), (816, 0.0), (817, 0.0), (818, 0.0), (819, 0.0), (820, 0.02115114541263136), (821, 0.0052534904841543845), (822, 0.0), (823, 0.0), (824, 0.0), (825, 0.0), (826, 0.0), (827, 0.0), (828, 0.0), (829, 0.004909150265891772), (830, 0.0), (831, 0.011134581917369222), (832, 0.0), (833, 0.01716745764959965), (834, 0.01769413543321569), (835, 0.017030585835040045), (836, 0.0), (837, 0.0), (838, 0.0), (839, 0.0), (840, 0.015445379634751743), (841, 0.0), (842, 0.0), (843, 0.0), (844, 0.03135072359284327), (845, 0.0), (846, 0.0), (847, 0.005919190087342825), (848, 0.0), (849, 0.0), (850, 0.0), (851, 0.0), (852, 0.015342062049081681), (853, 0.004086709059884986), (854, 0.005120045555210793), (855, 0.0), (856, 0.0), (857, 0.0), (858, 0.0), (859, 0.011719704264471307), (860, 0.0), (861, 0.0), (862, 0.008962020778606684), (863, 0.0), (864, 0.0278865404173728), (865, 0.0), (866, 0.019078073248186944), (867, 0.0), (868, 0.0), (869, 0.0), (870, 0.005137075732842418), (871, 0.0), (872, 0.015654327627131665), (873, 0.0), (874, 0.00963403392662288), (875, 0.019012201804690213), (876, 0.0), (877, 0.0), (878, 0.05127249283432739), (879, 0.0), (880, 0.0), (881, 0.01240779827886788), (882, 0.0), (883, 0.005128520338857741), (884, 0.0), (885, 0.0047829949815222745), (886, 0.0), (887, 0.016151645479888423), (888, 0.0), (889, 0.0), (890, 0.005557161379120397), (891, 0.0055896227671176964), (892, 0.0), (893, 0.0), (894, 0.005245704758989736), (895, 0.009771346155458395), (896, 0.0), (897, 0.005354649387417551), (898, 0.004736284763388213), (899, 0.004874855355079393), (900, 0.0), (901, 0.0), (902, 0.04648595943524678), (903, 0.0), (904, 0.0), (905, 0.0), (906, 0.0), (907, 0.005001095424246448), (908, 0.005452695596167648), (909, 0.011964509485320463), (910, 0.0), (911, 0.00991150813988549), (912, 0.010597221709568476), (913, 0.00554389375116856), (914, 0.0), (915, 0.005002714044917116), (916, 0.01811518421766777), (917, 0.0), (918, 0.005459530351623778), (919, 0.021976748552544716), (920, 0.011018047605079438), (921, 0.0), (922, 0.0), (923, 0.018192512432169565), (924, 0.004495024431597985), (925, 0.0), (926, 0.0), (927, 0.0), (928, 0.005425622922771468), (929, 0.004063300490505109), (930, 0.021074039472761125), (931, 0.017609029878736998), (932, 0.0), (933, 0.0), (934, 0.009773543504317335), (935, 0.015293943381916532), (936, 0.0), (937, 0.0), (938, 0.005235567332929005), (939, 0.0), (940, 0.0), (941, 0.0), (942, 0.0), (943, 0.0), (944, 0.013577252785521469), (945, 0.005187067574171338), (946, 0.012122698514411593), (947, 0.0), (948, 0.006516733480238247), (949, 0.0), (950, 0.0), (951, 0.0), (952, 0.0), (953, 0.0), (954, 0.0), (955, 0.0), (956, 0.0), (957, 0.033369349231193425), (958, 0.0), (959, 0.0), (960, 0.015772234633923684), (961, 0.012801960222765715), (962, 0.010239960543429873), (963, 0.0049439490389446014), (964, 0.0), (965, 0.0), (966, 0.005170901123322554), (967, 0.0), (968, 0.0), (969, 0.019563634721973824), (970, 0.0), (971, 0.00537825117538602), (972, 0.0), (973, 0.005193031248934436), (974, 0.004983286130179472), (975, 0.0), (976, 0.0), (977, 0.012663536945146152), (978, 0.004751743751653211), (979, 0.013126876154032898), (980, 0.0), (981, 0.009541345490999966), (982, 0.005663451289933437), (983, 0.0), (984, 0.0), (985, 0.0), (986, 0.0), (987, 0.0), (988, 0.03226878701432277), (989, 0.0), (990, 0.0), (991, 0.0), (992, 0.01920411076435267), (993, 0.005285290830126413), (994, 0.015156339879236326), (995, 0.010117142961743437), (996, 0.0), (997, 0.013434990619464585), (998, 0.0), (999, 0.0), (1000, 0.00484303911154173), (1001, 0.010074975561963196), (1002, 0.010124837713996613), (1003, 0.0), (1004, 0.027419062137855665), (1005, 0.008391610206884715), (1006, 0.005496617280246022), (1007, 0.019524198500665602), (1008, 0.0), (1009, 0.011175945824132819), (1010, 0.0), (1011, 0.01887606592425746), (1012, 0.0), (1013, 0.012494017422393177), (1014, 0.027289271469482672), (1015, 0.02899638310015192), (1016, 0.035055879965354184), (1017, 0.0), (1018, 0.01744297153384435), (1019, 0.0), (1020, 0.0), (1021, 0.0), (1022, 0.005231605816810687), (1023, 0.0), (1024, 0.0), (1025, 0.0048457386810517806), (1026, 0.0), (1027, 0.0), (1028, 0.0), (1029, 0.009878848892557442), (1030, 0.0), (1031, 0.0), (1032, 0.0), (1033, 0.05146924189604898), (1034, 0.0), (1035, 0.005261268898055821), (1036, 0.0), (1037, 0.0), (1038, 0.0), (1039, 0.009326644110487071), (1040, 0.0), (1041, 0.00989089027620294), (1042, 0.0), (1043, 0.0), (1044, 0.014409798803219515), (1045, 0.0), (1046, 0.004575186628772577), (1047, 0.0), (1048, 0.005409265325078399), (1049, 0.0), (1050, 0.0), (1051, 0.0), (1052, 0.04458564436358291), (1053, 0.0), (1054, 0.00487573411398778), (1055, 0.0), (1056, 0.0), (1057, 0.0), (1058, 0.0), (1059, 0.022809922926274727), (1060, 0.02249093975059268), (1061, 0.0), (1062, 0.0), (1063, 0.0), (1064, 0.0), (1065, 0.0), (1066, 0.004977939810696549), (1067, 0.02205545272422372), (1068, 0.046046714565077265), (1069, 0.0), (1070, 0.0), (1071, 0.016551381445994284), (1072, 0.0), (1073, 0.0), (1074, 0.019236109383611873), (1075, 0.0), (1076, 0.0), (1077, 0.005340526333294494), (1078, 0.0), (1079, 0.011018290238554487), (1080, 0.013395197971361815), (1081, 0.0), (1082, 0.0), (1083, 0.0), (1084, 0.011416980608837396), (1085, 0.01242975014896642), (1086, 0.0), (1087, 0.010393837660165894), (1088, 0.0), (1089, 0.0), (1090, 0.030745289779056533), (1091, 0.0), (1092, 0.013443540304497383), (1093, 0.018048198837047075), (1094, 0.0), (1095, 0.020836908803440374), (1096, 0.0), (1097, 0.0), (1098, 0.0537422616073147), (1099, 0.0), (1100, 0.0), (1101, 0.0), (1102, 0.017949185751466687), (1103, 0.0), (1104, 0.005657582574924303), (1105, 0.010739453467544438), (1106, 0.014822665452417559), (1107, 0.0), (1108, 0.015311753293797293), (1109, 0.022383487045430493), (1110, 0.01487405770159733), (1111, 0.005282751256392491), (1112, 0.0), (1113, 0.005109003032669142), (1114, 0.015822632703996205), (1115, 0.0), (1116, 0.0), (1117, 0.0), (1118, 0.010283052237541654), (1119, 0.0), (1120, 0.004604137691138269), (1121, 0.0), (1122, 0.0), (1123, 0.04683453401700485), (1124, 0.0), (1125, 0.0), (1126, 0.0), (1127, 0.0), (1128, 0.0), (1129, 0.005197637191791884), (1130, 0.019287025783256764), (1131, 0.0), (1132, 0.023874694926365167), (1133, 0.0), (1134, 0.017454943552875492), (1135, 0.0), (1136, 0.004714806712381849), (1137, 0.0), (1138, 0.0), (1139, 0.02767773772247914), (1140, 0.03446349665019273), (1141, 0.013079948789947907), (1142, 0.0), (1143, 0.016693171739846076), (1144, 0.04578233585398926), (1145, 0.0), (1146, 0.005361176010336402), (1147, 0.0), (1148, 0.0), (1149, 0.0), (1150, 0.0), (1151, 0.0), (1152, 0.0), (1153, 0.0), (1154, 0.0), (1155, 0.017629985560841208), (1156, 0.0), (1157, 0.004842787089071223), (1158, 0.0), (1159, 0.0), (1160, 0.0), (1161, 0.0), (1162, 0.0), (1163, 0.0), (1164, 0.0), (1165, 0.01840910495948537), (1166, 0.0), (1167, 0.0), (1168, 0.03945980827587538), (1169, 0.0), (1170, 0.0), (1171, 0.0184911073333101), (1172, 0.015216101985869713), (1173, 0.018572240810198676), (1174, 0.0), (1175, 0.0), (1176, 0.0), (1177, 0.0), (1178, 0.004546808920101653), (1179, 0.005380999290123545), (1180, 0.0), (1181, 0.0), (1182, 0.0), (1183, 0.0), (1184, 0.0), (1185, 0.0), (1186, 0.0), (1187, 0.0), (1188, 0.0), (1189, 0.0), (1190, 0.0), (1191, 0.03850551234912996), (1192, 0.025736645564834043), (1193, 0.0), (1194, 0.004612482766212997), (1195, 0.017757307609228907), (1196, 0.0), (1197, 0.0), (1198, 0.0), (1199, 0.0), (1200, 0.0), (1201, 0.0), (1202, 0.0), (1203, 0.0), (1204, 0.0), (1205, 0.018849290809948543), (1206, 0.0), (1207, 0.0), (1208, 0.006456551823783346), (1209, 0.0), (1210, 0.01573773006083791), (1211, 0.0), (1212, 0.0), (1213, 0.0), (1214, 0.008986762166412476), (1215, 0.004570984151318633), (1216, 0.014292241999459256), (1217, 0.02230136115005837), (1218, 0.0), (1219, 0.0), (1220, 0.0), (1221, 0.0044597594429605794), (1222, 0.0), (1223, 0.005400211642753304), (1224, 0.0), (1225, 0.0), (1226, 0.0), (1227, 0.0), (1228, 0.0), (1229, 0.01553822052057738), (1230, 0.0), (1231, 0.0), (1232, 0.0), (1233, 0.0), (1234, 0.02042505947342785), (1235, 0.011538694988839766), (1236, 0.0), (1237, 0.0), (1238, 0.019425462426112153), (1239, 0.020158806410426073), (1240, 0.0), (1241, 0.034925317227275196), (1242, 0.0), (1243, 0.0), (1244, 0.0), (1245, 0.0), (1246, 0.013039860264824447), (1247, 0.0), (1248, 0.0), (1249, 0.0), (1250, 0.0), (1251, 0.0), (1252, 0.0), (1253, 0.017384714477060196), (1254, 0.03168342260752007), (1255, 0.0), (1256, 0.0), (1257, 0.005195094958152918), (1258, 0.0), (1259, 0.009791779842526065), (1260, 0.0), (1261, 0.0), (1262, 0.0238132751341177), (1263, 0.017449727222564233), (1264, 0.0), (1265, 0.0), (1266, 0.0), (1267, 0.004948157384412754), (1268, 0.0), (1269, 0.0), (1270, 0.033606693618494825), (1271, 0.0), (1272, 0.0), (1273, 0.0), (1274, 0.0), (1275, 0.0), (1276, 0.0), (1277, 0.0), (1278, 0.012170048116703072), (1279, 0.07333246565099036), (1280, 0.0), (1281, 0.0), (1282, 0.005682385837747236), (1283, 0.0), (1284, 0.0), (1285, 0.0), (1286, 0.0), (1287, 0.0), (1288, 0.0), (1289, 0.012342060353691692), (1290, 0.0), (1291, 0.009903838328563189), (1292, 0.0), (1293, 0.0), (1294, 0.051399066226917464), (1295, 0.01421509633507076), (1296, 0.01496751913124947), (1297, 0.0), (1298, 0.011830037168905407), (1299, 0.015239650521965088), (1300, 0.010008652299091056), (1301, 0.004540712295421718), (1302, 0.0), (1303, 0.0), (1304, 0.010423179687823164), (1305, 0.008773155943701146), (1306, 0.018673131160706263), (1307, 0.010065311769311662), (1308, 0.016032620985043034), (1309, 0.0), (1310, 0.0), (1311, 0.0), (1312, 0.02965151632784148), (1313, 0.0), (1314, 0.004972254364547357), (1315, 0.0), (1316, 0.0), (1317, 0.0), (1318, 0.013151090664221108), (1319, 0.010529243337730594), (1320, 0.0), (1321, 0.005931686536508479), (1322, 0.005867810646806186), (1323, 0.0), (1324, 0.01561349328967761), (1325, 0.0), (1326, 0.0), (1327, 0.0), (1328, 0.0), (1329, 0.010325447320035562), (1330, 0.0), (1331, 0.0), (1332, 0.0), (1333, 0.01268017505677947), (1334, 0.019595355801331052), (1335, 0.0), (1336, 0.01864492410664184), (1337, 0.0), (1338, 0.033082997244827037), (1339, 0.0), (1340, 0.0), (1341, 0.008778553885599685), (1342, 0.0), (1343, 0.006210604470391048), (1344, 0.0), (1345, 0.020022559546234914), (1346, 0.005536402092869347), (1347, 0.0), (1348, 0.0), (1349, 0.005834584519461097), (1350, 0.0), (1351, 0.017026860837366892), (1352, 0.0047035956316562304), (1353, 0.0), (1354, 0.009651371213414332), (1355, 0.0), (1356, 0.015052616960582415), (1357, 0.0), (1358, 0.01144386206145086), (1359, 0.0), (1360, 0.005043091793136969), (1361, 0.012289424425270331), (1362, 0.0), (1363, 0.0), (1364, 0.0), (1365, 0.02449080031577753), (1366, 0.0), (1367, 0.0), (1368, 0.00500260912799038), (1369, 0.004403770068914947), (1370, 0.0), (1371, 0.0), (1372, 0.0), (1373, 0.017069055542238906), (1374, 0.019260117514277662), (1375, 0.0), (1376, 0.0), (1377, 0.004529765929160617), (1378, 0.04751360528990322), (1379, 0.0), (1380, 0.0), (1381, 0.006100503351954156), (1382, 0.0), (1383, 0.0), (1384, 0.03189627417827286), (1385, 0.0), (1386, 0.0), (1387, 0.0), (1388, 0.0), (1389, 0.024875006304909453), (1390, 0.005628693608694283), (1391, 0.0), (1392, 0.01346821121273592), (1393, 0.0), (1394, 0.014950702585051394), (1395, 0.004338835658992681), (1396, 0.005388546807831736), (1397, 0.0), (1398, 0.0), (1399, 0.0), (1400, 0.018703905321571252), (1401, 0.05287338632867697), (1402, 0.0054442229555655055), (1403, 0.0), (1404, 0.0050271923254059546), (1405, 0.0), (1406, 0.01468403092208789), (1407, 0.0), (1408, 0.0), (1409, 0.0), (1410, 0.0), (1411, 0.0053634224987689485), (1412, 0.009922485916234144), (1413, 0.0054263119027219975), (1414, 0.0), (1415, 0.0), (1416, 0.0), (1417, 0.0), (1418, 0.0041452823745624255), (1419, 0.0), (1420, 0.010419378458289517), (1421, 0.0), (1422, 0.0), (1423, 0.010590197557483489), (1424, 0.0), (1425, 0.01155809098293261), (1426, 0.0), (1427, 0.0), (1428, 0.0), (1429, 0.0), (1430, 0.004968195383853945), (1431, 0.00515816810975965), (1432, 0.015791190962667158), (1433, 0.0), (1434, 0.0), (1435, 0.0), (1436, 0.00537504303729571), (1437, 0.0), (1438, 0.0), (1439, 0.0186917164141921), (1440, 0.0), (1441, 0.0), (1442, 0.03421417428984776), (1443, 0.005412232377456151), (1444, 0.0), (1445, 0.0), (1446, 0.00511205625923132), (1447, 0.005414751314688395), (1448, 0.0), (1449, 0.0), (1450, 0.0), (1451, 0.016250399075120995), (1452, 0.0), (1453, 0.008935724949407699), (1454, 0.015710376930344976), (1455, 0.0), (1456, 0.004818832919957652), (1457, 0.0), (1458, 0.01592213120929338), (1459, 0.010612954962115527), (1460, 0.0), (1461, 0.020359528210193184), (1462, 0.0), (1463, 0.012596655463407727), (1464, 0.06271374610753583), (1465, 0.00463146162590132), (1466, 0.013719840313557087), (1467, 0.01570909381408256), (1468, 0.0048995298013358385), (1469, 0.0), (1470, 0.0), (1471, 0.008046182505535621), (1472, 0.010433321466217595), (1473, 0.0), (1474, 0.013086558180463179), (1475, 0.0), (1476, 0.0), (1477, 0.03211116080758973), (1478, 0.0), (1479, 0.0), (1480, 0.0), (1481, 0.0), (1482, 0.015957459389237733), (1483, 0.0), (1484, 0.0), (1485, 0.0), (1486, 0.0), (1487, 0.004935464481720566), (1488, 0.0), (1489, 0.0), (1490, 0.0), (1491, 0.016583213603176376), (1492, 0.0), (1493, 0.0050070836797098985), (1494, 0.039042216940594614), (1495, 0.005615852047915058), (1496, 0.01064354396122907), (1497, 0.0), (1498, 0.0), (1499, 0.0), (1500, 0.01034614856784752), (1501, 0.005300902164185372), (1502, 0.0), (1503, 0.018436153524900304), (1504, 0.0), (1505, 0.01229881536623847), (1506, 0.02314754888393302), (1507, 0.0), (1508, 0.0), (1509, 0.035713217114546864), (1510, 0.005095559894273531), (1511, 0.005717881491628588), (1512, 0.01497070645011383), (1513, 0.012813431125654914), (1514, 0.0), (1515, 0.005230754131182798), (1516, 0.031045634801306315), (1517, 0.010660682911735612), (1518, 0.0), (1519, 0.0), (1520, 0.005678908466550607), (1521, 0.018486484309381754), (1522, 0.010657862487020572), (1523, 0.0), (1524, 0.015096067393656666), (1525, 0.017469835043542166), (1526, 0.005234668374431959), (1527, 0.0), (1528, 0.0), (1529, 0.0), (1530, 0.0044668365004677125), (1531, 0.0), (1532, 0.0), (1533, 0.04478968727990018), (1534, 0.0), (1535, 0.004467993400204309), (1536, 0.0), (1537, 0.018439865236187663), (1538, 0.0), (1539, 0.015516207434722266), (1540, 0.0), (1541, 0.0), (1542, 0.0), (1543, 0.01639892698190765), (1544, 0.0), (1545, 0.0), (1546, 0.004732139610445213), (1547, 0.0), (1548, 0.006610464223917068), (1549, 0.0), (1550, 0.0), (1551, 0.00528262737186117), (1552, 0.011582704992131886), (1553, 0.00924768876048855), (1554, 0.0), (1555, 0.03262560647167545), (1556, 0.0), (1557, 0.0), (1558, 0.0), (1559, 0.004560595430239759), (1560, 0.0), (1561, 0.029151854425507235), (1562, 0.0), (1563, 0.0), (1564, 0.005581568781034567), (1565, 0.0), (1566, 0.0), (1567, 0.01342178302366402), (1568, 0.03052212728734079), (1569, 0.0), (1570, 0.0), (1571, 0.026544696053845938), (1572, 0.0), (1573, 0.0), (1574, 0.0), (1575, 0.0), (1576, 0.0), (1577, 0.005448368519301237), (1578, 0.024513658827597692), (1579, 0.014689677671095141), (1580, 0.0), (1581, 0.010190773852306129), (1582, 0.0), (1583, 0.0), (1584, 0.01452032597042199), (1585, 0.0), (1586, 0.08604189479475366), (1587, 0.005536019284003841), (1588, 0.0), (1589, 0.0), (1590, 0.0), (1591, 0.0), (1592, 0.0), (1593, 0.0), (1594, 0.011402975307176719), (1595, 0.0), (1596, 0.0), (1597, 0.005108978473071318), (1598, 0.0), (1599, 0.0), (1600, 0.015465963900219547), (1601, 0.0), (1602, 0.012078272010489562), (1603, 0.0), (1604, 0.01177891613203105), (1605, 0.0), (1606, 0.010914338983570521), (1607, 0.0), (1608, 0.009940365275313858), (1609, 0.0), (1610, 0.028871632143984218), (1611, 0.0), (1612, 0.0), (1613, 0.005438363345099058), (1614, 0.0), (1615, 0.01374937460470791), (1616, 0.0), (1617, 0.032113354789469584), (1618, 0.0), (1619, 0.051546942013948174), (1620, 0.005220160352526086), (1621, 0.0), (1622, 0.0), (1623, 0.014271138585493929), (1624, 0.0), (1625, 0.0), (1626, 0.004757449906217409), (1627, 0.0), (1628, 0.0), (1629, 0.0), (1630, 0.009942662964233183), (1631, 0.0), (1632, 0.0), (1633, 0.017479748913240677), (1634, 0.0), (1635, 0.0), (1636, 0.0), (1637, 0.0), (1638, 0.0), (1639, 0.0), (1640, 0.005951359932977661), (1641, 0.0), (1642, 0.005003382832400292), (1643, 0.0), (1644, 0.0), (1645, 0.005424188620102384), (1646, 0.0), (1647, 0.0), (1648, 0.07781607783687856), (1649, 0.0), (1650, 0.0096488733614988), (1651, 0.0), (1652, 0.0), (1653, 0.0), (1654, 0.0), (1655, 0.0), (1656, 0.0), (1657, 0.0), (1658, 0.0), (1659, 0.0), (1660, 0.005485573781327896), (1661, 0.0), (1662, 0.021673683437981737), (1663, 0.029497163450273048), (1664, 0.011191504256939223), (1665, 0.0), (1666, 0.010305981869293301), (1667, 0.0), (1668, 0.010112434423667743), (1669, 0.0), (1670, 0.013015880195033809), (1671, 0.0), (1672, 0.0), (1673, 0.0), (1674, 0.0), (1675, 0.01453707165552163), (1676, 0.0), (1677, 0.0), (1678, 0.023283742510762977), (1679, 0.005648978995859566), (1680, 0.0), (1681, 0.005935912992181085), (1682, 0.004943804031512833), (1683, 0.01253613059716016), (1684, 0.010774821822486898), (1685, 0.0), (1686, 0.0), (1687, 0.0300906832889386), (1688, 0.005441535334185937), (1689, 0.005386572755793724), (1690, 0.010781754793273219), (1691, 0.02933634033424204), (1692, 0.005157693131759016), (1693, 0.0), (1694, 0.0), (1695, 0.004194200552980704), (1696, 0.0), (1697, 0.012270242238975996), (1698, 0.013922110947716245), (1699, 0.013525131085557997), (1700, 0.010534982409534007), (1701, 0.024066909977089296), (1702, 0.00577147440596168), (1703, 0.0), (1704, 0.01855258304246269), (1705, 0.0), (1706, 0.0), (1707, 0.02117045746970499), (1708, 0.0), (1709, 0.03497734713819141), (1710, 0.0), (1711, 0.0), (1712, 0.0), (1713, 0.013940312341715834), (1714, 0.013682574271650075), (1715, 0.0), (1716, 0.0), (1717, 0.0), (1718, 0.005633744768909052), (1719, 0.004769479686222043), (1720, 0.0), (1721, 0.0), (1722, 0.0), (1723, 0.03525281799705242), (1724, 0.049468613040267305), (1725, 0.0060280015359873915), (1726, 0.005337450605181369), (1727, 0.015671828333396583), (1728, 0.0), (1729, 0.018048567168758616), (1730, 0.0), (1731, 0.012673543090405415), (1732, 0.0), (1733, 0.005814332145430647), (1734, 0.0), (1735, 0.0), (1736, 0.0), (1737, 0.0), (1738, 0.005183107691350133), (1739, 0.0), (1740, 0.0), (1741, 0.0), (1742, 0.019368355789172363), (1743, 0.004464921189644661), (1744, 0.0), (1745, 0.0), (1746, 0.004945469113233658), (1747, 0.0), (1748, 0.0), (1749, 0.0), (1750, 0.014419178909542132), (1751, 0.0053908643078165765), (1752, 0.0), (1753, 0.0), (1754, 0.019712219945044525), (1755, 0.022159382036151292), (1756, 0.01907045822176353), (1757, 0.0), (1758, 0.005978019524972892), (1759, 0.0), (1760, 0.025754496431756344), (1761, 0.0), (1762, 0.004750482384173261), (1763, 0.0), (1764, 0.004712692272842405), (1765, 0.0), (1766, 0.0), (1767, 0.0), (1768, 0.033185478640691754), (1769, 0.018267669478273373), (1770, 0.0), (1771, 0.0261099323574632), (1772, 0.004725929110262018), (1773, 0.0), (1774, 0.0), (1775, 0.014961343677371198), (1776, 0.0304642156413453), (1777, 0.0), (1778, 0.005027185235760823), (1779, 0.0), (1780, 0.0), (1781, 0.008873591129986596), (1782, 0.0050904534419704715), (1783, 0.01190224492084418), (1784, 0.026407535571825003), (1785, 0.0), (1786, 0.0), (1787, 0.009844468436336178), (1788, 0.014849497773904492), (1789, 0.0), (1790, 0.0), (1791, 0.0), (1792, 0.017281995439292284), (1793, 0.022227413935194132), (1794, 0.005203968131287316), (1795, 0.0), (1796, 0.0), (1797, 0.0), (1798, 0.027179429559352285), (1799, 0.011724778992011993), (1800, 0.0), (1801, 0.0), (1802, 0.0), (1803, 0.0), (1804, 0.011759972687296047), (1805, 0.0), (1806, 0.0), (1807, 0.0), (1808, 0.0048339079050977955), (1809, 0.0), (1810, 0.013046389838720368), (1811, 0.0), (1812, 0.005733160798859606), (1813, 0.0), (1814, 0.0), (1815, 0.0), (1816, 0.0047547696534734375), (1817, 0.004841939706779192), (1818, 0.004952259624544069), (1819, 0.0), (1820, 0.016989147084700115), (1821, 0.020705564291828585), (1822, 0.0), (1823, 0.010100662622878974), (1824, 0.004963130717093332), (1825, 0.02443199402814529), (1826, 0.0), (1827, 0.017975524983892682), (1828, 0.0), (1829, 0.0), (1830, 0.010735418686481382), (1831, 0.019725035854219686), (1832, 0.0), (1833, 0.0), (1834, 0.0), (1835, 0.0), (1836, 0.0), (1837, 0.0), (1838, 0.0), (1839, 0.013883132435782031), (1840, 0.0), (1841, 0.0056665745127533135), (1842, 0.0), (1843, 0.013568917680538192), (1844, 0.01278210656762864), (1845, 0.004424853044151644), (1846, 0.0), (1847, 0.0), (1848, 0.0), (1849, 0.011720690559748004), (1850, 0.004639100120825926), (1851, 0.0056295261772452325), (1852, 0.0), (1853, 0.0), (1854, 0.011221733748150005), (1855, 0.0), (1856, 0.0), (1857, 0.00522757054554112), (1858, 0.02164031193264426), (1859, 0.0), (1860, 0.0), (1861, 0.014999749895829745), (1862, 0.0), (1863, 0.02315282419168208), (1864, 0.0), (1865, 0.0), (1866, 0.0), (1867, 0.0), (1868, 0.0), (1869, 0.0), (1870, 0.0), (1871, 0.01567852170988287), (1872, 0.0), (1873, 0.0), (1874, 0.0), (1875, 0.0288009097473303), (1876, 0.0), (1877, 0.0169622193295991), (1878, 0.011389356458415474), (1879, 0.0), (1880, 0.0), (1881, 0.023695425893940948), (1882, 0.017750124048282273), (1883, 0.02890184704760466), (1884, 0.0), (1885, 0.0), (1886, 0.0), (1887, 0.005957076846586196), (1888, 0.0051897344752088225), (1889, 0.0), (1890, 0.0), (1891, 0.0), (1892, 0.0), (1893, 0.0056498340457400535), (1894, 0.0), (1895, 0.004947306736646831), (1896, 0.0), (1897, 0.0), (1898, 0.0), (1899, 0.0), (1900, 0.0), (1901, 0.0), (1902, 0.0), (1903, 0.004814233493178507), (1904, 0.0), (1905, 0.0), (1906, 0.0), (1907, 0.005686076406513937), (1908, 0.005409116729568678), (1909, 0.0), (1910, 0.0045777096270731435), (1911, 0.0), (1912, 0.0), (1913, 0.019011776322539472), (1914, 0.004847465486562246), (1915, 0.01056901274436688), (1916, 0.0), (1917, 0.0), (1918, 0.02069381503662873), (1919, 0.024571638601357533), (1920, 0.04005001254988567), (1921, 0.014334567416185332), (1922, 0.0), (1923, 0.0), (1924, 0.0), (1925, 0.044522474875152124), (1926, 0.019434095311866573), (1927, 0.0), (1928, 0.0), (1929, 0.059207804080806024), (1930, 0.018699902138080635), (1931, 0.015141015387265956), (1932, 0.012696121286873776), (1933, 0.0), (1934, 0.0), (1935, 0.004901798231588433), (1936, 0.012043647859961227), (1937, 0.0), (1938, 0.0), (1939, 0.0), (1940, 0.0), (1941, 0.0), (1942, 0.0), (1943, 0.0), (1944, 0.0), (1945, 0.0), (1946, 0.0), (1947, 0.0), (1948, 0.04747620273632722), (1949, 0.0), (1950, 0.004422344899637094), (1951, 0.005595291740368525), (1952, 0.005762524277826716), (1953, 0.029203759252353093), (1954, 0.017147888296618227), (1955, 0.012785923026483056), (1956, 0.0), (1957, 0.008909168798476912), (1958, 0.02677560364150878), (1959, 0.0), (1960, 0.0), (1961, 0.005350247548200161), (1962, 0.0), (1963, 0.0), (1964, 0.03466083752441225), (1965, 0.0), (1966, 0.017691543067569936), (1967, 0.0), (1968, 0.005897156202750246), (1969, 0.03313618692398432), (1970, 0.0), (1971, 0.004703683837845856), (1972, 0.0), (1973, 0.00500480346701845), (1974, 0.0), (1975, 0.0), (1976, 0.0), (1977, 0.0), (1978, 0.0), (1979, 0.0), (1980, 0.0), (1981, 0.004439546213966925), (1982, 0.009721206121577076), (1983, 0.0), (1984, 0.005180654969509157), (1985, 0.005363460531957605), (1986, 0.019536270564582493), (1987, 0.004791045096641542), (1988, 0.005049543751079561), (1989, 0.0), (1990, 0.0048198618020886), (1991, 0.019504512275994153), (1992, 0.0), (1993, 0.0), (1994, 0.0047672825998247405), (1995, 0.0), (1996, 0.0), (1997, 0.036250196126747236), (1998, 0.0), (1999, 0.0), (2000, 0.012966134333651213), (2001, 0.0), (2002, 0.0), (2003, 0.005348665663861032), (2004, 0.014082525626866045), (2005, 0.0234061113542302), (2006, 0.010282301176439093), (2007, 0.0), (2008, 0.0668416629384661), (2009, 0.0), (2010, 0.0), (2011, 0.0), (2012, 0.005886203365575575), (2013, 0.004229154050809872), (2014, 0.010236627818641585), (2015, 0.01564901356074144), (2016, 0.005614073720012589), (2017, 0.005294804970940079), (2018, 0.0), (2019, 0.031176077524722852), (2020, 0.0), (2021, 0.019618700785616137), (2022, 0.008678130578776285), (2023, 0.0), (2024, 0.0), (2025, 0.0), (2026, 0.0), (2027, 0.02462208435703432), (2028, 0.0), (2029, 0.005096848666575602), (2030, 0.0), (2031, 0.026030779652879706), (2032, 0.005999076696041703), (2033, 0.0), (2034, 0.0), (2035, 0.0), (2036, 0.010202847111611877), (2037, 0.05886864431934916), (2038, 0.0), (2039, 0.0), (2040, 0.0), (2041, 0.0), (2042, 0.0), (2043, 0.014496906633786607), (2044, 0.0), (2045, 0.019983710977080654), (2046, 0.028724947644221226), (2047, 0.02006038179333782), (2048, 0.0), (2049, 0.013423262013757245), (2050, 0.0), (2051, 0.0), (2052, 0.01173244159364501), (2053, 0.0), (2054, 0.0), (2055, 0.004782245702394118), (2056, 0.005156438872806321), (2057, 0.0), (2058, 0.04031926262252097), (2059, 0.0), (2060, 0.0), (2061, 0.005234989621808543), (2062, 0.009968147803495659), (2063, 0.0), (2064, 0.0), (2065, 0.009338012999667253), (2066, 0.053055382171877205), (2067, 0.0), (2068, 0.0), (2069, 0.0), (2070, 0.019749039807483944), (2071, 0.005224257597345905), (2072, 0.005462536508549686), (2073, 0.0), (2074, 0.00941635651350452), (2075, 0.0), (2076, 0.0), (2077, 0.0), (2078, 0.0), (2079, 0.005919063336590831), (2080, 0.0), (2081, 0.0), (2082, 0.0), (2083, 0.0), (2084, 0.0), (2085, 0.0), (2086, 0.012687888845889991), (2087, 0.011837677279540734), (2088, 0.0), (2089, 0.0), (2090, 0.0), (2091, 0.0), (2092, 0.014888670224816951), (2093, 0.0), (2094, 0.00495413969039204), (2095, 0.014252397421773817), (2096, 0.0), (2097, 0.0), (2098, 0.0), (2099, 0.01110698761221264), (2100, 0.011319782337556766), (2101, 0.0), (2102, 0.010277968394817002), (2103, 0.0), (2104, 0.0), (2105, 0.0), (2106, 0.0), (2107, 0.017210817381219563), (2108, 0.0), (2109, 0.00525406870803879), (2110, 0.0), (2111, 0.030707510555589262), (2112, 0.03925592350183227), (2113, 0.0), (2114, 0.02162590395782301), (2115, 0.0), (2116, 0.0), (2117, 0.0), (2118, 0.018113767710886318), (2119, 0.0), (2120, 0.0), (2121, 0.0), (2122, 0.0), (2123, 0.043065351477247056), (2124, 0.020239181343062115), (2125, 0.012148774591530296), (2126, 0.024429200170167052), (2127, 0.012579334198742497), (2128, 0.005159796536489149), (2129, 0.0), (2130, 0.0), (2131, 0.005144353601206136), (2132, 0.0), (2133, 0.0), (2134, 0.0), (2135, 0.0), (2136, 0.019080483511300792), (2137, 0.0), (2138, 0.0), (2139, 0.016942744549164283), (2140, 0.0), (2141, 0.0), (2142, 0.0), (2143, 0.0), (2144, 0.0), (2145, 0.004836641701162932), (2146, 0.0), (2147, 0.024607693400075195), (2148, 0.0), (2149, 0.0), (2150, 0.0), (2151, 0.0), (2152, 0.0), (2153, 0.0), (2154, 0.01442581743248607), (2155, 0.0), (2156, 0.004679164754658413), (2157, 0.0), (2158, 0.02197893466231049), (2159, 0.0), (2160, 0.010380993512745917), (2161, 0.009440882313216947), (2162, 0.0), (2163, 0.0), (2164, 0.0), (2165, 0.0), (2166, 0.0), (2167, 0.005185025410376282), (2168, 0.0), (2169, 0.005300299502189171), (2170, 0.0), (2171, 0.012188924395709297), (2172, 0.0), (2173, 0.0), (2174, 0.04991292669711257), (2175, 0.009963742793376465), (2176, 0.0), (2177, 0.04689825758424994), (2178, 0.02282672535559553), (2179, 0.030569132980268077), (2180, 0.022793591890722498), (2181, 0.0), (2182, 0.03802288971473728), (2183, 0.022301359132262062), (2184, 0.017335069383634476), (2185, 0.0), (2186, 0.0), (2187, 0.0), (2188, 0.0), (2189, 0.0), (2190, 0.0), (2191, 0.0), (2192, 0.0), (2193, 0.005323736857918961), (2194, 0.11815300647304612), (2195, 0.005157088473063711), (2196, 0.012694616087635918), (2197, 0.0), (2198, 0.03705917179157629), (2199, 0.0), (2200, 0.0), (2201, 0.011113584618978769), (2202, 0.0), (2203, 0.0), (2204, 0.004532712399437938), (2205, 0.04735558149221061), (2206, 0.0), (2207, 0.03045851340958001), (2208, 0.0), (2209, 0.0), (2210, 0.011683968553485134), (2211, 0.017171464633100535), (2212, 0.0), (2213, 0.0), (2214, 0.01624455899775935), (2215, 0.03939294669589042), (2216, 0.0), (2217, 0.0), (2218, 0.005688554308108306), (2219, 0.0), (2220, 0.0), (2221, 0.008783460004947955), (2222, 0.005510562791962072), (2223, 0.0), (2224, 0.009819012705082474), (2225, 0.0), (2226, 0.0), (2227, 0.017386395982959157), (2228, 0.0), (2229, 0.0), (2230, 0.0), (2231, 0.0), (2232, 0.017503433057461555), (2233, 0.0), (2234, 0.0), (2235, 0.0), (2236, 0.020629166451649056), (2237, 0.009232468443225988), (2238, 0.0), (2239, 0.015609829983759092), (2240, 0.0), (2241, 0.005591586666902559), (2242, 0.0), (2243, 0.0), (2244, 0.0), (2245, 0.00504165366099435), (2246, 0.005390748981411589), (2247, 0.0), (2248, 0.0), (2249, 0.0), (2250, 0.005176322500703218), (2251, 0.0), (2252, 0.011481486930948056), (2253, 0.0), (2254, 0.0), (2255, 0.0), (2256, 0.0), (2257, 0.0), (2258, 0.0), (2259, 0.018464370323830345), (2260, 0.01342033846909593), (2261, 0.0), (2262, 0.004791929661415548), (2263, 0.005689218695902742), (2264, 0.0), (2265, 0.010990777739627157), (2266, 0.0), (2267, 0.0), (2268, 0.005317762205723509), (2269, 0.0), (2270, 0.0), (2271, 0.0), (2272, 0.0), (2273, 0.017092138755896345), (2274, 0.0), (2275, 0.0), (2276, 0.0), (2277, 0.005520999714783587), (2278, 0.03397982345106909), (2279, 0.0), (2280, 0.0), (2281, 0.01933032723901119), (2282, 0.0), (2283, 0.012367525252882974), (2284, 0.0), (2285, 0.009500944034447434), (2286, 0.0), (2287, 0.009752444581540886), (2288, 0.0), (2289, 0.0), (2290, 0.0), (2291, 0.004970774653683904), (2292, 0.0), (2293, 0.0), (2294, 0.01573496047406214), (2295, 0.0), (2296, 0.0142664321787952), (2297, 0.0), (2298, 0.0), (2299, 0.0), (2300, 0.0), (2301, 0.03385281926786059), (2302, 0.0), (2303, 0.0055580992742934685), (2304, 0.0), (2305, 0.0), (2306, 0.0), (2307, 0.0), (2308, 0.0), (2309, 0.0), (2310, 0.0), (2311, 0.004935667947571436), (2312, 0.0), (2313, 0.0), (2314, 0.0), (2315, 0.0), (2316, 0.012512782411732886), (2317, 0.03581533364593786), (2318, 0.008795554908846108), (2319, 0.0431226374025616), (2320, 0.012309564639623934), (2321, 0.0), (2322, 0.01659710651193861), (2323, 0.0), (2324, 0.0), (2325, 0.0), (2326, 0.004457819878514418), (2327, 0.0), (2328, 0.0), (2329, 0.016833206852405497), (2330, 0.0), (2331, 0.020578197646667993), (2332, 0.012130676156926362), (2333, 0.0), (2334, 0.005594781189910786), (2335, 0.011832954992190454), (2336, 0.0), (2337, 0.012772824299728381), (2338, 0.009485709423141888), (2339, 0.005955835170635733), (2340, 0.014938938762121124), (2341, 0.0), (2342, 0.0), (2343, 0.0), (2344, 0.0), (2345, 0.0), (2346, 0.0), (2347, 0.0), (2348, 0.0), (2349, 0.0), (2350, 0.0), (2351, 0.006223858668382313), (2352, 0.0), (2353, 0.0), (2354, 0.0), (2355, 0.0), (2356, 0.0), (2357, 0.0), (2358, 0.0), (2359, 0.0), (2360, 0.017675174928730487), (2361, 0.0), (2362, 0.019388452572163633), (2363, 0.006709484679937271), (2364, 0.0), (2365, 0.015810971010547858), (2366, 0.0), (2367, 0.0049098980314494466), (2368, 0.0), (2369, 0.0), (2370, 0.0), (2371, 0.013261053893945576), (2372, 0.0), (2373, 0.0), (2374, 0.0), (2375, 0.0), (2376, 0.030207042234120407), (2377, 0.004371552474114041), (2378, 0.0), (2379, 0.0), (2380, 0.0), (2381, 0.0), (2382, 0.06695486743437883), (2383, 0.0), (2384, 0.0), (2385, 0.0), (2386, 0.0), (2387, 0.02034338232781217), (2388, 0.0), (2389, 0.010847961577772276), (2390, 0.0), (2391, 0.0), (2392, 0.0), (2393, 0.0), (2394, 0.0), (2395, 0.0), (2396, 0.0), (2397, 0.0), (2398, 0.019412335273404906), (2399, 0.0), (2400, 0.0), (2401, 0.012098870233505895), (2402, 0.0), (2403, 0.0), (2404, 0.0), (2405, 0.0), (2406, 0.021511501996666908), (2407, 0.0), (2408, 0.0), (2409, 0.0050854944331184), (2410, 0.0), (2411, 0.0), (2412, 0.009112882428344909), (2413, 0.0653479300302793), (2414, 0.017307137167048597), (2415, 0.0), (2416, 0.05412869886977621), (2417, 0.0), (2418, 0.005734492612835089), (2419, 0.06183921912464958), (2420, 0.0), (2421, 0.012053651405874648), (2422, 0.01055357582403024), (2423, 0.0), (2424, 0.0), (2425, 0.0), (2426, 0.0), (2427, 0.012378506629143558), (2428, 0.0), (2429, 0.0), (2430, 0.035842907857073565), (2431, 0.005475519106470014), (2432, 0.0), (2433, 0.0), (2434, 0.0), (2435, 0.0), (2436, 0.005814470559235358), (2437, 0.0), (2438, 0.0), (2439, 0.0), (2440, 0.04683517269997817), (2441, 0.0), (2442, 0.029465656156636568), (2443, 0.0035830081144409146), (2444, 0.005444869232825809), (2445, 0.0), (2446, 0.0050655891005610965), (2447, 0.004549819627818409), (2448, 0.0), (2449, 0.0), (2450, 0.0), (2451, 0.012739889357006217), (2452, 0.0), (2453, 0.0), (2454, 0.0), (2455, 0.0), (2456, 0.0), (2457, 0.0), (2458, 0.006146666566722101), (2459, 0.0), (2460, 0.0), (2461, 0.030221103965857622), (2462, 0.0), (2463, 0.0), (2464, 0.0), (2465, 0.0), (2466, 0.012376597166461865), (2467, 0.0), (2468, 0.0), (2469, 0.0), (2470, 0.0), (2471, 0.0), (2472, 0.0), (2473, 0.0), (2474, 0.012693102503961632), (2475, 0.0), (2476, 0.0), (2477, 0.0), (2478, 0.0), (2479, 0.0), (2480, 0.005166393946162845), (2481, 0.0044718198570999085), (2482, 0.0), (2483, 0.0), (2484, 0.01568174354179999), (2485, 0.012026014171498083), (2486, 0.0), (2487, 0.005540449178000823), (2488, 0.0), (2489, 0.0), (2490, 0.0), (2491, 0.004908094098627359), (2492, 0.010746445208828954), (2493, 0.0), (2494, 0.02067116496111322), (2495, 0.0), (2496, 0.014422430877828678), (2497, 0.0), (2498, 0.010290240743083327), (2499, 0.0), (2500, 0.0), (2501, 0.005348509907363388), (2502, 0.0), (2503, 0.005264758552818877), (2504, 0.020876023592955324), (2505, 0.0), (2506, 0.0), (2507, 0.03866155922353457), (2508, 0.0), (2509, 0.009237568515595908), (2510, 0.028405272288185575), (2511, 0.0054299614132753546), (2512, 0.0), (2513, 0.01474713686918445), (2514, 0.004835857581942697), (2515, 0.0), (2516, 0.013031564190779646), (2517, 0.059311628366595336), (2518, 0.005909755782075543), (2519, 0.0), (2520, 0.0), (2521, 0.015336859996265835), (2522, 0.015955676983035492), (2523, 0.0), (2524, 0.0), (2525, 0.03209204500057582), (2526, 0.004471226223856243), (2527, 0.014022674751489541), (2528, 0.01416667734770733), (2529, 0.0), (2530, 0.0), (2531, 0.031301574622971895), (2532, 0.0), (2533, 0.0), (2534, 0.00732154939757189), (2535, 0.0), (2536, 0.0), (2537, 0.0), (2538, 0.061191826521960625), (2539, 0.03844883322256476), (2540, 0.0), (2541, 0.015530370793861756), (2542, 0.0), (2543, 0.0), (2544, 0.0), (2545, 0.0), (2546, 0.005685822618294572), (2547, 0.006509316955145758), (2548, 0.0), (2549, 0.011970582853123057), (2550, 0.011903061989601543), (2551, 0.0), (2552, 0.004955317589824261), (2553, 0.01019093108695291), (2554, 0.0), (2555, 0.034560766253647124), (2556, 0.0), (2557, 0.0), (2558, 0.0), (2559, 0.0), (2560, 0.02760757120966897), (2561, 0.0), (2562, 0.007993857571763206), (2563, 0.0), (2564, 0.0), (2565, 0.05015051016109543), (2566, 0.0), (2567, 0.0), (2568, 0.007237755338515926), (2569, 0.0), (2570, 0.0), (2571, 0.0), (2572, 0.0), (2573, 0.0), (2574, 0.014182639861072625), (2575, 0.0), (2576, 0.0), (2577, 0.0), (2578, 0.0), (2579, 0.0), (2580, 0.0), (2581, 0.006394246135883812), (2582, 0.02306339495399298), (2583, 0.0), (2584, 0.014596128986447299), (2585, 0.0), (2586, 0.0), (2587, 0.004687354294364176), (2588, 0.0), (2589, 0.0), (2590, 0.01162186680384839), (2591, 0.0), (2592, 0.013220248893098004), (2593, 0.011717316894116288), (2594, 0.0), (2595, 0.0), (2596, 0.0), (2597, 0.0), (2598, 0.0), (2599, 0.0), (2600, 0.0), (2601, 0.0), (2602, 0.0), (2603, 0.045473340848534216), (2604, 0.0), (2605, 0.015575569436059903), (2606, 0.0), (2607, 0.0), (2608, 0.004855027169743965), (2609, 0.0), (2610, 0.005506402059916918), (2611, 0.020990434484121967), (2612, 0.005176162424597687), (2613, 0.0), (2614, 0.033292984680313505), (2615, 0.01567320308224479), (2616, 0.01026780023782285), (2617, 0.0), (2618, 0.0), (2619, 0.0), (2620, 0.0), (2621, 0.0), (2622, 0.004466459667522854), (2623, 0.0), (2624, 0.0), (2625, 0.012133720543187971), (2626, 0.015886042779541407), (2627, 0.004694989371259802), (2628, 0.0), (2629, 0.0), (2630, 0.0), (2631, 0.004976440578165798), (2632, 0.010688677915836116), (2633, 0.005590768414919091), (2634, 0.0), (2635, 0.0), (2636, 0.003961175444157393), (2637, 0.032103387796626706), (2638, 0.03157890769828978), (2639, 0.0), (2640, 0.005341469402507808), (2641, 0.014987364137239364), (2642, 0.005129531626989104), (2643, 0.016119500278052493), (2644, 0.02861008983636515), (2645, 0.006825408576593798), (2646, 0.015830461314919553), (2647, 0.0), (2648, 0.0), (2649, 0.0), (2650, 0.0), (2651, 0.0), (2652, 0.0), (2653, 0.0), (2654, 0.015409318825358898), (2655, 0.0), (2656, 0.012873983034507958), (2657, 0.0), (2658, 0.0), (2659, 0.0), (2660, 0.023910550646805074), (2661, 0.0), (2662, 0.0), (2663, 0.0), (2664, 0.0), (2665, 0.00883361949792374), (2666, 0.005012396175453164), (2667, 0.0), (2668, 0.023064245806266204), (2669, 0.0), (2670, 0.0), (2671, 0.0), (2672, 0.013420939501366823), (2673, 0.006598626342746284), (2674, 0.0), (2675, 0.0056609964240275715), (2676, 0.0), (2677, 0.0), (2678, 0.0), (2679, 0.0), (2680, 0.009916663178488975), (2681, 0.0), (2682, 0.033131986318400246), (2683, 0.0), (2684, 0.0), (2685, 0.0), (2686, 0.0), (2687, 0.0), (2688, 0.026147442574778197), (2689, 0.0055133177883408425), (2690, 0.0), (2691, 0.005432328696403177), (2692, 0.0), (2693, 0.019253335765867026), (2694, 0.0), (2695, 0.0), (2696, 0.0), (2697, 0.016296150052906095), (2698, 0.005165890305832827), (2699, 0.0), (2700, 0.0), (2701, 0.0), (2702, 0.0), (2703, 0.0), (2704, 0.016527846438933055), (2705, 0.0), (2706, 0.0053105493600029965), (2707, 0.0), (2708, 0.0), (2709, 0.0), (2710, 0.013290313780193894), (2711, 0.027993310419832627), (2712, 0.005567905717221299), (2713, 0.01834984700619403), (2714, 0.0157627203572746), (2715, 0.0), (2716, 0.0), (2717, 0.013547383969482117), (2718, 0.0), (2719, 0.012794270252600038), (2720, 0.005998285602182296), (2721, 0.0106869364768298), (2722, 0.0), (2723, 0.0), (2724, 0.009471734131117801), (2725, 0.005478271923279426), (2726, 0.0), (2727, 0.0), (2728, 0.0), (2729, 0.017724088218908907), (2730, 0.0), (2731, 0.0), (2732, 0.005397683750405116), (2733, 0.0), (2734, 0.004258391993637317), (2735, 0.0), (2736, 0.018551059664590214), (2737, 0.0), (2738, 0.006405423241333721), (2739, 0.015619150719334236), (2740, 0.006092552458389408), (2741, 0.0), (2742, 0.0), (2743, 0.0), (2744, 0.0), (2745, 0.0), (2746, 0.0), (2747, 0.0), (2748, 0.0), (2749, 0.004704092122770674), (2750, 0.0), (2751, 0.0), (2752, 0.011710022618868617), (2753, 0.0), (2754, 0.0), (2755, 0.03649518070861862), (2756, 0.014413988727060454), (2757, 0.0), (2758, 0.010001626572515314), (2759, 0.0), (2760, 0.0), (2761, 0.004471186824756036), (2762, 0.0), (2763, 0.010362430500451401), (2764, 0.0), (2765, 0.010174390204634903), (2766, 0.017958640102120872), (2767, 0.0), (2768, 0.0), (2769, 0.0), (2770, 0.0), (2771, 0.0), (2772, 0.0), (2773, 0.09339319444462935), (2774, 0.004249538270237406), (2775, 0.0), (2776, 0.0), (2777, 0.0051083041854858265), (2778, 0.0), (2779, 0.03212839566484414), (2780, 0.0), (2781, 0.0), (2782, 0.019646817939642597), (2783, 0.0), (2784, 0.0), (2785, 0.02106606842597081), (2786, 0.0), (2787, 0.0), (2788, 0.0), (2789, 0.06704428810451409), (2790, 0.005569153976972614), (2791, 0.010126137124059017), (2792, 0.005383131830483167), (2793, 0.010636734923988388), (2794, 0.0), (2795, 0.0), (2796, 0.0), (2797, 0.0), (2798, 0.005533306670407931), (2799, 0.0), (2800, 0.0), (2801, 0.004636491495271112), (2802, 0.014671310194272744), (2803, 0.0), (2804, 0.0), (2805, 0.0), (2806, 0.013612033924396699), (2807, 0.03367609213038173), (2808, 0.005208558138635776), (2809, 0.00551230816745923), (2810, 0.0), (2811, 0.0), (2812, 0.01727394381420247), (2813, 0.012032674730069224), (2814, 0.01138024663815886), (2815, 0.0), (2816, 0.005517736271866398), (2817, 0.005599168725359451), (2818, 0.007507095108466189), (2819, 0.0159467191607544), (2820, 0.0), (2821, 0.0), (2822, 0.0), (2823, 0.0), (2824, 0.0), (2825, 0.0), (2826, 0.0), (2827, 0.0), (2828, 0.0), (2829, 0.0), (2830, 0.021352151124306044), (2831, 0.011762074802333627), (2832, 0.0), (2833, 0.0), (2834, 0.030186566144156237), (2835, 0.011288005186321838), (2836, 0.0), (2837, 0.0), (2838, 0.0), (2839, 0.0), (2840, 0.0), (2841, 0.025726695505365826), (2842, 0.0045362970385274025), (2843, 0.0), (2844, 0.022744055209535867), (2845, 0.0), (2846, 0.0), (2847, 0.0), (2848, 0.0), (2849, 0.0), (2850, 0.0), (2851, 0.0), (2852, 0.0), (2853, 0.0), (2854, 0.005796148095224104), (2855, 0.004811039690066585), (2856, 0.012291720079794368), (2857, 0.0), (2858, 0.0), (2859, 0.005022756451162128), (2860, 0.0), (2861, 0.0), (2862, 0.004983112755040109), (2863, 0.0), (2864, 0.0), (2865, 0.0), (2866, 0.0), (2867, 0.026600252433707318), (2868, 0.0), (2869, 0.0), (2870, 0.0), (2871, 0.0), (2872, 0.0), (2873, 0.005801717704129791), (2874, 0.0), (2875, 0.0), (2876, 0.0), (2877, 0.0), (2878, 0.016320434181389773), (2879, 0.0), (2880, 0.0), (2881, 0.0), (2882, 0.0), (2883, 0.0), (2884, 0.0), (2885, 0.008752903634576105), (2886, 0.0), (2887, 0.0), (2888, 0.0), (2889, 0.0), (2890, 0.0), (2891, 0.0), (2892, 0.022064432867935385), (2893, 0.0), (2894, 0.0), (2895, 0.0), (2896, 0.012133877328233152), (2897, 0.005134733640953674), (2898, 0.0), (2899, 0.0), (2900, 0.0055056770154776405), (2901, 0.0), (2902, 0.0), (2903, 0.019971665126891875), (2904, 0.0), (2905, 0.0), (2906, 0.004805710178015421), (2907, 0.0), (2908, 0.0), (2909, 0.0), (2910, 0.005479676229968364), (2911, 0.005618883602020706), (2912, 0.0), (2913, 0.0), (2914, 0.0), (2915, 0.0), (2916, 0.013873068396347889), (2917, 0.0), (2918, 0.0), (2919, 0.0), (2920, 0.004926959796575639), (2921, 0.0), (2922, 0.0), (2923, 0.019230064005531157), (2924, 0.0), (2925, 0.0), (2926, 0.0), (2927, 0.0), (2928, 0.0), (2929, 0.0), (2930, 0.0), (2931, 0.020439721339981655), (2932, 0.0), (2933, 0.004652475486019784), (2934, 0.0), (2935, 0.0), (2936, 0.0), (2937, 0.0), (2938, 0.016808685051460274), (2939, 0.0), (2940, 0.005466580500053839), (2941, 0.0), (2942, 0.004655918271396483), (2943, 0.0), (2944, 0.010784793630845918), (2945, 0.0), (2946, 0.0), (2947, 0.0), (2948, 0.0), (2949, 0.0), (2950, 0.0), (2951, 0.005664199575616768), (2952, 0.0), (2953, 0.0), (2954, 0.004944585024449714), (2955, 0.0), (2956, 0.0), (2957, 0.0), (2958, 0.0), (2959, 0.0), (2960, 0.0), (2961, 0.0), (2962, 0.02380211040322399), (2963, 0.02457686785228884), (2964, 0.0), (2965, 0.0), (2966, 0.0), (2967, 0.0), (2968, 0.0), (2969, 0.004513062590988014), (2970, 0.0), (2971, 0.0), (2972, 0.0), (2973, 0.04543600785586605), (2974, 0.0), (2975, 0.009289602507418001), (2976, 0.01055219025500863), (2977, 0.01506471964277392), (2978, 0.0), (2979, 0.0), (2980, 0.0), (2981, 0.03368016467109727), (2982, 0.0), (2983, 0.0), (2984, 0.0), (2985, 0.004442926816069088), (2986, 0.0), (2987, 0.0), (2988, 0.0), (2989, 0.0), (2990, 0.0), (2991, 0.0), (2992, 0.016929981949053707), (2993, 0.0), (2994, 0.0), (2995, 0.0), (2996, 0.011088070293664442), (2997, 0.0), (2998, 0.0), (2999, 0.0), (3000, 0.0), (3001, 0.0), (3002, 0.0), (3003, 0.013439397784499332), (3004, 0.0), (3005, 0.0), (3006, 0.0), (3007, 0.0), (3008, 0.0), (3009, 0.0), (3010, 0.005100834887911933), (3011, 0.005105131751751033), (3012, 0.0), (3013, 0.0), (3014, 0.0), (3015, 0.0), (3016, 0.0), (3017, 0.0), (3018, 0.005356068007579982), (3019, 0.0), (3020, 0.0), (3021, 0.0), (3022, 0.01213815616766281), (3023, 0.02840011638186745), (3024, 0.025142602769670074), (3025, 0.0), (3026, 0.0), (3027, 0.015833518914862857), (3028, 0.005002742680657194), (3029, 0.0), (3030, 0.0), (3031, 0.0), (3032, 0.0), (3033, 0.005287137556733623), (3034, 0.0), (3035, 0.0), (3036, 0.0), (3037, 0.0), (3038, 0.0), (3039, 0.0), (3040, 0.0), (3041, 0.0), (3042, 0.0), (3043, 0.0), (3044, 0.0), (3045, 0.0), (3046, 0.005065289710318749), (3047, 0.017519608629725604), (3048, 0.0), (3049, 0.0), (3050, 0.0), (3051, 0.0), (3052, 0.0), (3053, 0.0052589736317857905), (3054, 0.0), (3055, 0.0), (3056, 0.0), (3057, 0.0), (3058, 0.0), (3059, 0.0), (3060, 0.01823807993462254), (3061, 0.0), (3062, 0.0), (3063, 0.0), (3064, 0.0), (3065, 0.0), (3066, 0.005214714846716908), (3067, 0.09266396917239962), (3068, 0.0), (3069, 0.018853646624057634), (3070, 0.0), (3071, 0.004902007929807767), (3072, 0.0), (3073, 0.005300409016466298), (3074, 0.0), (3075, 0.0), (3076, 0.0), (3077, 0.0), (3078, 0.015035603431100395), (3079, 0.0), (3080, 0.013828385066880776), (3081, 0.0), (3082, 0.0), (3083, 0.023777667592937177), (3084, 0.0), (3085, 0.01409354125154313), (3086, 0.0), (3087, 0.0), (3088, 0.0), (3089, 0.014292434766291277), (3090, 0.030975147397766967), (3091, 0.009958099266265102), (3092, 0.0), (3093, 0.0), (3094, 0.0), (3095, 0.0), (3096, 0.015582431168579514), (3097, 0.015761961543266385), (3098, 0.0), (3099, 0.0), (3100, 0.0), (3101, 0.0), (3102, 0.0), (3103, 0.0), (3104, 0.0), (3105, 0.0), (3106, 0.0), (3107, 0.0), (3108, 0.004686316836846073), (3109, 0.0), (3110, 0.0), (3111, 0.025549339112719033), (3112, 0.012955588783393535), (3113, 0.0), (3114, 0.0), (3115, 0.0), (3116, 0.013305920507252229), (3117, 0.0), (3118, 0.0), (3119, 0.0), (3120, 0.0), (3121, 0.00511800580117972), (3122, 0.0104495490292434), (3123, 0.0), (3124, 0.03668215067965755), (3125, 0.0054079886214138135), (3126, 0.0), (3127, 0.004935298037126259), (3128, 0.0), (3129, 0.00911047594764788), (3130, 0.019181397279167886), (3131, 0.0), (3132, 0.0), (3133, 0.016858434130420798), (3134, 0.0), (3135, 0.0), (3136, 0.0), (3137, 0.02146698394238687), (3138, 0.011134469118418696), (3139, 0.0), (3140, 0.0), (3141, 0.021776749926731658), (3142, 0.0072362486649977745), (3143, 0.0), (3144, 0.00831274589266592), (3145, 0.007133839950965765), (3146, 0.0), (3147, 0.0), (3148, 0.0), (3149, 0.005049354715668928), (3150, 0.005352235849158671), (3151, 0.005191095089468291), (3152, 0.004314778324487144), (3153, 0.0), (3154, 0.0), (3155, 0.0), (3156, 0.0), (3157, 0.06742205487830702), (3158, 0.0), (3159, 0.0), (3160, 0.0), (3161, 0.01916915165688175), (3162, 0.0), (3163, 0.0), (3164, 0.0), (3165, 0.0), (3166, 0.0), (3167, 0.0), (3168, 0.0), (3169, 0.0), (3170, 0.0), (3171, 0.0), (3172, 0.023590151888197516), (3173, 0.0), (3174, 0.0), (3175, 0.0), (3176, 0.0), (3177, 0.0), (3178, 0.0), (3179, 0.0), (3180, 0.0), (3181, 0.039695631247039745), (3182, 0.0), (3183, 0.0), (3184, 0.0), (3185, 0.0), (3186, 0.0), (3187, 0.0), (3188, 0.0), (3189, 0.0), (3190, 0.0), (3191, 0.0), (3192, 0.0), (3193, 0.0), (3194, 0.0), (3195, 0.0), (3196, 0.0), (3197, 0.014620713181023707), (3198, 0.0), (3199, 0.004195412755386583), (3200, 0.02392198781632246), (3201, 0.004857091915942807), (3202, 0.0), (3203, 0.0), (3204, 0.01591155065455616), (3205, 0.021003220055873753), (3206, 0.0), (3207, 0.0), (3208, 0.0), (3209, 0.0), (3210, 0.0), (3211, 0.04720559096870599), (3212, 0.0), (3213, 0.0), (3214, 0.0), (3215, 0.0), (3216, 0.0), (3217, 0.0), (3218, 0.005717616441719443), (3219, 0.0), (3220, 0.0), (3221, 0.0), (3222, 0.029847937025499927), (3223, 0.0), (3224, 0.0), (3225, 0.0), (3226, 0.004845951338577355), (3227, 0.0), (3228, 0.05608067459788257), (3229, 0.0), (3230, 0.0), (3231, 0.00476438712746473), (3232, 0.0), (3233, 0.005496050553956882), (3234, 0.024579134664508413), (3235, 0.0), (3236, 0.0), (3237, 0.005225225247727317), (3238, 0.038457708170350866), (3239, 0.0), (3240, 0.019095534855580736), (3241, 0.0), (3242, 0.0), (3243, 0.0), (3244, 0.0), (3245, 0.0), (3246, 0.0), (3247, 0.0), (3248, 0.0), (3249, 0.0), (3250, 0.0), (3251, 0.0), (3252, 0.017115800401131094), (3253, 0.0), (3254, 0.0), (3255, 0.0), (3256, 0.0), (3257, 0.0), (3258, 0.0), (3259, 0.005611284500990428), (3260, 0.005162123301548666), (3261, 0.0), (3262, 0.0), (3263, 0.0), (3264, 0.026491492046047983), (3265, 0.005345765267993947), (3266, 0.0), (3267, 0.0), (3268, 0.0), (3269, 0.0), (3270, 0.020088766419351485), (3271, 0.0), (3272, 0.028277129649219482), (3273, 0.0), (3274, 0.0), (3275, 0.0), (3276, 0.0), (3277, 0.005732050482448536), (3278, 0.0), (3279, 0.0), (3280, 0.0), (3281, 0.0), (3282, 0.0), (3283, 0.005505681305319628), (3284, 0.004841667440121525), (3285, 0.011552712148930371), (3286, 0.011765541674817016), (3287, 0.012485679818484124), (3288, 0.04774620640028635), (3289, 0.0), (3290, 0.0), (3291, 0.0), (3292, 0.0), (3293, 0.005053872322250635), (3294, 0.037039233747053854), (3295, 0.005110698311452234), (3296, 0.0), (3297, 0.005341966168747994), (3298, 0.0), (3299, 0.0), (3300, 0.0), (3301, 0.0), (3302, 0.0), (3303, 0.005408052674003888), (3304, 0.01783887897618349), (3305, 0.0), (3306, 0.004841690158054844), (3307, 0.0), (3308, 0.0), (3309, 0.0), (3310, 0.0), (3311, 0.09057158439160157), (3312, 0.0), (3313, 0.012928554414973311), (3314, 0.0), (3315, 0.0), (3316, 0.004140566114870019), (3317, 0.00436639829238841), (3318, 0.0), (3319, 0.0), (3320, 0.005042920989383361), (3321, 0.005354873934264449), (3322, 0.0), (3323, 0.0), (3324, 0.0), (3325, 0.0), (3326, 0.0), (3327, 0.004722303077363116), (3328, 0.003461461373469668), (3329, 0.0), (3330, 0.0234408677373217), (3331, 0.0), (3332, 0.0), (3333, 0.0), (3334, 0.0), (3335, 0.011918595689672943), (3336, 0.004686553776405572), (3337, 0.0), (3338, 0.0), (3339, 0.0), (3340, 0.0), (3341, 0.0), (3342, 0.01874607699527891), (3343, 0.005158090807614557), (3344, 0.00889828627999395), (3345, 0.013122393361641416), (3346, 0.0), (3347, 0.0), (3348, 0.0), (3349, 0.0), (3350, 0.011412968566093695), (3351, 0.0), (3352, 0.0), (3353, 0.0), (3354, 0.0), (3355, 0.0), (3356, 0.0), (3357, 0.0), (3358, 0.0), (3359, 0.0), (3360, 0.0046621906840437115), (3361, 0.0), (3362, 0.004395801597908683), (3363, 0.021871789315803452), (3364, 0.00615914034944784), (3365, 0.003816529360108146), (3366, 0.030857645088929228), (3367, 0.01444574191052577), (3368, 0.020170777268086325), (3369, 0.0), (3370, 0.011200994088904114), (3371, 0.0), (3372, 0.0), (3373, 0.0), (3374, 0.005607182147707884), (3375, 0.0), (3376, 0.054766111836181026), (3377, 0.0), (3378, 0.0), (3379, 0.0), (3380, 0.0), (3381, 0.0), (3382, 0.0), (3383, 0.0), (3384, 0.006060350176835277), (3385, 0.0), (3386, 0.005493883831110884), (3387, 0.0), (3388, 0.015400048216703967), (3389, 0.029399264991506475), (3390, 0.0), (3391, 0.0), (3392, 0.021667125209197266), (3393, 0.00465706766779708), (3394, 0.0), (3395, 0.013739041122583125), (3396, 0.0), (3397, 0.005164836779982559), (3398, 0.0), (3399, 0.005022640004059296), (3400, 0.0), (3401, 0.0), (3402, 0.0), (3403, 0.004651444316070899), (3404, 0.0), (3405, 0.0), (3406, 0.0), (3407, 0.005093746182074835), (3408, 0.0), (3409, 0.017420057997793222), (3410, 0.0042891287284982), (3411, 0.004798683511934067), (3412, 0.0050170387164881845), (3413, 0.0), (3414, 0.011838237440742354), (3415, 0.0), (3416, 0.0), (3417, 0.0), (3418, 0.0), (3419, 0.0), (3420, 0.009817924399393933), (3421, 0.0), (3422, 0.0), (3423, 0.0), (3424, 0.011922815915831591), (3425, 0.0), (3426, 0.0), (3427, 0.0), (3428, 0.0), (3429, 0.0), (3430, 0.0), (3431, 0.0), (3432, 0.0), (3433, 0.0), (3434, 0.0), (3435, 0.005292600807931428), (3436, 0.0), (3437, 0.019068002898758256), (3438, 0.0), (3439, 0.0), (3440, 0.0), (3441, 0.0), (3442, 0.0), (3443, 0.0), (3444, 0.018736090260450283), (3445, 0.018086645907684523), (3446, 0.00535398791084667), (3447, 0.004977161741854226), (3448, 0.006600161649056094), (3449, 0.0), (3450, 0.0), (3451, 0.0), (3452, 0.0), (3453, 0.0), (3454, 0.010206049139714065), (3455, 0.0), (3456, 0.010921630600433187), (3457, 0.005528049423502445), (3458, 0.011590982860623055), (3459, 0.03229965767487807), (3460, 0.0), (3461, 0.031067149963986542), (3462, 0.0), (3463, 0.020979950155322325), (3464, 0.0054370396180226386), (3465, 0.0050121167365811264), (3466, 0.0), (3467, 0.0), (3468, 0.0), (3469, 0.02194228299571678), (3470, 0.0), (3471, 0.0), (3472, 0.0), (3473, 0.01420515521204619), (3474, 0.013303185765007068), (3475, 0.0), (3476, 0.0), (3477, 0.005211472978256375), (3478, 0.0), (3479, 0.0), (3480, 0.0), (3481, 0.016286464248601914), (3482, 0.0), (3483, 0.0), (3484, 0.004745635604572111), (3485, 0.0), (3486, 0.0), (3487, 0.0), (3488, 0.0), (3489, 0.0), (3490, 0.0), (3491, 0.033623318981548925), (3492, 0.014751470677834349), (3493, 0.0), (3494, 0.0), (3495, 0.0), (3496, 0.0), (3497, 0.0), (3498, 0.0), (3499, 0.0), (3500, 0.0), (3501, 0.0), (3502, 0.006395264204633759), (3503, 0.02969084533079735), (3504, 0.0), (3505, 0.0), (3506, 0.0), (3507, 0.005484190614122564), (3508, 0.0), (3509, 0.0), (3510, 0.0), (3511, 0.0), (3512, 0.0), (3513, 0.0), (3514, 0.0), (3515, 0.01130768686290605), (3516, 0.0), (3517, 0.0), (3518, 0.01064067350317614), (3519, 0.0), (3520, 0.01785309576186389), (3521, 0.0), (3522, 0.0), (3523, 0.0), (3524, 0.013665053766763684), (3525, 0.0), (3526, 0.00544762395324498), (3527, 0.0), (3528, 0.0), (3529, 0.0), (3530, 0.0), (3531, 0.0), (3532, 0.016509368444982762), (3533, 0.0), (3534, 0.0), (3535, 0.0), (3536, 0.005333959205961751), (3537, 0.0), (3538, 0.0), (3539, 0.01226303303383856), (3540, 0.013595358023555102), (3541, 0.0), (3542, 0.0), (3543, 0.0), (3544, 0.0), (3545, 0.0), (3546, 0.003989563487826748), (3547, 0.0), (3548, 0.0), (3549, 0.005484379967892592), (3550, 0.01818983463979855), (3551, 0.0054710543574954485), (3552, 0.0), (3553, 0.0), (3554, 0.01408325486841609), (3555, 0.0), (3556, 0.0), (3557, 0.016975111125763616), (3558, 0.0), (3559, 0.0), (3560, 0.0), (3561, 0.0), (3562, 0.023865186099250733), (3563, 0.016044385384201058), (3564, 0.015171193312075365), (3565, 0.0), (3566, 0.024496782312123377), (3567, 0.005191947969227981), (3568, 0.005262728232488424), (3569, 0.0), (3570, 0.0), (3571, 0.0), (3572, 0.0), (3573, 0.0), (3574, 0.0), (3575, 0.0), (3576, 0.0), (3577, 0.00627859813534243), (3578, 0.006605432966370991), (3579, 0.022615373820671292), (3580, 0.0), (3581, 0.0), (3582, 0.0), (3583, 0.0), (3584, 0.0), (3585, 0.0), (3586, 0.0), (3587, 0.0), (3588, 0.0), (3589, 0.0), (3590, 0.0), (3591, 0.0), (3592, 0.0), (3593, 0.0), (3594, 0.00535198114877459), (3595, 0.0), (3596, 0.0), (3597, 0.0), (3598, 0.004783781709176221), (3599, 0.005479696033452747), (3600, 0.0), (3601, 0.0), (3602, 0.0), (3603, 0.0), (3604, 0.0), (3605, 0.0), (3606, 0.02947877852941731), (3607, 0.05857321097846879), (3608, 0.019050608784012366), (3609, 0.0), (3610, 0.020203278195191462), (3611, 0.0), (3612, 0.005570101768914682), (3613, 0.015173929027393075), (3614, 0.0), (3615, 0.0), (3616, 0.006205121616767427), (3617, 0.0), (3618, 0.005841606743251148), (3619, 0.0), (3620, 0.0), (3621, 0.0), (3622, 0.0), (3623, 0.0), (3624, 0.0), (3625, 0.0), (3626, 0.004119728975021899), (3627, 0.0), (3628, 0.013156882398147458), (3629, 0.0), (3630, 0.0), (3631, 0.0), (3632, 0.06047054809660763), (3633, 0.004928049888003473), (3634, 0.0), (3635, 0.0), (3636, 0.0), (3637, 0.0), (3638, 0.0), (3639, 0.033421177209310406), (3640, 0.0), (3641, 0.0), (3642, 0.0), (3643, 0.005493243099116679), (3644, 0.0), (3645, 0.014932646390341198), (3646, 0.016513099997440134), (3647, 0.0), (3648, 0.005453469400886546), (3649, 0.0), (3650, 0.017355603903373203), (3651, 0.005983601016181037), (3652, 0.0), (3653, 0.018421712133265034), (3654, 0.0), (3655, 0.021019144076430567), (3656, 0.0), (3657, 0.0), (3658, 0.004484382835786592), (3659, 0.0), (3660, 0.0), (3661, 0.006072793278837496), (3662, 0.0), (3663, 0.0), (3664, 0.0), (3665, 0.0), (3666, 0.0), (3667, 0.0), (3668, 0.004531110284155954), (3669, 0.0), (3670, 0.0), (3671, 0.0), (3672, 0.0), (3673, 0.0), (3674, 0.004547871894414482), (3675, 0.0), (3676, 0.0), (3677, 0.011639942354960874), (3678, 0.0055327655997707455), (3679, 0.0), (3680, 0.0), (3681, 0.005817756021396891), (3682, 0.05416812920712309), (3683, 0.0), (3684, 0.0), (3685, 0.01176022810952351), (3686, 0.0), (3687, 0.0), (3688, 0.0), (3689, 0.005446577455430783), (3690, 0.010801654289890595), (3691, 0.0), (3692, 0.05502376648145799), (3693, 0.0), (3694, 0.0), (3695, 0.0), (3696, 0.005107271874773658), (3697, 0.0), (3698, 0.03587561475358022), (3699, 0.0), (3700, 0.0), (3701, 0.01725554937197235), (3702, 0.0), (3703, 0.0), (3704, 0.01293864208507622), (3705, 0.0), (3706, 0.0), (3707, 0.0), (3708, 0.0), (3709, 0.005203672097618451), (3710, 0.0), (3711, 0.004789904712690226), (3712, 0.0), (3713, 0.0), (3714, 0.0), (3715, 0.0), (3716, 0.010827781424218802), (3717, 0.0), (3718, 0.0), (3719, 0.0), (3720, 0.0051975558406797875), (3721, 0.0), (3722, 0.01770972560714741), (3723, 0.0), (3724, 0.09732819186277082), (3725, 0.0), (3726, 0.0), (3727, 0.0), (3728, 0.0), (3729, 0.0), (3730, 0.005761995926167836), (3731, 0.004484408226403321), (3732, 0.0), (3733, 0.0), (3734, 0.0), (3735, 0.012425114615657963), (3736, 0.014773437375969862), (3737, 0.0), (3738, 0.0), (3739, 0.022902078871677303), (3740, 0.0), (3741, 0.03398452345417019), (3742, 0.0), (3743, 0.010572391358275248), (3744, 0.0), (3745, 0.0), (3746, 0.005204688546410531), (3747, 0.015347928627252679), (3748, 0.004691581627754629), (3749, 0.0), (3750, 0.0), (3751, 0.03081310088237102), (3752, 0.026264945691208602), (3753, 0.01153184428820698), (3754, 0.0), (3755, 0.0), (3756, 0.0), (3757, 0.0), (3758, 0.0), (3759, 0.0), (3760, 0.0), (3761, 0.0), (3762, 0.0), (3763, 0.0), (3764, 0.0), (3765, 0.01091569560666705), (3766, 0.0), (3767, 0.0), (3768, 0.0), (3769, 0.0), (3770, 0.0), (3771, 0.0), (3772, 0.0), (3773, 0.0), (3774, 0.0), (3775, 0.0), (3776, 0.0), (3777, 0.018853301977687517), (3778, 0.005422354092727213), (3779, 0.0), (3780, 0.00572919589294733), (3781, 0.0), (3782, 0.0), (3783, 0.01402991046701783), (3784, 0.0), (3785, 0.010776138834789756), (3786, 0.00518499576121743), (3787, 0.0), (3788, 0.0), (3789, 0.01761624387302874), (3790, 0.01245639373375176), (3791, 0.0), (3792, 0.0), (3793, 0.0), (3794, 0.0), (3795, 0.0), (3796, 0.0), (3797, 0.0), (3798, 0.0), (3799, 0.0), (3800, 0.0), (3801, 0.0), (3802, 0.0), (3803, 0.03228257440247552), (3804, 0.0), (3805, 0.012143139470887486), (3806, 0.0), (3807, 0.012056003415056887), (3808, 0.0), (3809, 0.046182663105463), (3810, 0.005684360736928406), (3811, 0.03881639562990443), (3812, 0.012810586031386203), (3813, 0.0), (3814, 0.0), (3815, 0.0), (3816, 0.0), (3817, 0.013225135053288593), (3818, 0.020269084361439767), (3819, 0.005115683342919937), (3820, 0.0), (3821, 0.004489222054446647), (3822, 0.00565498817847491), (3823, 0.010254784647847076), (3824, 0.0), (3825, 0.004896491026947254), (3826, 0.016418667964367063), (3827, 0.0), (3828, 0.0), (3829, 0.0), (3830, 0.0), (3831, 0.0), (3832, 0.0), (3833, 0.0), (3834, 0.0), (3835, 0.0), (3836, 0.01477303094243411), (3837, 0.0), (3838, 0.0), (3839, 0.0), (3840, 0.0), (3841, 0.016002467069391412), (3842, 0.013757867396600943), (3843, 0.0), (3844, 0.0), (3845, 0.0), (3846, 0.013285046914813064), (3847, 0.0), (3848, 0.0), (3849, 0.0), (3850, 0.0), (3851, 0.0), (3852, 0.0046610890917969106), (3853, 0.0), (3854, 0.0049185015562514915), (3855, 0.0), (3856, 0.0), (3857, 0.005695159578423888), (3858, 0.005855045807938308), (3859, 0.0), (3860, 0.0), (3861, 0.0), (3862, 0.0), (3863, 0.0), (3864, 0.0), (3865, 0.01091314508451444), (3866, 0.006172623272332632), (3867, 0.0), (3868, 0.005160420785466047), (3869, 0.016807169077818013), (3870, 0.0), (3871, 0.0), (3872, 0.0), (3873, 0.0), (3874, 0.0), (3875, 0.008656489086262693), (3876, 0.0), (3877, 0.0), (3878, 0.0), (3879, 0.0), (3880, 0.0), (3881, 0.014463125755941697), (3882, 0.0), (3883, 0.0), (3884, 0.0), (3885, 0.0), (3886, 0.005104181307736455), (3887, 0.0), (3888, 0.0), (3889, 0.0), (3890, 0.010449878516079989), (3891, 0.005064537035882958), (3892, 0.0), (3893, 0.0), (3894, 0.016231774751348467), (3895, 0.0), (3896, 0.0), (3897, 0.005830857974332115), (3898, 0.0), (3899, 0.0), (3900, 0.0), (3901, 0.0), (3902, 0.0), (3903, 0.012120881574171806), (3904, 0.0), (3905, 0.0), (3906, 0.0), (3907, 0.01108776217703703), (3908, 0.0), (3909, 0.0), (3910, 0.028945453926976054), (3911, 0.0), (3912, 0.0), (3913, 0.0), (3914, 0.004672624449452902), (3915, 0.0), (3916, 0.012406219390584694), (3917, 0.005363259828793865), (3918, 0.0), (3919, 0.005645124228831538), (3920, 0.0057594277476920525), (3921, 0.012034344888483994), (3922, 0.0), (3923, 0.0), (3924, 0.005743735918285475), (3925, 0.0), (3926, 0.011880631358008497), (3927, 0.0), (3928, 0.004670082557135667), (3929, 0.0), (3930, 0.0), (3931, 0.0), (3932, 0.0), (3933, 0.0), (3934, 0.0), (3935, 0.0), (3936, 0.0204500328292794), (3937, 0.0), (3938, 0.028483528517082565), (3939, 0.0), (3940, 0.0), (3941, 0.0), (3942, 0.0), (3943, 0.0), (3944, 0.004631945229804825), (3945, 0.0), (3946, 0.0), (3947, 0.0), (3948, 0.0), (3949, 0.0), (3950, 0.0), (3951, 0.0), (3952, 0.0), (3953, 0.0), (3954, 0.0), (3955, 0.005277355493421666), (3956, 0.0), (3957, 0.004529354149414594), (3958, 0.0), (3959, 0.005642092694922751), (3960, 0.0), (3961, 0.0), (3962, 0.0), (3963, 0.00541897306114617), (3964, 0.0), (3965, 0.013897209444514851), (3966, 0.005215136139810588), (3967, 0.0), (3968, 0.018567532459700962), (3969, 0.0), (3970, 0.010049833343527333), (3971, 0.0), (3972, 0.0), (3973, 0.0), (3974, 0.0), (3975, 0.0), (3976, 0.0), (3977, 0.0), (3978, 0.0), (3979, 0.0), (3980, 0.01506504142760472), (3981, 0.0), (3982, 0.0), (3983, 0.004081877051037305), (3984, 0.0), (3985, 0.0), (3986, 0.0), (3987, 0.0), (3988, 0.0), (3989, 0.0), (3990, 0.0), (3991, 0.0), (3992, 0.0), (3993, 0.0), (3994, 0.00515842820597508), (3995, 0.0), (3996, 0.0), (3997, 0.0), (3998, 0.005167264942875125), (3999, 0.0), (4000, 0.0), (4001, 0.010802731367475817), (4002, 0.0), (4003, 0.0), (4004, 0.0), (4005, 0.0), (4006, 0.01515454074504343), (4007, 0.006990366419680093), (4008, 0.0), (4009, 0.018769144720461067), (4010, 0.031895531276277415), (4011, 0.014296674841630838), (4012, 0.03460645552585087), (4013, 0.00552678010235181), (4014, 0.0), (4015, 0.013514866678564828), (4016, 0.0), (4017, 0.0), (4018, 0.0), (4019, 0.0), (4020, 0.011679212580661515), (4021, 0.0), (4022, 0.0), (4023, 0.0), (4024, 0.0), (4025, 0.005426387632571258), (4026, 0.0), (4027, 0.0), (4028, 0.0), (4029, 0.0), (4030, 0.0), (4031, 0.08419333469917964), (4032, 0.04428241112799365), (4033, 0.0), (4034, 0.013231005798656699), (4035, 0.0), (4036, 0.0), (4037, 0.0), (4038, 0.021207411850926564), (4039, 0.0143608594675619), (4040, 0.0), (4041, 0.0), (4042, 0.0), (4043, 0.0), (4044, 0.0), (4045, 0.0), (4046, 0.0), (4047, 0.0), (4048, 0.0), (4049, 0.0), (4050, 0.0), (4051, 0.0), (4052, 0.0), (4053, 0.0), (4054, 0.0), (4055, 0.009527670216966775), (4056, 0.0), (4057, 0.004820233802155596), (4058, 0.0), (4059, 0.005150448660517499), (4060, 0.0), (4061, 0.01127927799205153), (4062, 0.006162566580657472), (4063, 0.0), (4064, 0.00650123869966772), (4065, 0.0), (4066, 0.0), (4067, 0.0), (4068, 0.00526132403043438), (4069, 0.0), (4070, 0.010230930494173125), (4071, 0.0171636601856053), (4072, 0.0), (4073, 0.0), (4074, 0.017881543154364427), (4075, 0.0), (4076, 0.005577590526889699), (4077, 0.016053289111903398), (4078, 0.0), (4079, 0.0), (4080, 0.0), (4081, 0.0), (4082, 0.0), (4083, 0.0), (4084, 0.0), (4085, 0.0), (4086, 0.0), (4087, 0.0), (4088, 0.0), (4089, 0.0), (4090, 0.019174160027656355), (4091, 0.0), (4092, 0.0), (4093, 0.0), (4094, 0.0), (4095, 0.0), (4096, 0.0), (4097, 0.0), (4098, 0.0), (4099, 0.041008088439360116), (4100, 0.0), (4101, 0.0), (4102, 0.0), (4103, 0.0), (4104, 0.0), (4105, 0.017132515759483855), (4106, 0.009808259448104734), (4107, 0.0), (4108, 0.005638939900667891), (4109, 0.018096878088414377), (4110, 0.010074415778616121), (4111, 0.0), (4112, 0.005229272876744824), (4113, 0.0), (4114, 0.0), (4115, 0.0), (4116, 0.0), (4117, 0.0), (4118, 0.011886811170308471), (4119, 0.005698567324148994), (4120, 0.0), (4121, 0.0), (4122, 0.0), (4123, 0.0), (4124, 0.0), (4125, 0.0), (4126, 0.0), (4127, 0.0), (4128, 0.0), (4129, 0.0), (4130, 0.0), (4131, 0.0), (4132, 0.021176125281603213), (4133, 0.0), (4134, 0.0), (4135, 0.005291378527963511), (4136, 0.018193071670194752), (4137, 0.005199433385897445), (4138, 0.0), (4139, 0.0), (4140, 0.013293880720816324), (4141, 0.0), (4142, 0.0), (4143, 0.004806052678034907), (4144, 0.0), (4145, 0.0), (4146, 0.012419068395731378), (4147, 0.0), (4148, 0.0), (4149, 0.0), (4150, 0.0), (4151, 0.0), (4152, 0.005078962269612566), (4153, 0.0), (4154, 0.01415530975493408), (4155, 0.004951076889268471), (4156, 0.004558437979968061), (4157, 1.0), (4158, 0.020021069701143784), (4159, 0.0), (4160, 0.0), (4161, 0.0), (4162, 0.0), (4163, 0.0), (4164, 0.0), (4165, 0.018036038857685007), (4166, 0.0), (4167, 0.0), (4168, 0.01233024268887845), (4169, 0.0), (4170, 0.0), (4171, 0.014384791611062035), (4172, 0.0), (4173, 0.0), (4174, 0.023258863337467833), (4175, 0.0), (4176, 0.004939727654901995), (4177, 0.0), (4178, 0.0), (4179, 0.0), (4180, 0.0), (4181, 0.0), (4182, 0.0), (4183, 0.0), (4184, 0.0), (4185, 0.0), (4186, 0.0), (4187, 0.0), (4188, 0.0), (4189, 0.024291335436695614), (4190, 0.0), (4191, 0.010643175145199066), (4192, 0.010062920976704954), (4193, 0.013960877675865312), (4194, 0.006489346968226024), (4195, 0.0), (4196, 0.0), (4197, 0.0), (4198, 0.0), (4199, 0.015080827461938279), (4200, 0.05156340948913873), (4201, 0.009155004259896012), (4202, 0.0), (4203, 0.0059936500930568605), (4204, 0.0), (4205, 0.010090236498988875), (4206, 0.0), (4207, 0.0), (4208, 0.0), (4209, 0.0), (4210, 0.01747978715678993), (4211, 0.0), (4212, 0.0), (4213, 0.0), (4214, 0.0), (4215, 0.0), (4216, 0.0), (4217, 0.005089273707028732), (4218, 0.005296598348771926), (4219, 0.0), (4220, 0.0), (4221, 0.0), (4222, 0.0), (4223, 0.0), (4224, 0.0), (4225, 0.0), (4226, 0.005778127735699773), (4227, 0.0), (4228, 0.0), (4229, 0.0), (4230, 0.0), (4231, 0.0), (4232, 0.0), (4233, 0.0), (4234, 0.0), (4235, 0.0), (4236, 0.01745088583925556), (4237, 0.01359664997150528), (4238, 0.0), (4239, 0.0), (4240, 0.0), (4241, 0.04289675150447123), (4242, 0.021185485285463778), (4243, 0.0), (4244, 0.0), (4245, 0.0), (4246, 0.0), (4247, 0.0), (4248, 0.0), (4249, 0.0), (4250, 0.0), (4251, 0.0), (4252, 0.0), (4253, 0.0), (4254, 0.0), (4255, 0.0), (4256, 0.0), (4257, 0.004979732895425599), (4258, 0.013554649132511832), (4259, 0.0), (4260, 0.0), (4261, 0.0), (4262, 0.005536827861383405), (4263, 0.0), (4264, 0.0), (4265, 0.005543542648174006), (4266, 0.0), (4267, 0.0060883196237452395), (4268, 0.0), (4269, 0.006048724866948388), (4270, 0.011338135674129885), (4271, 0.0), (4272, 0.0049995067897033035), (4273, 0.0), (4274, 0.0), (4275, 0.0), (4276, 0.0), (4277, 0.0), (4278, 0.0), (4279, 0.0), (4280, 0.0), (4281, 0.03825852841753627), (4282, 0.009998169486689506), (4283, 0.005273606288559193), (4284, 0.0), (4285, 0.0), (4286, 0.0), (4287, 0.0), (4288, 0.0), (4289, 0.0), (4290, 0.021052415184524553), (4291, 0.0), (4292, 0.026671626637851536), (4293, 0.017223366426666612), (4294, 0.0), (4295, 0.0), (4296, 0.0), (4297, 0.004793728804276911), (4298, 0.0), (4299, 0.0), (4300, 0.019300836213436968), (4301, 0.0), (4302, 0.0), (4303, 0.011796685034524905), (4304, 0.0), (4305, 0.0), (4306, 0.0), (4307, 0.0), (4308, 0.0), (4309, 0.0), (4310, 0.0), (4311, 0.0), (4312, 0.005631577589620348), (4313, 0.0), (4314, 0.011983642297696806), (4315, 0.0), (4316, 0.0), (4317, 0.0), (4318, 0.0), (4319, 0.0), (4320, 0.0), (4321, 0.0), (4322, 0.0), (4323, 0.0), (4324, 0.0), (4325, 0.0), (4326, 0.0), (4327, 0.0), (4328, 0.005104255570062759), (4329, 0.011750832921202414), (4330, 0.005753002841545852), (4331, 0.0), (4332, 0.011223830961828676), (4333, 0.0), (4334, 0.028641543892838562), (4335, 0.0), (4336, 0.0), (4337, 0.03332454211047187), (4338, 0.0), (4339, 0.005086340948562341), (4340, 0.031210044433006227), (4341, 0.031654592022812116), (4342, 0.010952883200890096), (4343, 0.0), (4344, 0.009071859350662173), (4345, 0.0), (4346, 0.0), (4347, 0.0), (4348, 0.004888787484431716), (4349, 0.0), (4350, 0.0), (4351, 0.005799232460534806), (4352, 0.0), (4353, 0.0), (4354, 0.0), (4355, 0.0), (4356, 0.011494964261430072), (4357, 0.0), (4358, 0.01074472679880833), (4359, 0.02764292163501728), (4360, 0.017571670050517834), (4361, 0.0), (4362, 0.0), (4363, 0.005858218219642525), (4364, 0.02730954696906942), (4365, 0.0), (4366, 0.017667055317494136), (4367, 0.0), (4368, 0.0), (4369, 0.0), (4370, 0.04673659185019891), (4371, 0.01271581063661732), (4372, 0.0), (4373, 0.0), (4374, 0.004968704612201793), (4375, 0.0), (4376, 0.005514818172220207), (4377, 0.031119760462691406), (4378, 0.0), (4379, 0.005548255745126078), (4380, 0.01198583873007548), (4381, 0.0), (4382, 0.0), (4383, 0.0), (4384, 0.0), (4385, 0.0), (4386, 0.0), (4387, 0.0), (4388, 0.0), (4389, 0.01645298334300816), (4390, 0.0), (4391, 0.0), (4392, 0.0), (4393, 0.0), (4394, 0.0), (4395, 0.005511687534482379), (4396, 0.0), (4397, 0.013518343287470777), (4398, 0.0), (4399, 0.004996488332689108), (4400, 0.0), (4401, 0.033525392017963083), (4402, 0.030622504348199915), (4403, 0.0), (4404, 0.0), (4405, 0.0), (4406, 0.020761999235058174), (4407, 0.0), (4408, 0.0), (4409, 0.0), (4410, 0.0), (4411, 0.0), (4412, 0.0), (4413, 0.0), (4414, 0.004416899547285277), (4415, 0.0), (4416, 0.0), (4417, 0.0), (4418, 0.0), (4419, 0.0), (4420, 0.0), (4421, 0.0), (4422, 0.0), (4423, 0.0), (4424, 0.0), (4425, 0.0), (4426, 0.0), (4427, 0.01251765360237702), (4428, 0.0), (4429, 0.0), (4430, 0.0), (4431, 0.041225369569433463), (4432, 0.0), (4433, 0.0), (4434, 0.0), (4435, 0.0), (4436, 0.005671322015186157), (4437, 0.0), (4438, 0.005165115827467538), (4439, 0.0), (4440, 0.0), (4441, 0.0), (4442, 0.019407029267770184), (4443, 0.0), (4444, 0.0), (4445, 0.0), (4446, 0.0), (4447, 0.01731306947016298), (4448, 0.005876665082089899), (4449, 0.0), (4450, 0.0), (4451, 0.0174943714191418), (4452, 0.0), (4453, 0.0), (4454, 0.0), (4455, 0.01509180124826425), (4456, 0.0), (4457, 0.0), (4458, 0.0), (4459, 0.004897280392324839), (4460, 0.005933285294738733), (4461, 0.0), (4462, 0.005773730289996285), (4463, 0.0), (4464, 0.0), (4465, 0.0), (4466, 0.0), (4467, 0.005364680261858305), (4468, 0.0), (4469, 0.0), (4470, 0.0), (4471, 0.0), (4472, 0.019066513492720795), (4473, 0.004916943053842526), (4474, 0.0), (4475, 0.0), (4476, 0.0), (4477, 0.0399419641042486), (4478, 0.031721700947547726), (4479, 0.0), (4480, 0.0), (4481, 0.0), (4482, 0.011523935065793725), (4483, 0.014257786601899324), (4484, 0.0), (4485, 0.0), (4486, 0.005413220096001749), (4487, 0.0), (4488, 0.0), (4489, 0.0), (4490, 0.0), (4491, 0.0), (4492, 0.027917269679201037), (4493, 0.0), (4494, 0.0), (4495, 0.019557801863924088), (4496, 0.02288732867470191), (4497, 0.0), (4498, 0.0), (4499, 0.0), (4500, 0.0), (4501, 0.0), (4502, 0.0), (4503, 0.0), (4504, 0.005199423918021121), (4505, 0.0), (4506, 0.0), (4507, 0.0), (4508, 0.0), (4509, 0.0), (4510, 0.0), (4511, 0.0), (4512, 0.0), (4513, 0.0), (4514, 0.0), (4515, 0.06506079693176868), (4516, 0.013801216444992187), (4517, 0.0), (4518, 0.0), (4519, 0.0), (4520, 0.0), (4521, 0.0), (4522, 0.0), (4523, 0.03564907199946733), (4524, 0.00638609872491116), (4525, 0.0), (4526, 0.014813349986780765), (4527, 0.0), (4528, 0.0), (4529, 0.0), (4530, 0.0), (4531, 0.02124931081012246), (4532, 0.0), (4533, 0.0), (4534, 0.0), (4535, 0.0), (4536, 0.0), (4537, 0.0), (4538, 0.0), (4539, 0.0), (4540, 0.0), (4541, 0.00813234794151864), (4542, 0.0), (4543, 0.0), (4544, 0.0), (4545, 0.0), (4546, 0.019075079131344545), (4547, 0.0), (4548, 0.005095834553790127), (4549, 0.0059136313467342255), (4550, 0.0), (4551, 0.03511020721937947), (4552, 0.0), (4553, 0.0), (4554, 0.0), (4555, 0.0), (4556, 0.0), (4557, 0.0), (4558, 0.0), (4559, 0.012852910807218808), (4560, 0.0), (4561, 0.0), (4562, 0.0), (4563, 0.0), (4564, 0.0050811561126331084), (4565, 0.0), (4566, 0.0), (4567, 0.0), (4568, 0.004870350587051703), (4569, 0.011229919189473298), (4570, 0.014792434142564793), (4571, 0.0), (4572, 0.0), (4573, 0.0), (4574, 0.04469059330522384), (4575, 0.0), (4576, 0.010036226333029365), (4577, 0.0), (4578, 0.0), (4579, 0.0), (4580, 0.0), (4581, 0.0), (4582, 0.0), (4583, 0.0), (4584, 0.0), (4585, 0.0458226722020468), (4586, 0.0), (4587, 0.0), (4588, 0.0), (4589, 0.0124089817980739), (4590, 0.004643242010154734), (4591, 0.0), (4592, 0.005341391419502053), (4593, 0.0), (4594, 0.0), (4595, 0.0), (4596, 0.02611112632309836), (4597, 0.0), (4598, 0.009836503439076992), (4599, 0.0), (4600, 0.005097411845613836), (4601, 0.0), (4602, 0.0), (4603, 0.0), (4604, 0.011979943268331551), (4605, 0.0), (4606, 0.0), (4607, 0.0), (4608, 0.0), (4609, 0.015630153200848665), (4610, 0.0), (4611, 0.0), (4612, 0.006737061192989387), (4613, 0.00557215259554975), (4614, 0.0), (4615, 0.0), (4616, 0.0), (4617, 0.0), (4618, 0.0), (4619, 0.01775452783692781), (4620, 0.0), (4621, 0.005731204815516628), (4622, 0.0), (4623, 0.0), (4624, 0.011618648935130555), (4625, 0.0), (4626, 0.0), (4627, 0.0), (4628, 0.0), (4629, 0.0055663403630188905), (4630, 0.0), (4631, 0.0), (4632, 0.0), (4633, 0.0), (4634, 0.0049511441040862355), (4635, 0.0), (4636, 0.0), (4637, 0.0), (4638, 0.0), (4639, 0.0), (4640, 0.0), (4641, 0.0), (4642, 0.0), (4643, 0.031699131992111294), (4644, 0.0), (4645, 0.0), (4646, 0.0), (4647, 0.0), (4648, 0.0), (4649, 0.0), (4650, 0.0), (4651, 0.0), (4652, 0.008613091557839635), (4653, 0.0), (4654, 0.0), (4655, 0.0), (4656, 0.0), (4657, 0.0), (4658, 0.005026823746990182), (4659, 0.0), (4660, 0.0), (4661, 0.0), (4662, 0.020290456003769636), (4663, 0.0), (4664, 0.0), (4665, 0.0), (4666, 0.0), (4667, 0.014572264415722616), (4668, 0.0), (4669, 0.0), (4670, 0.0), (4671, 0.0), (4672, 0.0), (4673, 0.0), (4674, 0.008551629801590023), (4675, 0.03731981558762779), (4676, 0.0), (4677, 0.0), (4678, 0.0), (4679, 0.009822474133115084), (4680, 0.0), (4681, 0.0), (4682, 0.010266151467782625), (4683, 0.0), (4684, 0.0), (4685, 0.0), (4686, 0.0053890742330454265), (4687, 0.00526290066142937), (4688, 0.0), (4689, 0.004933426422798267), (4690, 0.0), (4691, 0.0), (4692, 0.0), (4693, 0.0), (4694, 0.0), (4695, 0.0055353511291704625), (4696, 0.0), (4697, 0.0), (4698, 0.0), (4699, 0.0), (4700, 0.0), (4701, 0.0), (4702, 0.0), (4703, 0.0), (4704, 0.0), (4705, 0.0), (4706, 0.0), (4707, 0.0), (4708, 0.0), (4709, 0.0), (4710, 0.0), (4711, 0.014420692193489463), (4712, 0.0), (4713, 0.0), (4714, 0.0), (4715, 0.0), (4716, 0.0), (4717, 0.0), (4718, 0.0), (4719, 0.0), (4720, 0.0), (4721, 0.0), (4722, 0.0), (4723, 0.0), (4724, 0.0), (4725, 0.0), (4726, 0.017660986848889594), (4727, 0.0), (4728, 0.0), (4729, 0.0), (4730, 0.0), (4731, 0.0), (4732, 0.005671364960139626), (4733, 0.0), (4734, 0.0), (4735, 0.0), (4736, 0.0), (4737, 0.0), (4738, 0.0), (4739, 0.0), (4740, 0.0), (4741, 0.021946273404025607), (4742, 0.0), (4743, 0.0), (4744, 0.0), (4745, 0.0), (4746, 0.0), (4747, 0.0), (4748, 0.004632488198419577), (4749, 0.0), (4750, 0.0), (4751, 0.0), (4752, 0.014030026232252545), (4753, 0.0), (4754, 0.011582103120437589), (4755, 0.0), (4756, 0.012243229885043155), (4757, 0.0), (4758, 0.10863233679195171), (4759, 0.0)]\n"
          ]
        }
      ]
    },
    {
      "cell_type": "code",
      "source": [
        "len(Recommendation_Score)"
      ],
      "metadata": {
        "colab": {
          "base_uri": "https://localhost:8080/"
        },
        "id": "WXXM9uef5IAJ",
        "outputId": "0398bbe4-705f-4bf8-d3e6-0639186ae9b9"
      },
      "execution_count": 79,
      "outputs": [
        {
          "output_type": "execute_result",
          "data": {
            "text/plain": [
              "4760"
            ]
          },
          "metadata": {},
          "execution_count": 79
        }
      ]
    },
    {
      "cell_type": "markdown",
      "source": [
        "## Get All Movies Sort Based on the Recommendation Score W.R.T Favourite Movie"
      ],
      "metadata": {
        "id": "X8b9PzFQ5PA3"
      }
    },
    {
      "cell_type": "code",
      "source": [
        "# sorting the movies based on the similarity score\n",
        "Sorted_Similar_Movies = sorted(Recommendation_Score,key = lambda x:x[1],reverse= True)\n",
        "print(Sorted_Similar_Movies)"
      ],
      "metadata": {
        "colab": {
          "base_uri": "https://localhost:8080/"
        },
        "id": "qiYXRmgl5Lr_",
        "outputId": "5314b0e7-592c-4aa6-bbe8-f08f8faf9764"
      },
      "execution_count": 80,
      "outputs": [
        {
          "output_type": "stream",
          "name": "stdout",
          "text": [
            "[(4157, 1.0), (475, 0.15481427523761843), (681, 0.12136285856205034), (725, 0.12106934871116641), (2194, 0.11815300647304612), (517, 0.11687782863405907), (4758, 0.10863233679195171), (713, 0.09988006476951175), (3724, 0.09732819186277082), (2773, 0.09339319444462935), (3067, 0.09266396917239962), (3311, 0.09057158439160157), (1586, 0.08604189479475366), (4031, 0.08419333469917964), (1648, 0.07781607783687856), (1279, 0.07333246565099036), (3157, 0.06742205487830702), (2789, 0.06704428810451409), (2382, 0.06695486743437883), (2008, 0.0668416629384661), (2413, 0.0653479300302793), (4515, 0.06506079693176868), (1464, 0.06271374610753583), (2419, 0.06183921912464958), (2538, 0.061191826521960625), (3632, 0.06047054809660763), (2517, 0.059311628366595336), (1929, 0.059207804080806024), (2037, 0.05886864431934916), (3607, 0.05857321097846879), (3228, 0.05608067459788257), (3692, 0.05502376648145799), (3376, 0.054766111836181026), (3682, 0.05416812920712309), (2416, 0.05412869886977621), (1098, 0.0537422616073147), (2066, 0.053055382171877205), (442, 0.05300387452286358), (1401, 0.05287338632867697), (231, 0.0523603895511799), (376, 0.05227340684938946), (4200, 0.05156340948913873), (1619, 0.051546942013948174), (1033, 0.05146924189604898), (1294, 0.051399066226917464), (878, 0.05127249283432739), (700, 0.050882467917480995), (2565, 0.05015051016109543), (2174, 0.04991292669711257), (196, 0.049846156603302924), (1724, 0.049468613040267305), (580, 0.04938502283978402), (3288, 0.04774620640028635), (601, 0.04760574264026833), (1378, 0.04751360528990322), (1948, 0.04747620273632722), (2205, 0.04735558149221061), (273, 0.04721443502160946), (3211, 0.04720559096870599), (799, 0.04704787899631917), (2177, 0.04689825758424994), (2440, 0.04683517269997817), (1123, 0.04683453401700485), (4370, 0.04673659185019891), (902, 0.04648595943524678), (3809, 0.046182663105463), (1068, 0.046046714565077265), (338, 0.0459715899161297), (4585, 0.0458226722020468), (1144, 0.04578233585398926), (2603, 0.045473340848534216), (2973, 0.04543600785586605), (1533, 0.04478968727990018), (4574, 0.04469059330522384), (814, 0.044627835469378846), (1052, 0.04458564436358291), (1925, 0.044522474875152124), (4032, 0.04428241112799365), (2319, 0.0431226374025616), (2123, 0.043065351477247056), (4241, 0.04289675150447123), (4431, 0.041225369569433463), (4099, 0.041008088439360116), (2058, 0.04031926262252097), (261, 0.04028291240666656), (341, 0.04022954064855965), (1920, 0.04005001254988567), (4477, 0.0399419641042486), (3181, 0.039695631247039745), (1168, 0.03945980827587538), (2215, 0.03939294669589042), (2112, 0.03925592350183227), (1494, 0.039042216940594614), (3811, 0.03881639562990443), (2507, 0.03866155922353457), (1191, 0.03850551234912996), (3238, 0.038457708170350866), (2539, 0.03844883322256476), (749, 0.038401632437816274), (4281, 0.03825852841753627), (271, 0.038206154456554994), (2182, 0.03802288971473728), (4675, 0.03731981558762779), (410, 0.03718900072881654), (2198, 0.03705917179157629), (3294, 0.037039233747053854), (798, 0.03671775192554), (3124, 0.03668215067965755), (354, 0.03651349521512297), (2755, 0.03649518070861862), (250, 0.03638719512395057), (1997, 0.036250196126747236), (3698, 0.03587561475358022), (2430, 0.035842907857073565), (2317, 0.03581533364593786), (1509, 0.035713217114546864), (4523, 0.03564907199946733), (1723, 0.03525281799705242), (4551, 0.03511020721937947), (1016, 0.035055879965354184), (1709, 0.03497734713819141), (1241, 0.034925317227275196), (1964, 0.03466083752441225), (4012, 0.03460645552585087), (2555, 0.034560766253647124), (1140, 0.03446349665019273), (1442, 0.03421417428984776), (39, 0.03406664116123051), (3741, 0.03398452345417019), (2278, 0.03397982345106909), (2301, 0.03385281926786059), (2981, 0.03368016467109727), (2807, 0.03367609213038173), (3491, 0.033623318981548925), (1270, 0.033606693618494825), (179, 0.03355433372939235), (733, 0.033527244919907426), (4401, 0.033525392017963083), (3639, 0.033421177209310406), (957, 0.033369349231193425), (4337, 0.03332454211047187), (2614, 0.033292984680313505), (1768, 0.033185478640691754), (1969, 0.03313618692398432), (2682, 0.033131986318400246), (1338, 0.033082997244827037), (1555, 0.03262560647167545), (3459, 0.03229965767487807), (3803, 0.03228257440247552), (988, 0.03226878701432277), (2779, 0.03212839566484414), (1617, 0.032113354789469584), (1477, 0.03211116080758973), (2637, 0.032103387796626706), (2525, 0.03209204500057582), (506, 0.032030214495655365), (1384, 0.03189627417827286), (4010, 0.031895531276277415), (166, 0.031755656508546524), (4478, 0.031721700947547726), (4643, 0.031699131992111294), (1254, 0.03168342260752007), (4341, 0.031654592022812116), (2638, 0.03157890769828978), (657, 0.03155403375164234), (844, 0.03135072359284327), (2531, 0.031301574622971895), (4340, 0.031210044433006227), (2019, 0.031176077524722852), (4377, 0.031119760462691406), (3461, 0.031067149963986542), (1516, 0.031045634801306315), (750, 0.0309854485622835), (3090, 0.030975147397766967), (3366, 0.030857645088929228), (3751, 0.03081310088237102), (97, 0.030799131576515225), (1090, 0.030745289779056533), (773, 0.030735355153398314), (2111, 0.030707510555589262), (25, 0.030699917529386743), (4402, 0.030622504348199915), (2179, 0.030569132980268077), (344, 0.03052747655434101), (1568, 0.03052212728734079), (1776, 0.0304642156413453), (2207, 0.03045851340958001), (810, 0.030313278306074914), (2461, 0.030221103965857622), (2376, 0.030207042234120407), (2834, 0.030186566144156237), (180, 0.030094679504918665), (1687, 0.0300906832889386), (730, 0.03005380449484469), (3222, 0.029847937025499927), (459, 0.02984145782362201), (812, 0.029784819247011908), (686, 0.029783684304176203), (724, 0.029761109204334685), (3503, 0.02969084533079735), (1312, 0.02965151632784148), (1663, 0.029497163450273048), (3606, 0.02947877852941731), (2442, 0.029465656156636568), (3389, 0.029399264991506475), (263, 0.029351839725104745), (1691, 0.02933634033424204), (1953, 0.029203759252353093), (399, 0.02919764800634779), (1561, 0.029151854425507235), (1015, 0.02899638310015192), (3910, 0.028945453926976054), (1883, 0.02890184704760466), (1610, 0.028871632143984218), (346, 0.028808218557399276), (1875, 0.0288009097473303), (307, 0.028774402650251284), (2046, 0.028724947644221226), (246, 0.028670186212826358), (4334, 0.028641543892838562), (2644, 0.02861008983636515), (620, 0.02851011248576128), (3938, 0.028483528517082565), (2510, 0.028405272288185575), (3023, 0.02840011638186745), (83, 0.02836143931751025), (3272, 0.028277129649219482), (470, 0.028191688368422396), (2711, 0.027993310419832627), (4492, 0.027917269679201037), (864, 0.0278865404173728), (1139, 0.02767773772247914), (4359, 0.02764292163501728), (2560, 0.02760757120966897), (1004, 0.027419062137855665), (4364, 0.02730954696906942), (1014, 0.027289271469482672), (1798, 0.027179429559352285), (563, 0.02717323483057861), (1958, 0.02677560364150878), (267, 0.026745101110176635), (4292, 0.026671626637851536), (2867, 0.026600252433707318), (1571, 0.026544696053845938), (3264, 0.026491492046047983), (1784, 0.026407535571825003), (3752, 0.026264945691208602), (2688, 0.026147442574778197), (4596, 0.02611112632309836), (1771, 0.0261099323574632), (2031, 0.026030779652879706), (1760, 0.025754496431756344), (1192, 0.025736645564834043), (2841, 0.025726695505365826), (3111, 0.025549339112719033), (3024, 0.025142602769670074), (1389, 0.024875006304909453), (2027, 0.02462208435703432), (2147, 0.024607693400075195), (616, 0.024597290915228175), (224, 0.024580521701552362), (3234, 0.024579134664508413), (2963, 0.02457686785228884), (1919, 0.024571638601357533), (1578, 0.024513658827597692), (3566, 0.024496782312123377), (1365, 0.02449080031577753), (1825, 0.02443199402814529), (2126, 0.024429200170167052), (4189, 0.024291335436695614), (1701, 0.024066909977089296), (138, 0.023985804312276995), (3200, 0.02392198781632246), (2660, 0.023910550646805074), (1132, 0.023874694926365167), (3562, 0.023865186099250733), (1262, 0.0238132751341177), (2962, 0.02380211040322399), (3083, 0.023777667592937177), (1881, 0.023695425893940948), (3172, 0.023590151888197516), (3330, 0.0234408677373217), (2005, 0.0234061113542302), (607, 0.023349323865915622), (1678, 0.023283742510762977), (4174, 0.023258863337467833), (706, 0.023240433393786286), (284, 0.023238493215950333), (1863, 0.02315282419168208), (1506, 0.02314754888393302), (2668, 0.023064245806266204), (2582, 0.02306339495399298), (3739, 0.022902078871677303), (4496, 0.02288732867470191), (2178, 0.02282672535559553), (1059, 0.022809922926274727), (2180, 0.022793591890722498), (2844, 0.022744055209535867), (484, 0.022647294348021166), (3579, 0.022615373820671292), (699, 0.022499670967411733), (1060, 0.02249093975059268), (1109, 0.022383487045430493), (1217, 0.02230136115005837), (2183, 0.022301359132262062), (653, 0.022294972747584216), (407, 0.02228756322182955), (1793, 0.022227413935194132), (1755, 0.022159382036151292), (2892, 0.022064432867935385), (1067, 0.02205545272422372), (408, 0.021985766398259162), (2158, 0.02197893466231049), (919, 0.021976748552544716), (4741, 0.021946273404025607), (3469, 0.02194228299571678), (3363, 0.021871789315803452), (742, 0.02184560562636895), (3141, 0.021776749926731658), (3, 0.021769613238053136), (1662, 0.021673683437981737), (3392, 0.021667125209197266), (1858, 0.02164031193264426), (2114, 0.02162590395782301), (2406, 0.021511501996666908), (3137, 0.02146698394238687), (2830, 0.021352151124306044), (4531, 0.02124931081012246), (4038, 0.021207411850926564), (4242, 0.021185485285463778), (4132, 0.021176125281603213), (1707, 0.02117045746970499), (820, 0.02115114541263136), (930, 0.021074039472761125), (2785, 0.02106606842597081), (4290, 0.021052415184524553), (288, 0.021031058242981605), (3655, 0.021019144076430567), (3205, 0.021003220055873753), (2611, 0.020990434484121967), (3463, 0.020979950155322325), (664, 0.02089951448990449), (2504, 0.020876023592955324), (1095, 0.020836908803440374), (4406, 0.020761999235058174), (34, 0.020759312712180147), (1821, 0.020705564291828585), (1918, 0.02069381503662873), (2494, 0.02067116496111322), (189, 0.020641603253582937), (2236, 0.020629166451649056), (2331, 0.020578197646667993), (3936, 0.0204500328292794), (2931, 0.020439721339981655), (778, 0.0204316937636114), (1234, 0.02042505947342785), (264, 0.020377518023272954), (1461, 0.020359528210193184), (2387, 0.02034338232781217), (748, 0.020313214096012708), (4662, 0.020290456003769636), (3818, 0.020269084361439767), (2124, 0.020239181343062115), (579, 0.020209093322880328), (631, 0.020205692885536), (3610, 0.020203278195191462), (207, 0.0201760830941303), (3368, 0.020170777268086325), (1239, 0.020158806410426073), (3270, 0.020088766419351485), (2047, 0.02006038179333782), (1345, 0.020022559546234914), (4158, 0.020021069701143784), (2045, 0.019983710977080654), (2903, 0.019971665126891875), (135, 0.01992070413063493), (2070, 0.019749039807483944), (1831, 0.019725035854219686), (1754, 0.019712219945044525), (2782, 0.019646817939642597), (2021, 0.019618700785616137), (1334, 0.019595355801331052), (212, 0.019568459972589835), (969, 0.019563634721973824), (4495, 0.019557801863924088), (277, 0.0195410594059221), (1986, 0.019536270564582493), (1007, 0.019524198500665602), (1991, 0.019504512275994153), (1926, 0.019434095311866573), (1238, 0.019425462426112153), (2398, 0.019412335273404906), (4442, 0.019407029267770184), (2362, 0.019388452572163633), (1742, 0.019368355789172363), (758, 0.019340466468272907), (400, 0.019336258967297588), (2281, 0.01933032723901119), (4300, 0.019300836213436968), (1130, 0.019287025783256764), (79, 0.019271592414788364), (1374, 0.019260117514277662), (2693, 0.019253335765867026), (1074, 0.019236109383611873), (2923, 0.019230064005531157), (992, 0.01920411076435267), (3130, 0.019181397279167886), (4090, 0.019174160027656355), (3161, 0.01916915165688175), (527, 0.01916132111134494), (3240, 0.019095534855580736), (2136, 0.019080483511300792), (866, 0.019078073248186944), (4546, 0.019075079131344545), (343, 0.01907335475113036), (1756, 0.01907045822176353), (3437, 0.019068002898758256), (4472, 0.019066513492720795), (3608, 0.019050608784012366), (875, 0.019012201804690213), (1913, 0.019011776322539472), (726, 0.019008454240040704), (477, 0.018993656532422902), (508, 0.018943573330134945), (372, 0.018914190240238854), (1011, 0.01887606592425746), (3069, 0.018853646624057634), (3777, 0.018853301977687517), (1205, 0.018849290809948543), (4009, 0.018769144720461067), (151, 0.018755842108215216), (411, 0.018747320593951438), (3342, 0.01874607699527891), (3444, 0.018736090260450283), (1400, 0.018703905321571252), (1930, 0.018699902138080635), (1439, 0.0186917164141921), (1306, 0.018673131160706263), (1336, 0.01864492410664184), (1173, 0.018572240810198676), (3968, 0.018567532459700962), (1704, 0.01855258304246269), (2736, 0.018551059664590214), (691, 0.018539242778650503), (1171, 0.0184911073333101), (1521, 0.018486484309381754), (575, 0.018478684846026005), (2259, 0.018464370323830345), (1537, 0.018439865236187663), (1503, 0.018436153524900304), (3653, 0.018421712133265034), (1165, 0.01840910495948537), (577, 0.01835152508902973), (2713, 0.01834984700619403), (1769, 0.018267669478273373), (3060, 0.01823807993462254), (316, 0.018207973088516988), (4136, 0.018193071670194752), (923, 0.018192512432169565), (3550, 0.01818983463979855), (916, 0.01811518421766777), (2118, 0.018113767710886318), (4109, 0.018096878088414377), (3445, 0.018086645907684523), (1729, 0.018048567168758616), (1093, 0.018048198837047075), (4165, 0.018036038857685007), (717, 0.018016913754865096), (781, 0.018011329637067315), (1827, 0.017975524983892682), (2766, 0.017958640102120872), (1102, 0.017949185751466687), (4074, 0.017881543154364427), (301, 0.017864605453975717), (3520, 0.01785309576186389), (3304, 0.01783887897618349), (1195, 0.017757307609228907), (4619, 0.01775452783692781), (1882, 0.017750124048282273), (628, 0.017748462329575387), (2729, 0.017724088218908907), (3722, 0.01770972560714741), (834, 0.01769413543321569), (1966, 0.017691543067569936), (2360, 0.017675174928730487), (4366, 0.017667055317494136), (4726, 0.017660986848889594), (1155, 0.017629985560841208), (3789, 0.01761624387302874), (931, 0.017609029878736998), (555, 0.01760448086848338), (554, 0.0175861459024426), (4360, 0.017571670050517834), (3047, 0.017519608629725604), (2232, 0.017503433057461555), (4451, 0.0174943714191418), (4210, 0.01747978715678993), (1633, 0.017479748913240677), (1525, 0.017469835043542166), (1134, 0.017454943552875492), (4236, 0.01745088583925556), (1263, 0.017449727222564233), (1018, 0.01744297153384435), (3409, 0.017420057997793222), (2227, 0.017386395982959157), (1253, 0.017384714477060196), (3650, 0.017355603903373203), (2184, 0.017335069383634476), (4447, 0.01731306947016298), (2414, 0.017307137167048597), (1792, 0.017281995439292284), (2812, 0.01727394381420247), (3701, 0.01725554937197235), (4293, 0.017223366426666612), (2107, 0.017210817381219563), (2211, 0.017171464633100535), (833, 0.01716745764959965), (334, 0.0171659015476308), (4071, 0.0171636601856053), (1954, 0.017147888296618227), (4105, 0.017132515759483855), (3252, 0.017115800401131094), (609, 0.017100895619555637), (2273, 0.017092138755896345), (1373, 0.017069055542238906), (78, 0.0170617121402359), (835, 0.017030585835040045), (1351, 0.017026860837366892), (1820, 0.016989147084700115), (3557, 0.016975111125763616), (1877, 0.0169622193295991), (31, 0.016950454426977637), (661, 0.016943401122597932), (2139, 0.016942744549164283), (2992, 0.016929981949053707), (3133, 0.016858434130420798), (2329, 0.016833206852405497), (2938, 0.016808685051460274), (3869, 0.016807169077818013), (707, 0.016751891737627634), (1143, 0.016693171739846076), (94, 0.01661931755385831), (2322, 0.01659710651193861), (1491, 0.016583213603176376), (1071, 0.016551381445994284), (2704, 0.016527846438933055), (739, 0.01652145775609205), (3646, 0.016513099997440134), (3532, 0.016509368444982762), (4389, 0.01645298334300816), (3826, 0.016418667964367063), (1543, 0.01639892698190765), (537, 0.016355867638663674), (2878, 0.016320434181389773), (2697, 0.016296150052906095), (3481, 0.016286464248601914), (1451, 0.016250399075120995), (2214, 0.01624455899775935), (3894, 0.016231774751348467), (801, 0.01623122873487897), (36, 0.016219663180150744), (345, 0.01620964034981659), (887, 0.016151645479888423), (2643, 0.016119500278052493), (100, 0.01611514930243795), (80, 0.016080394063223053), (481, 0.01605880804486733), (4077, 0.016053289111903398), (3563, 0.016044385384201058), (1308, 0.016032620985043034), (668, 0.01602546629933467), (3841, 0.016002467069391412), (163, 0.016001829989430446), (41, 0.015981961740282703), (1482, 0.015957459389237733), (2522, 0.015955676983035492), (2819, 0.0159467191607544), (1458, 0.01592213120929338), (3204, 0.01591155065455616), (14, 0.01588766819406767), (2626, 0.015886042779541407), (561, 0.01585491790255719), (511, 0.015853811603275755), (3027, 0.015833518914862857), (2646, 0.015830461314919553), (1114, 0.015822632703996205), (2365, 0.015810971010547858), (1432, 0.015791190962667158), (960, 0.015772234633923684), (2714, 0.0157627203572746), (3097, 0.015761961543266385), (1210, 0.01573773006083791), (2294, 0.01573496047406214), (1454, 0.015710376930344976), (1467, 0.01570909381408256), (456, 0.0156987291410959), (2484, 0.01568174354179999), (1871, 0.01567852170988287), (2615, 0.01567320308224479), (1727, 0.015671828333396583), (872, 0.015654327627131665), (2015, 0.01564901356074144), (562, 0.015641784980709113), (4609, 0.015630153200848665), (2739, 0.015619150719334236), (1324, 0.01561349328967761), (584, 0.015612878603253477), (2239, 0.015609829983759092), (444, 0.015595289919053242), (3096, 0.015582431168579514), (395, 0.015581231472415571), (2605, 0.015575569436059903), (1229, 0.01553822052057738), (2541, 0.015530370793861756), (1539, 0.015516207434722266), (1600, 0.015465963900219547), (840, 0.015445379634751743), (2654, 0.015409318825358898), (3388, 0.015400048216703967), (656, 0.015365586010201842), (3747, 0.015347928627252679), (852, 0.015342062049081681), (2521, 0.015336859996265835), (1108, 0.015311753293797293), (935, 0.015293943381916532), (1299, 0.015239650521965088), (1172, 0.015216101985869713), (731, 0.015212331227025951), (3613, 0.015173929027393075), (3564, 0.015171193312075365), (994, 0.015156339879236326), (4006, 0.01515454074504343), (588, 0.01515162905210046), (1931, 0.015141015387265956), (258, 0.015120854954091809), (1524, 0.015096067393656666), (4455, 0.01509180124826425), (794, 0.015085353924654916), (4199, 0.015080827461938279), (3980, 0.01506504142760472), (2977, 0.01506471964277392), (91, 0.015057969568997524), (1356, 0.015052616960582415), (108, 0.0150374562255194), (3078, 0.015035603431100395), (1861, 0.014999749895829745), (2641, 0.014987364137239364), (1512, 0.01497070645011383), (1296, 0.01496751913124947), (1775, 0.014961343677371198), (394, 0.014952357284593373), (1394, 0.014950702585051394), (2340, 0.014938938762121124), (3645, 0.014932646390341198), (2092, 0.014888670224816951), (1110, 0.01487405770159733), (1788, 0.014849497773904492), (1106, 0.014822665452417559), (4526, 0.014813349986780765), (634, 0.014804411331885769), (4570, 0.014792434142564793), (3736, 0.014773437375969862), (3836, 0.01477303094243411), (3492, 0.014751470677834349), (2513, 0.01474713686918445), (35, 0.014739186461132921), (1579, 0.014689677671095141), (1406, 0.01468403092208789), (2802, 0.014671310194272744), (3197, 0.014620713181023707), (2584, 0.014596128986447299), (4667, 0.014572264415722616), (1675, 0.01453707165552163), (1584, 0.01452032597042199), (2043, 0.014496906633786607), (3881, 0.014463125755941697), (3367, 0.01444574191052577), (2154, 0.01442581743248607), (2496, 0.014422430877828678), (4711, 0.014420692193489463), (1750, 0.014419178909542132), (2756, 0.014413988727060454), (1044, 0.014409798803219515), (4171, 0.014384791611062035), (4039, 0.0143608594675619), (67, 0.014359963586894342), (1921, 0.014334567416185332), (4011, 0.014296674841630838), (3089, 0.014292434766291277), (1216, 0.014292241999459256), (1623, 0.014271138585493929), (2296, 0.0142664321787952), (4483, 0.014257786601899324), (2095, 0.014252397421773817), (130, 0.014246061010035007), (1295, 0.01421509633507076), (3473, 0.01420515521204619), (2574, 0.014182639861072625), (597, 0.014167019064708939), (2528, 0.01416667734770733), (308, 0.014160815067701586), (4154, 0.01415530975493408), (3085, 0.01409354125154313), (3554, 0.01408325486841609), (2004, 0.014082525626866045), (803, 0.014082209412684035), (116, 0.014056719388579015), (75, 0.014036542666052603), (4752, 0.014030026232252545), (3783, 0.01402991046701783), (2527, 0.014022674751489541), (4193, 0.013960877675865312), (1713, 0.013940312341715834), (1698, 0.013922110947716245), (3965, 0.013897209444514851), (1839, 0.013883132435782031), (2916, 0.013873068396347889), (496, 0.013860402005830235), (3080, 0.013828385066880776), (4516, 0.013801216444992187), (3842, 0.013757867396600943), (200, 0.0137566987682869), (1615, 0.01374937460470791), (32, 0.013742447050691255), (3395, 0.013739041122583125), (1466, 0.013719840313557087), (1714, 0.013682574271650075), (218, 0.013668191106644361), (3524, 0.013665053766763684), (2806, 0.013612033924396699), (269, 0.013604455179401757), (4237, 0.01359664997150528), (3540, 0.013595358023555102), (944, 0.013577252785521469), (1843, 0.013568917680538192), (4258, 0.013554649132511832), (2717, 0.013547383969482117), (1699, 0.013525131085557997), (4397, 0.013518343287470777), (4015, 0.013514866678564828), (1392, 0.01346821121273592), (723, 0.013466987402138), (1092, 0.013443540304497383), (3003, 0.013439397784499332), (997, 0.013434990619464585), (2049, 0.013423262013757245), (1567, 0.01342178302366402), (2672, 0.013420939501366823), (2260, 0.01342033846909593), (1080, 0.013395197971361815), (365, 0.013314148342923092), (3116, 0.013305920507252229), (3474, 0.013303185765007068), (4140, 0.013293880720816324), (2710, 0.013290313780193894), (3846, 0.013285046914813064), (2371, 0.013261053893945576), (719, 0.013231321565359914), (576, 0.013231199506669313), (4034, 0.013231005798656699), (3817, 0.013225135053288593), (2592, 0.013220248893098004), (3628, 0.013156882398147458), (1318, 0.013151090664221108), (979, 0.013126876154032898), (3345, 0.013122393361641416), (13, 0.013101740136529413), (1474, 0.013086558180463179), (1141, 0.013079948789947907), (1810, 0.013046389838720368), (1246, 0.013039860264824447), (2516, 0.013031564190779646), (617, 0.013025540168773157), (1670, 0.013015880195033809), (2000, 0.012966134333651213), (3112, 0.012955588783393535), (3704, 0.01293864208507622), (3313, 0.012928554414973311), (2656, 0.012873983034507958), (146, 0.012870187366820905), (4559, 0.012852910807218808), (715, 0.012832510886791784), (1513, 0.012813431125654914), (3812, 0.012810586031386203), (283, 0.01280800433184179), (362, 0.012805932129706274), (961, 0.012801960222765715), (2719, 0.012794270252600038), (1955, 0.012785923026483056), (1844, 0.01278210656762864), (2337, 0.012772824299728381), (757, 0.012744155413021378), (2451, 0.012739889357006217), (4371, 0.01271581063661732), (1932, 0.012696121286873776), (2196, 0.012694616087635918), (2474, 0.012693102503961632), (2086, 0.012687888845889991), (129, 0.012684508171751015), (1333, 0.01268017505677947), (1731, 0.012673543090405415), (977, 0.012663536945146152), (1463, 0.012596655463407727), (2127, 0.012579334198742497), (1683, 0.01253613059716016), (621, 0.012522667804180028), (4427, 0.01251765360237702), (2316, 0.012512782411732886), (1013, 0.012494017422393177), (405, 0.012487065417359958), (3287, 0.012485679818484124), (361, 0.012463055319034036), (3790, 0.01245639373375176), (1085, 0.01242975014896642), (3735, 0.012425114615657963), (4146, 0.012419068395731378), (4589, 0.0124089817980739), (881, 0.01240779827886788), (3916, 0.012406219390584694), (740, 0.012398357940835951), (2427, 0.012378506629143558), (2466, 0.012376597166461865), (2283, 0.012367525252882974), (684, 0.012357567804136771), (1289, 0.012342060353691692), (413, 0.0123390165872395), (312, 0.012331135261520342), (4168, 0.01233024268887845), (2320, 0.012309564639623934), (1505, 0.01229881536623847), (2856, 0.012291720079794368), (1361, 0.012289424425270331), (1697, 0.012270242238975996), (3539, 0.01226303303383856), (4756, 0.012243229885043155), (2171, 0.012188924395709297), (1278, 0.012170048116703072), (813, 0.012161931414813018), (2125, 0.012148774591530296), (3805, 0.012143139470887486), (3022, 0.01213815616766281), (2896, 0.012133877328233152), (2625, 0.012133720543187971), (2332, 0.012130676156926362), (946, 0.012122698514411593), (3903, 0.012120881574171806), (2401, 0.012098870233505895), (433, 0.012083166885103542), (1602, 0.012078272010489562), (3807, 0.012056003415056887), (2421, 0.012053651405874648), (1936, 0.012043647859961227), (528, 0.012037743633367525), (3921, 0.012034344888483994), (2813, 0.012032674730069224), (2485, 0.012026014171498083), (423, 0.012016119055274868), (498, 0.012011333556785655), (4380, 0.01198583873007548), (4314, 0.011983642297696806), (4604, 0.011979943268331551), (2549, 0.011970582853123057), (909, 0.011964509485320463), (7, 0.011948151543685077), (3424, 0.011922815915831591), (3335, 0.011918595689672943), (2550, 0.011903061989601543), (1783, 0.01190224492084418), (4118, 0.011886811170308471), (3926, 0.011880631358008497), (404, 0.011843760239531625), (3414, 0.011838237440742354), (2087, 0.011837677279540734), (2335, 0.011832954992190454), (1298, 0.011830037168905407), (490, 0.011826446315315377), (4303, 0.011796685034524905), (1604, 0.01177891613203105), (117, 0.011767688939099562), (3286, 0.011765541674817016), (2831, 0.011762074802333627), (3685, 0.01176022810952351), (1804, 0.011759972687296047), (4329, 0.011750832921202414), (665, 0.011750293972663146), (2052, 0.01173244159364501), (1799, 0.011724778992011993), (1849, 0.011720690559748004), (859, 0.011719704264471307), (2593, 0.011717316894116288), (2752, 0.011710022618868617), (188, 0.011707637828751963), (2210, 0.011683968553485134), (4020, 0.011679212580661515), (522, 0.011640248793829381), (3677, 0.011639942354960874), (2590, 0.01162186680384839), (4624, 0.011618648935130555), (3458, 0.011590982860623055), (1552, 0.011582704992131886), (4754, 0.011582103120437589), (662, 0.011575195382683083), (1425, 0.01155809098293261), (3285, 0.011552712148930371), (635, 0.011543691614606388), (1235, 0.011538694988839766), (3753, 0.01153184428820698), (4482, 0.011523935065793725), (4356, 0.011494964261430072), (2252, 0.011481486930948056), (1358, 0.01144386206145086), (335, 0.011438105248152053), (1084, 0.011416980608837396), (3350, 0.011412968566093695), (1594, 0.011402975307176719), (162, 0.011392561201675443), (1878, 0.011389356458415474), (2814, 0.01138024663815886), (4270, 0.011338135674129885), (2100, 0.011319782337556766), (3515, 0.01130768686290605), (2835, 0.011288005186321838), (4061, 0.01127927799205153), (546, 0.011266075384802452), (4569, 0.011229919189473298), (74, 0.011226878632578619), (4332, 0.011223830961828676), (1854, 0.011221733748150005), (3370, 0.011200994088904114), (1664, 0.011191504256939223), (53, 0.011189480104241603), (185, 0.011187174557404235), (1009, 0.011175945824132819), (73, 0.011156394081899166), (831, 0.011134581917369222), (3138, 0.011134469118418696), (2201, 0.011113584618978769), (2099, 0.01110698761221264), (297, 0.011105496240680704), (2996, 0.011088070293664442), (3907, 0.01108776217703703), (1079, 0.011018290238554487), (920, 0.011018047605079438), (2265, 0.010990777739627157), (4342, 0.010952883200890096), (3456, 0.010921630600433187), (745, 0.010917033264341588), (3765, 0.01091569560666705), (1606, 0.010914338983570521), (3865, 0.01091314508451444), (2389, 0.010847961577772276), (3716, 0.010827781424218802), (4001, 0.010802731367475817), (3690, 0.010801654289890595), (2944, 0.010784793630845918), (1690, 0.010781754793273219), (3785, 0.010776138834789756), (1684, 0.010774821822486898), (2492, 0.010746445208828954), (4358, 0.01074472679880833), (1105, 0.010739453467544438), (1830, 0.010735418686481382), (2632, 0.010688677915836116), (2721, 0.0106869364768298), (519, 0.010679052345916653), (1517, 0.010660682911735612), (1522, 0.010657862487020572), (257, 0.01065476337366301), (259, 0.010650606228142664), (1496, 0.01064354396122907), (4191, 0.010643175145199066), (3518, 0.01064067350317614), (2793, 0.010636734923988388), (1459, 0.010612954962115527), (912, 0.010597221709568476), (1423, 0.010590197557483489), (3743, 0.010572391358275248), (1915, 0.01056901274436688), (328, 0.01055850682113781), (2422, 0.01055357582403024), (2976, 0.01055219025500863), (1700, 0.010534982409534007), (1319, 0.010529243337730594), (785, 0.010480043810822582), (768, 0.010459505687024098), (3890, 0.010449878516079989), (3122, 0.0104495490292434), (1472, 0.010433321466217595), (1304, 0.010423179687823164), (1420, 0.010419378458289517), (460, 0.010411112023653621), (1087, 0.010393837660165894), (2160, 0.010380993512745917), (2763, 0.010362430500451401), (712, 0.010348316440636317), (1500, 0.01034614856784752), (727, 0.010327599517854747), (1329, 0.010325447320035562), (1666, 0.010305981869293301), (2498, 0.010290240743083327), (530, 0.010287180166678057), (1118, 0.010283052237541654), (2006, 0.010282301176439093), (2102, 0.010277968394817002), (2616, 0.01026780023782285), (4682, 0.010266151467782625), (3823, 0.010254784647847076), (962, 0.010239960543429873), (2014, 0.010236627818641585), (4070, 0.010230930494173125), (780, 0.010213385786726729), (3454, 0.010206049139714065), (2036, 0.010202847111611877), (310, 0.010196068494568954), (2553, 0.01019093108695291), (1581, 0.010190773852306129), (2765, 0.010174390204634903), (287, 0.010163297072270953), (221, 0.010149534069940699), (2791, 0.010126137124059017), (1002, 0.010124837713996613), (995, 0.010117142961743437), (1668, 0.010112434423667743), (1823, 0.010100662622878974), (4205, 0.010090236498988875), (1001, 0.010074975561963196), (4110, 0.010074415778616121), (1307, 0.010065311769311662), (4192, 0.010062920976704954), (500, 0.010054023335932069), (3970, 0.010049833343527333), (4576, 0.010036226333029365), (1300, 0.010008652299091056), (2758, 0.010001626572515314), (4282, 0.009998169486689506), (540, 0.00998238189700602), (2062, 0.009968147803495659), (2175, 0.009963742793376465), (3091, 0.009958099266265102), (1630, 0.009942662964233183), (1608, 0.009940365275313858), (1412, 0.009922485916234144), (2680, 0.009916663178488975), (911, 0.00991150813988549), (1291, 0.009903838328563189), (1041, 0.00989089027620294), (594, 0.009889875229593205), (1029, 0.009878848892557442), (763, 0.00986955627799749), (1787, 0.009844468436336178), (4598, 0.009836503439076992), (214, 0.009833388267777167), (4679, 0.009822474133115084), (2224, 0.009819012705082474), (3420, 0.009817924399393933), (4106, 0.009808259448104734), (1259, 0.009791779842526065), (934, 0.009773543504317335), (895, 0.009771346155458395), (2287, 0.009752444581540886), (524, 0.009731523181955129), (1982, 0.009721206121577076), (124, 0.0096873431410366), (428, 0.009684171473631476), (1354, 0.009651371213414332), (1650, 0.0096488733614988), (122, 0.009640880545586424), (874, 0.00963403392662288), (37, 0.00959230290185483), (421, 0.009589749174039397), (981, 0.009541345490999966), (4055, 0.009527670216966775), (2285, 0.009500944034447434), (2338, 0.009485709423141888), (2724, 0.009471734131117801), (2161, 0.009440882313216947), (357, 0.009439235092491812), (2074, 0.00941635651350452), (251, 0.009345810169353711), (222, 0.009339298511463933), (2065, 0.009338012999667253), (1039, 0.009326644110487071), (2975, 0.009289602507418001), (249, 0.00927447353095072), (1553, 0.00924768876048855), (640, 0.009246601759919076), (538, 0.009238381174181973), (2509, 0.009237568515595908), (2237, 0.009232468443225988), (762, 0.009187439357572519), (165, 0.00918656627562696), (403, 0.009175322973090407), (4201, 0.009155004259896012), (566, 0.009125216379379316), (2412, 0.009112882428344909), (3129, 0.00911047594764788), (4344, 0.009071859350662173), (1214, 0.008986762166412476), (692, 0.008963560961977776), (862, 0.008962020778606684), (441, 0.008956936387159855), (57, 0.008940246193011894), (1453, 0.008935724949407699), (1957, 0.008909168798476912), (3344, 0.00889828627999395), (1781, 0.008873591129986596), (2665, 0.00883361949792374), (2318, 0.008795554908846108), (2221, 0.008783460004947955), (1341, 0.008778553885599685), (1305, 0.008773155943701146), (2885, 0.008752903634576105), (2022, 0.008678130578776285), (3875, 0.008656489086262693), (4652, 0.008613091557839635), (412, 0.008606113543584913), (4674, 0.008551629801590023), (789, 0.008537033368108578), (1005, 0.008391610206884715), (82, 0.00836334702207021), (3144, 0.00831274589266592), (775, 0.008303300625039143), (266, 0.008146641593463448), (4541, 0.00813234794151864), (452, 0.008121481997758393), (228, 0.008076197473958288), (1471, 0.008046182505535621), (2562, 0.007993857571763206), (336, 0.007883918098995881), (0, 0.007752588629594665), (553, 0.0076091193883951165), (243, 0.007519769186333507), (2818, 0.007507095108466189), (330, 0.007407622953196171), (2534, 0.00732154939757189), (2568, 0.007237755338515926), (3142, 0.0072362486649977745), (3145, 0.007133839950965765), (4007, 0.006990366419680093), (202, 0.0069627692766403935), (2645, 0.006825408576593798), (4612, 0.006737061192989387), (2363, 0.006709484679937271), (787, 0.006641439943325108), (1548, 0.006610464223917068), (3578, 0.006605432966370991), (3448, 0.006600161649056094), (2673, 0.006598626342746284), (948, 0.006516733480238247), (2547, 0.006509316955145758), (4064, 0.00650123869966772), (4194, 0.006489346968226024), (1208, 0.006456551823783346), (2738, 0.006405423241333721), (3502, 0.006395264204633759), (2581, 0.006394246135883812), (4524, 0.00638609872491116), (3577, 0.00627859813534243), (491, 0.006269311203012706), (448, 0.006227931328447081), (2351, 0.006223858668382313), (1343, 0.006210604470391048), (3616, 0.006205121616767427), (3866, 0.006172623272332632), (4062, 0.006162566580657472), (3364, 0.00615914034944784), (2458, 0.006146666566722101), (225, 0.0061387667387023245), (1381, 0.006100503351954156), (2740, 0.006092552458389408), (4267, 0.0060883196237452395), (614, 0.006087605736674058), (368, 0.0060764971345141075), (3661, 0.006072793278837496), (3384, 0.006060350176835277), (4269, 0.006048724866948388), (1725, 0.0060280015359873915), (2032, 0.005999076696041703), (2720, 0.005998285602182296), (4203, 0.0059936500930568605), (3651, 0.005983601016181037), (1758, 0.005978019524972892), (425, 0.005963656083918089), (1887, 0.005957076846586196), (2339, 0.005955835170635733), (424, 0.005955445235297915), (1640, 0.005951359932977661), (1681, 0.005935912992181085), (4460, 0.005933285294738733), (1321, 0.005931686536508479), (847, 0.005919190087342825), (2079, 0.005919063336590831), (701, 0.005913922773605543), (4549, 0.0059136313467342255), (2518, 0.005909755782075543), (380, 0.005907572638474987), (1968, 0.005897156202750246), (2012, 0.005886203365575575), (4448, 0.005876665082089899), (1322, 0.005867810646806186), (4363, 0.005858218219642525), (3858, 0.005855045807938308), (3618, 0.005841606743251148), (687, 0.0058390625488411695), (1349, 0.005834584519461097), (666, 0.0058313879196310965), (3897, 0.005830857974332115), (12, 0.005824295006243212), (3681, 0.005817756021396891), (2436, 0.005814470559235358), (1733, 0.005814332145430647), (2873, 0.005801717704129791), (4351, 0.005799232460534806), (2854, 0.005796148095224104), (683, 0.005782928864950906), (4226, 0.005778127735699773), (4462, 0.005773730289996285), (1702, 0.00577147440596168), (1952, 0.005762524277826716), (3730, 0.005761995926167836), (3920, 0.0057594277476920525), (4330, 0.005753002841545852), (3924, 0.005743735918285475), (737, 0.005741306633346171), (2418, 0.005734492612835089), (1812, 0.005733160798859606), (3277, 0.005732050482448536), (4621, 0.005731204815516628), (3780, 0.00572919589294733), (102, 0.005727417013474012), (1511, 0.005717881491628588), (3218, 0.005717616441719443), (677, 0.005716880568446551), (747, 0.00571319693491733), (4119, 0.005698567324148994), (3857, 0.005695159578423888), (10, 0.005692292411876828), (2263, 0.005689218695902742), (2218, 0.005688554308108306), (1907, 0.005686076406513937), (2546, 0.005685822618294572), (3810, 0.005684360736928406), (1282, 0.005682385837747236), (1520, 0.005678908466550607), (4732, 0.005671364960139626), (4436, 0.005671322015186157), (1841, 0.0056665745127533135), (2951, 0.005664199575616768), (982, 0.005663451289933437), (2675, 0.0056609964240275715), (1104, 0.005657582574924303), (3822, 0.00565498817847491), (1893, 0.0056498340457400535), (1679, 0.005648978995859566), (342, 0.005646252269034373), (3919, 0.005645124228831538), (3959, 0.005642092694922751), (4108, 0.005638939900667891), (1718, 0.005633744768909052), (4312, 0.005631577589620348), (1851, 0.0056295261772452325), (1390, 0.005628693608694283), (2911, 0.005618883602020706), (1495, 0.005615852047915058), (2016, 0.005614073720012589), (3259, 0.005611284500990428), (123, 0.005611004911470846), (3374, 0.005607182147707884), (101, 0.005601145760626099), (2817, 0.005599168725359451), (1951, 0.005595291740368525), (2334, 0.005594781189910786), (704, 0.005594334944815787), (2241, 0.005591586666902559), (2633, 0.005590768414919091), (891, 0.0055896227671176964), (418, 0.005589451710316479), (792, 0.005583208759481812), (472, 0.005582090083910469), (1564, 0.005581568781034567), (4076, 0.005577590526889699), (4613, 0.00557215259554975), (3612, 0.005570101768914682), (2790, 0.005569153976972614), (2712, 0.005567905717221299), (4629, 0.0055663403630188905), (2303, 0.0055580992742934685), (890, 0.005557161379120397), (192, 0.0055496410820126294), (4379, 0.005548255745126078), (913, 0.00554389375116856), (298, 0.0055438121250810666), (4265, 0.005543542648174006), (2487, 0.005540449178000823), (272, 0.005537963148711721), (4262, 0.005536827861383405), (1346, 0.005536402092869347), (1587, 0.005536019284003841), (4695, 0.0055353511291704625), (2798, 0.005533306670407931), (3678, 0.0055327655997707455), (3457, 0.005528049423502445), (4013, 0.00552678010235181), (2277, 0.005520999714783587), (2816, 0.005517736271866398), (201, 0.0055164258014429035), (4376, 0.005514818172220207), (2689, 0.0055133177883408425), (2809, 0.00551230816745923), (4395, 0.005511687534482379), (2222, 0.005510562791962072), (239, 0.005508063201887468), (2610, 0.005506402059916918), (3283, 0.005505681305319628), (2900, 0.0055056770154776405), (11, 0.005499511293205847), (1006, 0.005496617280246022), (3233, 0.005496050553956882), (3386, 0.005493883831110884), (3643, 0.005493243099116679), (1660, 0.005485573781327896), (3549, 0.005484379967892592), (3507, 0.005484190614122564), (3599, 0.005479696033452747), (2910, 0.005479676229968364), (2725, 0.005478271923279426), (2431, 0.005475519106470014), (3551, 0.0054710543574954485), (216, 0.005470422077525905), (220, 0.00546982823641428), (2940, 0.005466580500053839), (2072, 0.005462536508549686), (918, 0.005459530351623778), (3648, 0.005453469400886546), (908, 0.005452695596167648), (1577, 0.005448368519301237), (3526, 0.00544762395324498), (525, 0.005446886322722523), (3689, 0.005446577455430783), (2444, 0.005444869232825809), (1402, 0.0054442229555655055), (1688, 0.005441535334185937), (1613, 0.005438363345099058), (3464, 0.0054370396180226386), (2691, 0.005432328696403177), (2511, 0.0054299614132753546), (4025, 0.005426387632571258), (1413, 0.0054263119027219975), (928, 0.005425622922771468), (1645, 0.005424188620102384), (3778, 0.005422354092727213), (137, 0.005418987742996871), (3963, 0.00541897306114617), (1447, 0.005414751314688395), (4486, 0.005413220096001749), (1443, 0.005412232377456151), (1048, 0.005409265325078399), (1908, 0.005409116729568678), (3303, 0.005408052674003888), (3125, 0.0054079886214138135), (1223, 0.005400211642753304), (685, 0.005400105453382826), (2732, 0.005397683750405116), (169, 0.005397556501335936), (483, 0.0053925488841442375), (1751, 0.0053908643078165765), (2246, 0.005390748981411589), (4686, 0.0053890742330454265), (523, 0.005389008304434311), (1396, 0.005388546807831736), (1689, 0.005386572755793724), (2792, 0.005383131830483167), (28, 0.005383041455759213), (585, 0.005381624155521825), (504, 0.00538129449597007), (1179, 0.005380999290123545), (971, 0.00537825117538602), (56, 0.0053777873345155595), (1436, 0.00537504303729571), (4467, 0.005364680261858305), (1985, 0.005363460531957605), (1411, 0.0053634224987689485), (3917, 0.005363259828793865), (560, 0.005362263396727773), (1146, 0.005361176010336402), (3018, 0.005356068007579982), (3321, 0.005354873934264449), (897, 0.005354649387417551), (3446, 0.00535398791084667), (3150, 0.005352235849158671), (3594, 0.00535198114877459), (1961, 0.005350247548200161), (2003, 0.005348665663861032), (2501, 0.005348509907363388), (3265, 0.005345765267993947), (3297, 0.005341966168747994), (2640, 0.005341469402507808), (4592, 0.005341391419502053), (1077, 0.005340526333294494), (1726, 0.005337450605181369), (3536, 0.005333959205961751), (2193, 0.005323736857918961), (299, 0.005322662403256706), (529, 0.005322213947450762), (2268, 0.005317762205723509), (182, 0.005310715009575836), (2706, 0.0053105493600029965), (1501, 0.005300902164185372), (3073, 0.005300409016466298), (2169, 0.005300299502189171), (736, 0.0052975685812885745), (4218, 0.005296598348771926), (2017, 0.005294804970940079), (3435, 0.005292600807931428), (4135, 0.005291378527963511), (521, 0.005291282609058076), (3033, 0.005287137556733623), (993, 0.005285290830126413), (610, 0.005284046876495845), (1111, 0.005282751256392491), (1551, 0.00528262737186117), (347, 0.00528128969895101), (3955, 0.005277355493421666), (4283, 0.005273606288559193), (2503, 0.005264758552818877), (4687, 0.00526290066142937), (3568, 0.005262728232488424), (4068, 0.00526132403043438), (1035, 0.005261268898055821), (3053, 0.0052589736317857905), (769, 0.005256824504146484), (2109, 0.00525406870803879), (821, 0.0052534904841543845), (427, 0.005253036173939606), (894, 0.005245704758989736), (105, 0.0052403753674521575), (938, 0.005235567332929005), (150, 0.005235282897410462), (2061, 0.005234989621808543), (1526, 0.005234668374431959), (1022, 0.005231605816810687), (1515, 0.005230754131182798), (4112, 0.005229272876744824), (1857, 0.00522757054554112), (439, 0.005226543051149297), (3237, 0.005225225247727317), (2071, 0.005224257597345905), (260, 0.005220824944925278), (1620, 0.005220160352526086), (3966, 0.005215136139810588), (3066, 0.005214714846716908), (3477, 0.005211472978256375), (2808, 0.005208558138635776), (3746, 0.005204688546410531), (1794, 0.005203968131287316), (3709, 0.005203672097618451), (613, 0.005202866283435516), (4137, 0.005199433385897445), (4504, 0.005199423918021121), (1129, 0.005197637191791884), (3720, 0.0051975558406797875), (1257, 0.005195094958152918), (973, 0.005193031248934436), (3567, 0.005191947969227981), (3151, 0.005191095089468291), (1888, 0.0051897344752088225), (945, 0.005187067574171338), (348, 0.0051861188125232206), (2167, 0.005185025410376282), (3786, 0.00518499576121743), (1738, 0.005183107691350133), (1984, 0.005180654969509157), (2250, 0.005176322500703218), (2612, 0.005176162424597687), (152, 0.005174957237609383), (171, 0.005173076008736306), (966, 0.005170901123322554), (112, 0.005170714456526551), (3998, 0.005167264942875125), (2480, 0.005166393946162845), (2698, 0.005165890305832827), (4438, 0.005165115827467538), (3397, 0.005164836779982559), (3260, 0.005162123301548666), (3868, 0.005160420785466047), (2128, 0.005159796536489149), (3994, 0.00515842820597508), (1431, 0.00515816810975965), (3343, 0.005158090807614557), (1692, 0.005157693131759016), (2195, 0.005157088473063711), (2056, 0.005156438872806321), (4059, 0.005150448660517499), (507, 0.005149625722798249), (2131, 0.005144353601206136), (72, 0.005143417836093551), (223, 0.005142849458356261), (870, 0.005137075732842418), (2897, 0.005134733640953674), (618, 0.005130247730306966), (2642, 0.005129531626989104), (29, 0.00512940794362319), (883, 0.005128520338857741), (854, 0.005120045555210793), (3121, 0.00511800580117972), (3819, 0.005115683342919937), (1446, 0.00511205625923132), (3295, 0.005110698311452234), (1113, 0.005109003032669142), (1597, 0.005108978473071318), (2777, 0.0051083041854858265), (3696, 0.005107271874773658), (3011, 0.005105131751751033), (568, 0.005105069096454037), (4328, 0.005104255570062759), (3886, 0.005104181307736455), (3010, 0.005100834887911933), (119, 0.005099805167628552), (4600, 0.005097411845613836), (2029, 0.005096848666575602), (4548, 0.005095834553790127), (1510, 0.005095559894273531), (3407, 0.005093746182074835), (690, 0.005093508984771661), (1782, 0.0050904534419704715), (4217, 0.005089273707028732), (4339, 0.005086340948562341), (2409, 0.0050854944331184), (4564, 0.0050811561126331084), (4152, 0.005078962269612566), (790, 0.005075613942509327), (2446, 0.0050655891005610965), (3046, 0.005065289710318749), (3891, 0.005064537035882958), (3293, 0.005053872322250635), (215, 0.005049848195456055), (1988, 0.005049543751079561), (3149, 0.005049354715668928), (1360, 0.005043091793136969), (3320, 0.005042920989383361), (2245, 0.00504165366099435), (643, 0.005039253585139053), (388, 0.00502873635096868), (1404, 0.0050271923254059546), (1778, 0.005027185235760823), (4658, 0.005026823746990182), (2859, 0.005022756451162128), (3399, 0.005022640004059296), (3412, 0.0050170387164881845), (356, 0.005015011599800719), (2666, 0.005012396175453164), (3465, 0.0050121167365811264), (409, 0.005010708468005528), (1493, 0.0050070836797098985), (486, 0.0050061297511433366), (1973, 0.00500480346701845), (1642, 0.005003382832400292), (3028, 0.005002742680657194), (915, 0.005002714044917116), (1368, 0.00500260912799038), (907, 0.005001095424246448), (4272, 0.0049995067897033035), (4399, 0.004996488332689108), (549, 0.004989611779731537), (492, 0.004983422370844271), (974, 0.004983286130179472), (2862, 0.004983112755040109), (9, 0.004983106192339749), (96, 0.004981168255819984), (4257, 0.004979732895425599), (1066, 0.004977939810696549), (3447, 0.004977161741854226), (2631, 0.004976440578165798), (45, 0.004973941017441337), (1314, 0.004972254364547357), (2291, 0.004970774653683904), (4374, 0.004968704612201793), (1430, 0.004968195383853945), (1824, 0.004963130717093332), (240, 0.004960078091375158), (2552, 0.004955317589824261), (2094, 0.00495413969039204), (1818, 0.004952259624544069), (4634, 0.0049511441040862355), (4155, 0.004951076889268471), (1267, 0.004948157384412754), (1895, 0.004947306736646831), (1746, 0.004945469113233658), (2954, 0.004944585024449714), (963, 0.0049439490389446014), (1682, 0.004943804031512833), (18, 0.004942417503642966), (4176, 0.004939727654901995), (170, 0.004938380463085086), (2311, 0.004935667947571436), (1487, 0.004935464481720566), (3127, 0.004935298037126259), (4689, 0.004933426422798267), (3633, 0.004928049888003473), (2920, 0.004926959796575639), (3854, 0.0049185015562514915), (4473, 0.004916943053842526), (2367, 0.0049098980314494466), (829, 0.004909150265891772), (2491, 0.004908094098627359), (3071, 0.004902007929807767), (1935, 0.004901798231588433), (1468, 0.0048995298013358385), (4459, 0.004897280392324839), (3825, 0.004896491026947254), (4348, 0.004888787484431716), (279, 0.004885549209126301), (291, 0.004875805112907372), (1054, 0.00487573411398778), (899, 0.004874855355079393), (788, 0.00487469047366624), (306, 0.0048732058314259), (4568, 0.004870350587051703), (454, 0.0048668231224310195), (3201, 0.004857091915942807), (2608, 0.004855027169743965), (569, 0.004850799270579309), (324, 0.004850408290128007), (1914, 0.004847465486562246), (3226, 0.004845951338577355), (1025, 0.0048457386810517806), (1000, 0.00484303911154173), (1157, 0.004842787089071223), (1817, 0.004841939706779192), (3306, 0.004841690158054844), (3284, 0.004841667440121525), (2145, 0.004836641701162932), (2514, 0.004835857581942697), (352, 0.004835735436782039), (1808, 0.0048339079050977955), (4057, 0.004820233802155596), (1990, 0.0048198618020886), (1456, 0.004818832919957652), (184, 0.004816076185818364), (1903, 0.004814233493178507), (2855, 0.004811039690066585), (495, 0.004810408518130835), (327, 0.004809922062734964), (744, 0.004809100365303391), (4143, 0.004806052678034907), (2906, 0.004805710178015421), (3411, 0.004798683511934067), (4297, 0.004793728804276911), (583, 0.004792947754204753), (2262, 0.004791929661415548), (1987, 0.004791045096641542), (3711, 0.004789904712690226), (3598, 0.004783781709176221), (885, 0.0047829949815222745), (2055, 0.004782245702394118), (1719, 0.004769479686222043), (148, 0.004769067897793509), (1994, 0.0047672825998247405), (3231, 0.00476438712746473), (191, 0.004763291837999578), (1626, 0.004757449906217409), (722, 0.004757338645852766), (1816, 0.0047547696534734375), (978, 0.004751743751653211), (1762, 0.004750482384173261), (3484, 0.004745635604572111), (898, 0.004736284763388213), (1546, 0.004732139610445213), (1772, 0.004725929110262018), (3327, 0.004722303077363116), (33, 0.004720721237510168), (1136, 0.004714806712381849), (1764, 0.004712692272842405), (2749, 0.004704092122770674), (1971, 0.004703683837845856), (1352, 0.0047035956316562304), (2627, 0.004694989371259802), (3748, 0.004691581627754629), (2587, 0.004687354294364176), (3336, 0.004686553776405572), (3108, 0.004686316836846073), (2156, 0.004679164754658413), (3914, 0.004672624449452902), (3928, 0.004670082557135667), (756, 0.004666160860766519), (3360, 0.0046621906840437115), (497, 0.004661665607138059), (3852, 0.0046610890917969106), (3393, 0.00465706766779708), (2942, 0.004655918271396483), (779, 0.0046525346066005864), (2933, 0.004652475486019784), (3403, 0.004651444316070899), (4590, 0.004643242010154734), (1850, 0.004639100120825926), (2801, 0.004636491495271112), (64, 0.004635363433875551), (4748, 0.004632488198419577), (3944, 0.004631945229804825), (1465, 0.00463146162590132), (1194, 0.004612482766212997), (545, 0.004611312824864766), (1120, 0.004604137691138269), (60, 0.004592300782575528), (1910, 0.0045777096270731435), (1046, 0.004575186628772577), (1215, 0.004570984151318633), (1559, 0.004560595430239759), (4156, 0.004558437979968061), (2, 0.004552816692471235), (2447, 0.004549819627818409), (86, 0.0045484993436917), (3674, 0.004547871894414482), (1178, 0.004546808920101653), (1301, 0.004540712295421718), (2842, 0.0045362970385274025), (195, 0.004536090812237514), (2204, 0.004532712399437938), (3668, 0.004531110284155954), (1377, 0.004529765929160617), (3957, 0.004529354149414594), (186, 0.004519891977773546), (2969, 0.004513062590988014), (177, 0.004501357385233152), (924, 0.004495024431597985), (3821, 0.004489222054446647), (639, 0.004486576037680307), (3731, 0.004484408226403321), (3658, 0.004484382835786592), (2481, 0.0044718198570999085), (2526, 0.004471226223856243), (2761, 0.004471186824756036), (1535, 0.004467993400204309), (1530, 0.0044668365004677125), (2622, 0.004466459667522854), (1743, 0.004464921189644661), (1221, 0.0044597594429605794), (2326, 0.004457819878514418), (2985, 0.004442926816069088), (1981, 0.004439546213966925), (1845, 0.004424853044151644), (1950, 0.004422344899637094), (4414, 0.004416899547285277), (1369, 0.004403770068914947), (3362, 0.004395801597908683), (88, 0.004391972013381948), (469, 0.004376645818626734), (2377, 0.004371552474114041), (3317, 0.00436639829238841), (319, 0.004346656372249854), (1395, 0.004338835658992681), (738, 0.004316350017422476), (3152, 0.004314778324487144), (309, 0.004300944504572909), (381, 0.004292628187127561), (3410, 0.0042891287284982), (237, 0.00427876397572211), (159, 0.004276812715139886), (2734, 0.004258391993637317), (2774, 0.004249538270237406), (168, 0.0042424263237895955), (807, 0.004236918270103107), (2013, 0.004229154050809872), (510, 0.004212751822230881), (3199, 0.004195412755386583), (1695, 0.004194200552980704), (294, 0.004182322817800761), (106, 0.00417216766593049), (1418, 0.0041452823745624255), (3316, 0.004140566114870019), (3626, 0.004119728975021899), (369, 0.004109890298182364), (853, 0.004086709059884986), (3983, 0.004081877051037305), (929, 0.004063300490505109), (3546, 0.003989563487826748), (2636, 0.003961175444157393), (293, 0.003876304690363525), (3365, 0.003816529360108146), (2443, 0.0035830081144409146), (3328, 0.003461461373469668), (1, 0.0), (4, 0.0), (5, 0.0), (6, 0.0), (8, 0.0), (15, 0.0), (16, 0.0), (17, 0.0), (19, 0.0), (20, 0.0), (21, 0.0), (22, 0.0), (23, 0.0), (24, 0.0), (26, 0.0), (27, 0.0), (30, 0.0), (38, 0.0), (40, 0.0), (42, 0.0), (43, 0.0), (44, 0.0), (46, 0.0), (47, 0.0), (48, 0.0), (49, 0.0), (50, 0.0), (51, 0.0), (52, 0.0), (54, 0.0), (55, 0.0), (58, 0.0), (59, 0.0), (61, 0.0), (62, 0.0), (63, 0.0), (65, 0.0), (66, 0.0), (68, 0.0), (69, 0.0), (70, 0.0), (71, 0.0), (76, 0.0), (77, 0.0), (81, 0.0), (84, 0.0), (85, 0.0), (87, 0.0), (89, 0.0), (90, 0.0), (92, 0.0), (93, 0.0), (95, 0.0), (98, 0.0), (99, 0.0), (103, 0.0), (104, 0.0), (107, 0.0), (109, 0.0), (110, 0.0), (111, 0.0), (113, 0.0), (114, 0.0), (115, 0.0), (118, 0.0), (120, 0.0), (121, 0.0), (125, 0.0), (126, 0.0), (127, 0.0), (128, 0.0), (131, 0.0), (132, 0.0), (133, 0.0), (134, 0.0), (136, 0.0), (139, 0.0), (140, 0.0), (141, 0.0), (142, 0.0), (143, 0.0), (144, 0.0), (145, 0.0), (147, 0.0), (149, 0.0), (153, 0.0), (154, 0.0), (155, 0.0), (156, 0.0), (157, 0.0), (158, 0.0), (160, 0.0), (161, 0.0), (164, 0.0), (167, 0.0), (172, 0.0), (173, 0.0), (174, 0.0), (175, 0.0), (176, 0.0), (178, 0.0), (181, 0.0), (183, 0.0), (187, 0.0), (190, 0.0), (193, 0.0), (194, 0.0), (197, 0.0), (198, 0.0), (199, 0.0), (203, 0.0), (204, 0.0), (205, 0.0), (206, 0.0), (208, 0.0), (209, 0.0), (210, 0.0), (211, 0.0), (213, 0.0), (217, 0.0), (219, 0.0), (226, 0.0), (227, 0.0), (229, 0.0), (230, 0.0), (232, 0.0), (233, 0.0), (234, 0.0), (235, 0.0), (236, 0.0), (238, 0.0), (241, 0.0), (242, 0.0), (244, 0.0), (245, 0.0), (247, 0.0), (248, 0.0), (252, 0.0), (253, 0.0), (254, 0.0), (255, 0.0), (256, 0.0), (262, 0.0), (265, 0.0), (268, 0.0), (270, 0.0), (274, 0.0), (275, 0.0), (276, 0.0), (278, 0.0), (280, 0.0), (281, 0.0), (282, 0.0), (285, 0.0), (286, 0.0), (289, 0.0), (290, 0.0), (292, 0.0), (295, 0.0), (296, 0.0), (300, 0.0), (302, 0.0), (303, 0.0), (304, 0.0), (305, 0.0), (311, 0.0), (313, 0.0), (314, 0.0), (315, 0.0), (317, 0.0), (318, 0.0), (320, 0.0), (321, 0.0), (322, 0.0), (323, 0.0), (325, 0.0), (326, 0.0), (329, 0.0), (331, 0.0), (332, 0.0), (333, 0.0), (337, 0.0), (339, 0.0), (340, 0.0), (349, 0.0), (350, 0.0), (351, 0.0), (353, 0.0), (355, 0.0), (358, 0.0), (359, 0.0), (360, 0.0), (363, 0.0), (364, 0.0), (366, 0.0), (367, 0.0), (370, 0.0), (371, 0.0), (373, 0.0), (374, 0.0), (375, 0.0), (377, 0.0), (378, 0.0), (379, 0.0), (382, 0.0), (383, 0.0), (384, 0.0), (385, 0.0), (386, 0.0), (387, 0.0), (389, 0.0), (390, 0.0), (391, 0.0), (392, 0.0), (393, 0.0), (396, 0.0), (397, 0.0), (398, 0.0), (401, 0.0), (402, 0.0), (406, 0.0), (414, 0.0), (415, 0.0), (416, 0.0), (417, 0.0), (419, 0.0), (420, 0.0), (422, 0.0), (426, 0.0), (429, 0.0), (430, 0.0), (431, 0.0), (432, 0.0), (434, 0.0), (435, 0.0), (436, 0.0), (437, 0.0), (438, 0.0), (440, 0.0), (443, 0.0), (445, 0.0), (446, 0.0), (447, 0.0), (449, 0.0), (450, 0.0), (451, 0.0), (453, 0.0), (455, 0.0), (457, 0.0), (458, 0.0), (461, 0.0), (462, 0.0), (463, 0.0), (464, 0.0), (465, 0.0), (466, 0.0), (467, 0.0), (468, 0.0), (471, 0.0), (473, 0.0), (474, 0.0), (476, 0.0), (478, 0.0), (479, 0.0), (480, 0.0), (482, 0.0), (485, 0.0), (487, 0.0), (488, 0.0), (489, 0.0), (493, 0.0), (494, 0.0), (499, 0.0), (501, 0.0), (502, 0.0), (503, 0.0), (505, 0.0), (509, 0.0), (512, 0.0), (513, 0.0), (514, 0.0), (515, 0.0), (516, 0.0), (518, 0.0), (520, 0.0), (526, 0.0), (531, 0.0), (532, 0.0), (533, 0.0), (534, 0.0), (535, 0.0), (536, 0.0), (539, 0.0), (541, 0.0), (542, 0.0), (543, 0.0), (544, 0.0), (547, 0.0), (548, 0.0), (550, 0.0), (551, 0.0), (552, 0.0), (556, 0.0), (557, 0.0), (558, 0.0), (559, 0.0), (564, 0.0), (565, 0.0), (567, 0.0), (570, 0.0), (571, 0.0), (572, 0.0), (573, 0.0), (574, 0.0), (578, 0.0), (581, 0.0), (582, 0.0), (586, 0.0), (587, 0.0), (589, 0.0), (590, 0.0), (591, 0.0), (592, 0.0), (593, 0.0), (595, 0.0), (596, 0.0), (598, 0.0), (599, 0.0), (600, 0.0), (602, 0.0), (603, 0.0), (604, 0.0), (605, 0.0), (606, 0.0), (608, 0.0), (611, 0.0), (612, 0.0), (615, 0.0), (619, 0.0), (622, 0.0), (623, 0.0), (624, 0.0), (625, 0.0), (626, 0.0), (627, 0.0), (629, 0.0), (630, 0.0), (632, 0.0), (633, 0.0), (636, 0.0), (637, 0.0), (638, 0.0), (641, 0.0), (642, 0.0), (644, 0.0), (645, 0.0), (646, 0.0), (647, 0.0), (648, 0.0), (649, 0.0), (650, 0.0), (651, 0.0), (652, 0.0), (654, 0.0), (655, 0.0), (658, 0.0), (659, 0.0), (660, 0.0), (663, 0.0), (667, 0.0), (669, 0.0), (670, 0.0), (671, 0.0), (672, 0.0), (673, 0.0), (674, 0.0), (675, 0.0), (676, 0.0), (678, 0.0), (679, 0.0), (680, 0.0), (682, 0.0), (688, 0.0), (689, 0.0), (693, 0.0), (694, 0.0), (695, 0.0), (696, 0.0), (697, 0.0), (698, 0.0), (702, 0.0), (703, 0.0), (705, 0.0), (708, 0.0), (709, 0.0), (710, 0.0), (711, 0.0), (714, 0.0), (716, 0.0), (718, 0.0), (720, 0.0), (721, 0.0), (728, 0.0), (729, 0.0), (732, 0.0), (734, 0.0), (735, 0.0), (741, 0.0), (743, 0.0), (746, 0.0), (751, 0.0), (752, 0.0), (753, 0.0), (754, 0.0), (755, 0.0), (759, 0.0), (760, 0.0), (761, 0.0), (764, 0.0), (765, 0.0), (766, 0.0), (767, 0.0), (770, 0.0), (771, 0.0), (772, 0.0), (774, 0.0), (776, 0.0), (777, 0.0), (782, 0.0), (783, 0.0), (784, 0.0), (786, 0.0), (791, 0.0), (793, 0.0), (795, 0.0), (796, 0.0), (797, 0.0), (800, 0.0), (802, 0.0), (804, 0.0), (805, 0.0), (806, 0.0), (808, 0.0), (809, 0.0), (811, 0.0), (815, 0.0), (816, 0.0), (817, 0.0), (818, 0.0), (819, 0.0), (822, 0.0), (823, 0.0), (824, 0.0), (825, 0.0), (826, 0.0), (827, 0.0), (828, 0.0), (830, 0.0), (832, 0.0), (836, 0.0), (837, 0.0), (838, 0.0), (839, 0.0), (841, 0.0), (842, 0.0), (843, 0.0), (845, 0.0), (846, 0.0), (848, 0.0), (849, 0.0), (850, 0.0), (851, 0.0), (855, 0.0), (856, 0.0), (857, 0.0), (858, 0.0), (860, 0.0), (861, 0.0), (863, 0.0), (865, 0.0), (867, 0.0), (868, 0.0), (869, 0.0), (871, 0.0), (873, 0.0), (876, 0.0), (877, 0.0), (879, 0.0), (880, 0.0), (882, 0.0), (884, 0.0), (886, 0.0), (888, 0.0), (889, 0.0), (892, 0.0), (893, 0.0), (896, 0.0), (900, 0.0), (901, 0.0), (903, 0.0), (904, 0.0), (905, 0.0), (906, 0.0), (910, 0.0), (914, 0.0), (917, 0.0), (921, 0.0), (922, 0.0), (925, 0.0), (926, 0.0), (927, 0.0), (932, 0.0), (933, 0.0), (936, 0.0), (937, 0.0), (939, 0.0), (940, 0.0), (941, 0.0), (942, 0.0), (943, 0.0), (947, 0.0), (949, 0.0), (950, 0.0), (951, 0.0), (952, 0.0), (953, 0.0), (954, 0.0), (955, 0.0), (956, 0.0), (958, 0.0), (959, 0.0), (964, 0.0), (965, 0.0), (967, 0.0), (968, 0.0), (970, 0.0), (972, 0.0), (975, 0.0), (976, 0.0), (980, 0.0), (983, 0.0), (984, 0.0), (985, 0.0), (986, 0.0), (987, 0.0), (989, 0.0), (990, 0.0), (991, 0.0), (996, 0.0), (998, 0.0), (999, 0.0), (1003, 0.0), (1008, 0.0), (1010, 0.0), (1012, 0.0), (1017, 0.0), (1019, 0.0), (1020, 0.0), (1021, 0.0), (1023, 0.0), (1024, 0.0), (1026, 0.0), (1027, 0.0), (1028, 0.0), (1030, 0.0), (1031, 0.0), (1032, 0.0), (1034, 0.0), (1036, 0.0), (1037, 0.0), (1038, 0.0), (1040, 0.0), (1042, 0.0), (1043, 0.0), (1045, 0.0), (1047, 0.0), (1049, 0.0), (1050, 0.0), (1051, 0.0), (1053, 0.0), (1055, 0.0), (1056, 0.0), (1057, 0.0), (1058, 0.0), (1061, 0.0), (1062, 0.0), (1063, 0.0), (1064, 0.0), (1065, 0.0), (1069, 0.0), (1070, 0.0), (1072, 0.0), (1073, 0.0), (1075, 0.0), (1076, 0.0), (1078, 0.0), (1081, 0.0), (1082, 0.0), (1083, 0.0), (1086, 0.0), (1088, 0.0), (1089, 0.0), (1091, 0.0), (1094, 0.0), (1096, 0.0), (1097, 0.0), (1099, 0.0), (1100, 0.0), (1101, 0.0), (1103, 0.0), (1107, 0.0), (1112, 0.0), (1115, 0.0), (1116, 0.0), (1117, 0.0), (1119, 0.0), (1121, 0.0), (1122, 0.0), (1124, 0.0), (1125, 0.0), (1126, 0.0), (1127, 0.0), (1128, 0.0), (1131, 0.0), (1133, 0.0), (1135, 0.0), (1137, 0.0), (1138, 0.0), (1142, 0.0), (1145, 0.0), (1147, 0.0), (1148, 0.0), (1149, 0.0), (1150, 0.0), (1151, 0.0), (1152, 0.0), (1153, 0.0), (1154, 0.0), (1156, 0.0), (1158, 0.0), (1159, 0.0), (1160, 0.0), (1161, 0.0), (1162, 0.0), (1163, 0.0), (1164, 0.0), (1166, 0.0), (1167, 0.0), (1169, 0.0), (1170, 0.0), (1174, 0.0), (1175, 0.0), (1176, 0.0), (1177, 0.0), (1180, 0.0), (1181, 0.0), (1182, 0.0), (1183, 0.0), (1184, 0.0), (1185, 0.0), (1186, 0.0), (1187, 0.0), (1188, 0.0), (1189, 0.0), (1190, 0.0), (1193, 0.0), (1196, 0.0), (1197, 0.0), (1198, 0.0), (1199, 0.0), (1200, 0.0), (1201, 0.0), (1202, 0.0), (1203, 0.0), (1204, 0.0), (1206, 0.0), (1207, 0.0), (1209, 0.0), (1211, 0.0), (1212, 0.0), (1213, 0.0), (1218, 0.0), (1219, 0.0), (1220, 0.0), (1222, 0.0), (1224, 0.0), (1225, 0.0), (1226, 0.0), (1227, 0.0), (1228, 0.0), (1230, 0.0), (1231, 0.0), (1232, 0.0), (1233, 0.0), (1236, 0.0), (1237, 0.0), (1240, 0.0), (1242, 0.0), (1243, 0.0), (1244, 0.0), (1245, 0.0), (1247, 0.0), (1248, 0.0), (1249, 0.0), (1250, 0.0), (1251, 0.0), (1252, 0.0), (1255, 0.0), (1256, 0.0), (1258, 0.0), (1260, 0.0), (1261, 0.0), (1264, 0.0), (1265, 0.0), (1266, 0.0), (1268, 0.0), (1269, 0.0), (1271, 0.0), (1272, 0.0), (1273, 0.0), (1274, 0.0), (1275, 0.0), (1276, 0.0), (1277, 0.0), (1280, 0.0), (1281, 0.0), (1283, 0.0), (1284, 0.0), (1285, 0.0), (1286, 0.0), (1287, 0.0), (1288, 0.0), (1290, 0.0), (1292, 0.0), (1293, 0.0), (1297, 0.0), (1302, 0.0), (1303, 0.0), (1309, 0.0), (1310, 0.0), (1311, 0.0), (1313, 0.0), (1315, 0.0), (1316, 0.0), (1317, 0.0), (1320, 0.0), (1323, 0.0), (1325, 0.0), (1326, 0.0), (1327, 0.0), (1328, 0.0), (1330, 0.0), (1331, 0.0), (1332, 0.0), (1335, 0.0), (1337, 0.0), (1339, 0.0), (1340, 0.0), (1342, 0.0), (1344, 0.0), (1347, 0.0), (1348, 0.0), (1350, 0.0), (1353, 0.0), (1355, 0.0), (1357, 0.0), (1359, 0.0), (1362, 0.0), (1363, 0.0), (1364, 0.0), (1366, 0.0), (1367, 0.0), (1370, 0.0), (1371, 0.0), (1372, 0.0), (1375, 0.0), (1376, 0.0), (1379, 0.0), (1380, 0.0), (1382, 0.0), (1383, 0.0), (1385, 0.0), (1386, 0.0), (1387, 0.0), (1388, 0.0), (1391, 0.0), (1393, 0.0), (1397, 0.0), (1398, 0.0), (1399, 0.0), (1403, 0.0), (1405, 0.0), (1407, 0.0), (1408, 0.0), (1409, 0.0), (1410, 0.0), (1414, 0.0), (1415, 0.0), (1416, 0.0), (1417, 0.0), (1419, 0.0), (1421, 0.0), (1422, 0.0), (1424, 0.0), (1426, 0.0), (1427, 0.0), (1428, 0.0), (1429, 0.0), (1433, 0.0), (1434, 0.0), (1435, 0.0), (1437, 0.0), (1438, 0.0), (1440, 0.0), (1441, 0.0), (1444, 0.0), (1445, 0.0), (1448, 0.0), (1449, 0.0), (1450, 0.0), (1452, 0.0), (1455, 0.0), (1457, 0.0), (1460, 0.0), (1462, 0.0), (1469, 0.0), (1470, 0.0), (1473, 0.0), (1475, 0.0), (1476, 0.0), (1478, 0.0), (1479, 0.0), (1480, 0.0), (1481, 0.0), (1483, 0.0), (1484, 0.0), (1485, 0.0), (1486, 0.0), (1488, 0.0), (1489, 0.0), (1490, 0.0), (1492, 0.0), (1497, 0.0), (1498, 0.0), (1499, 0.0), (1502, 0.0), (1504, 0.0), (1507, 0.0), (1508, 0.0), (1514, 0.0), (1518, 0.0), (1519, 0.0), (1523, 0.0), (1527, 0.0), (1528, 0.0), (1529, 0.0), (1531, 0.0), (1532, 0.0), (1534, 0.0), (1536, 0.0), (1538, 0.0), (1540, 0.0), (1541, 0.0), (1542, 0.0), (1544, 0.0), (1545, 0.0), (1547, 0.0), (1549, 0.0), (1550, 0.0), (1554, 0.0), (1556, 0.0), (1557, 0.0), (1558, 0.0), (1560, 0.0), (1562, 0.0), (1563, 0.0), (1565, 0.0), (1566, 0.0), (1569, 0.0), (1570, 0.0), (1572, 0.0), (1573, 0.0), (1574, 0.0), (1575, 0.0), (1576, 0.0), (1580, 0.0), (1582, 0.0), (1583, 0.0), (1585, 0.0), (1588, 0.0), (1589, 0.0), (1590, 0.0), (1591, 0.0), (1592, 0.0), (1593, 0.0), (1595, 0.0), (1596, 0.0), (1598, 0.0), (1599, 0.0), (1601, 0.0), (1603, 0.0), (1605, 0.0), (1607, 0.0), (1609, 0.0), (1611, 0.0), (1612, 0.0), (1614, 0.0), (1616, 0.0), (1618, 0.0), (1621, 0.0), (1622, 0.0), (1624, 0.0), (1625, 0.0), (1627, 0.0), (1628, 0.0), (1629, 0.0), (1631, 0.0), (1632, 0.0), (1634, 0.0), (1635, 0.0), (1636, 0.0), (1637, 0.0), (1638, 0.0), (1639, 0.0), (1641, 0.0), (1643, 0.0), (1644, 0.0), (1646, 0.0), (1647, 0.0), (1649, 0.0), (1651, 0.0), (1652, 0.0), (1653, 0.0), (1654, 0.0), (1655, 0.0), (1656, 0.0), (1657, 0.0), (1658, 0.0), (1659, 0.0), (1661, 0.0), (1665, 0.0), (1667, 0.0), (1669, 0.0), (1671, 0.0), (1672, 0.0), (1673, 0.0), (1674, 0.0), (1676, 0.0), (1677, 0.0), (1680, 0.0), (1685, 0.0), (1686, 0.0), (1693, 0.0), (1694, 0.0), (1696, 0.0), (1703, 0.0), (1705, 0.0), (1706, 0.0), (1708, 0.0), (1710, 0.0), (1711, 0.0), (1712, 0.0), (1715, 0.0), (1716, 0.0), (1717, 0.0), (1720, 0.0), (1721, 0.0), (1722, 0.0), (1728, 0.0), (1730, 0.0), (1732, 0.0), (1734, 0.0), (1735, 0.0), (1736, 0.0), (1737, 0.0), (1739, 0.0), (1740, 0.0), (1741, 0.0), (1744, 0.0), (1745, 0.0), (1747, 0.0), (1748, 0.0), (1749, 0.0), (1752, 0.0), (1753, 0.0), (1757, 0.0), (1759, 0.0), (1761, 0.0), (1763, 0.0), (1765, 0.0), (1766, 0.0), (1767, 0.0), (1770, 0.0), (1773, 0.0), (1774, 0.0), (1777, 0.0), (1779, 0.0), (1780, 0.0), (1785, 0.0), (1786, 0.0), (1789, 0.0), (1790, 0.0), (1791, 0.0), (1795, 0.0), (1796, 0.0), (1797, 0.0), (1800, 0.0), (1801, 0.0), (1802, 0.0), (1803, 0.0), (1805, 0.0), (1806, 0.0), (1807, 0.0), (1809, 0.0), (1811, 0.0), (1813, 0.0), (1814, 0.0), (1815, 0.0), (1819, 0.0), (1822, 0.0), (1826, 0.0), (1828, 0.0), (1829, 0.0), (1832, 0.0), (1833, 0.0), (1834, 0.0), (1835, 0.0), (1836, 0.0), (1837, 0.0), (1838, 0.0), (1840, 0.0), (1842, 0.0), (1846, 0.0), (1847, 0.0), (1848, 0.0), (1852, 0.0), (1853, 0.0), (1855, 0.0), (1856, 0.0), (1859, 0.0), (1860, 0.0), (1862, 0.0), (1864, 0.0), (1865, 0.0), (1866, 0.0), (1867, 0.0), (1868, 0.0), (1869, 0.0), (1870, 0.0), (1872, 0.0), (1873, 0.0), (1874, 0.0), (1876, 0.0), (1879, 0.0), (1880, 0.0), (1884, 0.0), (1885, 0.0), (1886, 0.0), (1889, 0.0), (1890, 0.0), (1891, 0.0), (1892, 0.0), (1894, 0.0), (1896, 0.0), (1897, 0.0), (1898, 0.0), (1899, 0.0), (1900, 0.0), (1901, 0.0), (1902, 0.0), (1904, 0.0), (1905, 0.0), (1906, 0.0), (1909, 0.0), (1911, 0.0), (1912, 0.0), (1916, 0.0), (1917, 0.0), (1922, 0.0), (1923, 0.0), (1924, 0.0), (1927, 0.0), (1928, 0.0), (1933, 0.0), (1934, 0.0), (1937, 0.0), (1938, 0.0), (1939, 0.0), (1940, 0.0), (1941, 0.0), (1942, 0.0), (1943, 0.0), (1944, 0.0), (1945, 0.0), (1946, 0.0), (1947, 0.0), (1949, 0.0), (1956, 0.0), (1959, 0.0), (1960, 0.0), (1962, 0.0), (1963, 0.0), (1965, 0.0), (1967, 0.0), (1970, 0.0), (1972, 0.0), (1974, 0.0), (1975, 0.0), (1976, 0.0), (1977, 0.0), (1978, 0.0), (1979, 0.0), (1980, 0.0), (1983, 0.0), (1989, 0.0), (1992, 0.0), (1993, 0.0), (1995, 0.0), (1996, 0.0), (1998, 0.0), (1999, 0.0), (2001, 0.0), (2002, 0.0), (2007, 0.0), (2009, 0.0), (2010, 0.0), (2011, 0.0), (2018, 0.0), (2020, 0.0), (2023, 0.0), (2024, 0.0), (2025, 0.0), (2026, 0.0), (2028, 0.0), (2030, 0.0), (2033, 0.0), (2034, 0.0), (2035, 0.0), (2038, 0.0), (2039, 0.0), (2040, 0.0), (2041, 0.0), (2042, 0.0), (2044, 0.0), (2048, 0.0), (2050, 0.0), (2051, 0.0), (2053, 0.0), (2054, 0.0), (2057, 0.0), (2059, 0.0), (2060, 0.0), (2063, 0.0), (2064, 0.0), (2067, 0.0), (2068, 0.0), (2069, 0.0), (2073, 0.0), (2075, 0.0), (2076, 0.0), (2077, 0.0), (2078, 0.0), (2080, 0.0), (2081, 0.0), (2082, 0.0), (2083, 0.0), (2084, 0.0), (2085, 0.0), (2088, 0.0), (2089, 0.0), (2090, 0.0), (2091, 0.0), (2093, 0.0), (2096, 0.0), (2097, 0.0), (2098, 0.0), (2101, 0.0), (2103, 0.0), (2104, 0.0), (2105, 0.0), (2106, 0.0), (2108, 0.0), (2110, 0.0), (2113, 0.0), (2115, 0.0), (2116, 0.0), (2117, 0.0), (2119, 0.0), (2120, 0.0), (2121, 0.0), (2122, 0.0), (2129, 0.0), (2130, 0.0), (2132, 0.0), (2133, 0.0), (2134, 0.0), (2135, 0.0), (2137, 0.0), (2138, 0.0), (2140, 0.0), (2141, 0.0), (2142, 0.0), (2143, 0.0), (2144, 0.0), (2146, 0.0), (2148, 0.0), (2149, 0.0), (2150, 0.0), (2151, 0.0), (2152, 0.0), (2153, 0.0), (2155, 0.0), (2157, 0.0), (2159, 0.0), (2162, 0.0), (2163, 0.0), (2164, 0.0), (2165, 0.0), (2166, 0.0), (2168, 0.0), (2170, 0.0), (2172, 0.0), (2173, 0.0), (2176, 0.0), (2181, 0.0), (2185, 0.0), (2186, 0.0), (2187, 0.0), (2188, 0.0), (2189, 0.0), (2190, 0.0), (2191, 0.0), (2192, 0.0), (2197, 0.0), (2199, 0.0), (2200, 0.0), (2202, 0.0), (2203, 0.0), (2206, 0.0), (2208, 0.0), (2209, 0.0), (2212, 0.0), (2213, 0.0), (2216, 0.0), (2217, 0.0), (2219, 0.0), (2220, 0.0), (2223, 0.0), (2225, 0.0), (2226, 0.0), (2228, 0.0), (2229, 0.0), (2230, 0.0), (2231, 0.0), (2233, 0.0), (2234, 0.0), (2235, 0.0), (2238, 0.0), (2240, 0.0), (2242, 0.0), (2243, 0.0), (2244, 0.0), (2247, 0.0), (2248, 0.0), (2249, 0.0), (2251, 0.0), (2253, 0.0), (2254, 0.0), (2255, 0.0), (2256, 0.0), (2257, 0.0), (2258, 0.0), (2261, 0.0), (2264, 0.0), (2266, 0.0), (2267, 0.0), (2269, 0.0), (2270, 0.0), (2271, 0.0), (2272, 0.0), (2274, 0.0), (2275, 0.0), (2276, 0.0), (2279, 0.0), (2280, 0.0), (2282, 0.0), (2284, 0.0), (2286, 0.0), (2288, 0.0), (2289, 0.0), (2290, 0.0), (2292, 0.0), (2293, 0.0), (2295, 0.0), (2297, 0.0), (2298, 0.0), (2299, 0.0), (2300, 0.0), (2302, 0.0), (2304, 0.0), (2305, 0.0), (2306, 0.0), (2307, 0.0), (2308, 0.0), (2309, 0.0), (2310, 0.0), (2312, 0.0), (2313, 0.0), (2314, 0.0), (2315, 0.0), (2321, 0.0), (2323, 0.0), (2324, 0.0), (2325, 0.0), (2327, 0.0), (2328, 0.0), (2330, 0.0), (2333, 0.0), (2336, 0.0), (2341, 0.0), (2342, 0.0), (2343, 0.0), (2344, 0.0), (2345, 0.0), (2346, 0.0), (2347, 0.0), (2348, 0.0), (2349, 0.0), (2350, 0.0), (2352, 0.0), (2353, 0.0), (2354, 0.0), (2355, 0.0), (2356, 0.0), (2357, 0.0), (2358, 0.0), (2359, 0.0), (2361, 0.0), (2364, 0.0), (2366, 0.0), (2368, 0.0), (2369, 0.0), (2370, 0.0), (2372, 0.0), (2373, 0.0), (2374, 0.0), (2375, 0.0), (2378, 0.0), (2379, 0.0), (2380, 0.0), (2381, 0.0), (2383, 0.0), (2384, 0.0), (2385, 0.0), (2386, 0.0), (2388, 0.0), (2390, 0.0), (2391, 0.0), (2392, 0.0), (2393, 0.0), (2394, 0.0), (2395, 0.0), (2396, 0.0), (2397, 0.0), (2399, 0.0), (2400, 0.0), (2402, 0.0), (2403, 0.0), (2404, 0.0), (2405, 0.0), (2407, 0.0), (2408, 0.0), (2410, 0.0), (2411, 0.0), (2415, 0.0), (2417, 0.0), (2420, 0.0), (2423, 0.0), (2424, 0.0), (2425, 0.0), (2426, 0.0), (2428, 0.0), (2429, 0.0), (2432, 0.0), (2433, 0.0), (2434, 0.0), (2435, 0.0), (2437, 0.0), (2438, 0.0), (2439, 0.0), (2441, 0.0), (2445, 0.0), (2448, 0.0), (2449, 0.0), (2450, 0.0), (2452, 0.0), (2453, 0.0), (2454, 0.0), (2455, 0.0), (2456, 0.0), (2457, 0.0), (2459, 0.0), (2460, 0.0), (2462, 0.0), (2463, 0.0), (2464, 0.0), (2465, 0.0), (2467, 0.0), (2468, 0.0), (2469, 0.0), (2470, 0.0), (2471, 0.0), (2472, 0.0), (2473, 0.0), (2475, 0.0), (2476, 0.0), (2477, 0.0), (2478, 0.0), (2479, 0.0), (2482, 0.0), (2483, 0.0), (2486, 0.0), (2488, 0.0), (2489, 0.0), (2490, 0.0), (2493, 0.0), (2495, 0.0), (2497, 0.0), (2499, 0.0), (2500, 0.0), (2502, 0.0), (2505, 0.0), (2506, 0.0), (2508, 0.0), (2512, 0.0), (2515, 0.0), (2519, 0.0), (2520, 0.0), (2523, 0.0), (2524, 0.0), (2529, 0.0), (2530, 0.0), (2532, 0.0), (2533, 0.0), (2535, 0.0), (2536, 0.0), (2537, 0.0), (2540, 0.0), (2542, 0.0), (2543, 0.0), (2544, 0.0), (2545, 0.0), (2548, 0.0), (2551, 0.0), (2554, 0.0), (2556, 0.0), (2557, 0.0), (2558, 0.0), (2559, 0.0), (2561, 0.0), (2563, 0.0), (2564, 0.0), (2566, 0.0), (2567, 0.0), (2569, 0.0), (2570, 0.0), (2571, 0.0), (2572, 0.0), (2573, 0.0), (2575, 0.0), (2576, 0.0), (2577, 0.0), (2578, 0.0), (2579, 0.0), (2580, 0.0), (2583, 0.0), (2585, 0.0), (2586, 0.0), (2588, 0.0), (2589, 0.0), (2591, 0.0), (2594, 0.0), (2595, 0.0), (2596, 0.0), (2597, 0.0), (2598, 0.0), (2599, 0.0), (2600, 0.0), (2601, 0.0), (2602, 0.0), (2604, 0.0), (2606, 0.0), (2607, 0.0), (2609, 0.0), (2613, 0.0), (2617, 0.0), (2618, 0.0), (2619, 0.0), (2620, 0.0), (2621, 0.0), (2623, 0.0), (2624, 0.0), (2628, 0.0), (2629, 0.0), (2630, 0.0), (2634, 0.0), (2635, 0.0), (2639, 0.0), (2647, 0.0), (2648, 0.0), (2649, 0.0), (2650, 0.0), (2651, 0.0), (2652, 0.0), (2653, 0.0), (2655, 0.0), (2657, 0.0), (2658, 0.0), (2659, 0.0), (2661, 0.0), (2662, 0.0), (2663, 0.0), (2664, 0.0), (2667, 0.0), (2669, 0.0), (2670, 0.0), (2671, 0.0), (2674, 0.0), (2676, 0.0), (2677, 0.0), (2678, 0.0), (2679, 0.0), (2681, 0.0), (2683, 0.0), (2684, 0.0), (2685, 0.0), (2686, 0.0), (2687, 0.0), (2690, 0.0), (2692, 0.0), (2694, 0.0), (2695, 0.0), (2696, 0.0), (2699, 0.0), (2700, 0.0), (2701, 0.0), (2702, 0.0), (2703, 0.0), (2705, 0.0), (2707, 0.0), (2708, 0.0), (2709, 0.0), (2715, 0.0), (2716, 0.0), (2718, 0.0), (2722, 0.0), (2723, 0.0), (2726, 0.0), (2727, 0.0), (2728, 0.0), (2730, 0.0), (2731, 0.0), (2733, 0.0), (2735, 0.0), (2737, 0.0), (2741, 0.0), (2742, 0.0), (2743, 0.0), (2744, 0.0), (2745, 0.0), (2746, 0.0), (2747, 0.0), (2748, 0.0), (2750, 0.0), (2751, 0.0), (2753, 0.0), (2754, 0.0), (2757, 0.0), (2759, 0.0), (2760, 0.0), (2762, 0.0), (2764, 0.0), (2767, 0.0), (2768, 0.0), (2769, 0.0), (2770, 0.0), (2771, 0.0), (2772, 0.0), (2775, 0.0), (2776, 0.0), (2778, 0.0), (2780, 0.0), (2781, 0.0), (2783, 0.0), (2784, 0.0), (2786, 0.0), (2787, 0.0), (2788, 0.0), (2794, 0.0), (2795, 0.0), (2796, 0.0), (2797, 0.0), (2799, 0.0), (2800, 0.0), (2803, 0.0), (2804, 0.0), (2805, 0.0), (2810, 0.0), (2811, 0.0), (2815, 0.0), (2820, 0.0), (2821, 0.0), (2822, 0.0), (2823, 0.0), (2824, 0.0), (2825, 0.0), (2826, 0.0), (2827, 0.0), (2828, 0.0), (2829, 0.0), (2832, 0.0), (2833, 0.0), (2836, 0.0), (2837, 0.0), (2838, 0.0), (2839, 0.0), (2840, 0.0), (2843, 0.0), (2845, 0.0), (2846, 0.0), (2847, 0.0), (2848, 0.0), (2849, 0.0), (2850, 0.0), (2851, 0.0), (2852, 0.0), (2853, 0.0), (2857, 0.0), (2858, 0.0), (2860, 0.0), (2861, 0.0), (2863, 0.0), (2864, 0.0), (2865, 0.0), (2866, 0.0), (2868, 0.0), (2869, 0.0), (2870, 0.0), (2871, 0.0), (2872, 0.0), (2874, 0.0), (2875, 0.0), (2876, 0.0), (2877, 0.0), (2879, 0.0), (2880, 0.0), (2881, 0.0), (2882, 0.0), (2883, 0.0), (2884, 0.0), (2886, 0.0), (2887, 0.0), (2888, 0.0), (2889, 0.0), (2890, 0.0), (2891, 0.0), (2893, 0.0), (2894, 0.0), (2895, 0.0), (2898, 0.0), (2899, 0.0), (2901, 0.0), (2902, 0.0), (2904, 0.0), (2905, 0.0), (2907, 0.0), (2908, 0.0), (2909, 0.0), (2912, 0.0), (2913, 0.0), (2914, 0.0), (2915, 0.0), (2917, 0.0), (2918, 0.0), (2919, 0.0), (2921, 0.0), (2922, 0.0), (2924, 0.0), (2925, 0.0), (2926, 0.0), (2927, 0.0), (2928, 0.0), (2929, 0.0), (2930, 0.0), (2932, 0.0), (2934, 0.0), (2935, 0.0), (2936, 0.0), (2937, 0.0), (2939, 0.0), (2941, 0.0), (2943, 0.0), (2945, 0.0), (2946, 0.0), (2947, 0.0), (2948, 0.0), (2949, 0.0), (2950, 0.0), (2952, 0.0), (2953, 0.0), (2955, 0.0), (2956, 0.0), (2957, 0.0), (2958, 0.0), (2959, 0.0), (2960, 0.0), (2961, 0.0), (2964, 0.0), (2965, 0.0), (2966, 0.0), (2967, 0.0), (2968, 0.0), (2970, 0.0), (2971, 0.0), (2972, 0.0), (2974, 0.0), (2978, 0.0), (2979, 0.0), (2980, 0.0), (2982, 0.0), (2983, 0.0), (2984, 0.0), (2986, 0.0), (2987, 0.0), (2988, 0.0), (2989, 0.0), (2990, 0.0), (2991, 0.0), (2993, 0.0), (2994, 0.0), (2995, 0.0), (2997, 0.0), (2998, 0.0), (2999, 0.0), (3000, 0.0), (3001, 0.0), (3002, 0.0), (3004, 0.0), (3005, 0.0), (3006, 0.0), (3007, 0.0), (3008, 0.0), (3009, 0.0), (3012, 0.0), (3013, 0.0), (3014, 0.0), (3015, 0.0), (3016, 0.0), (3017, 0.0), (3019, 0.0), (3020, 0.0), (3021, 0.0), (3025, 0.0), (3026, 0.0), (3029, 0.0), (3030, 0.0), (3031, 0.0), (3032, 0.0), (3034, 0.0), (3035, 0.0), (3036, 0.0), (3037, 0.0), (3038, 0.0), (3039, 0.0), (3040, 0.0), (3041, 0.0), (3042, 0.0), (3043, 0.0), (3044, 0.0), (3045, 0.0), (3048, 0.0), (3049, 0.0), (3050, 0.0), (3051, 0.0), (3052, 0.0), (3054, 0.0), (3055, 0.0), (3056, 0.0), (3057, 0.0), (3058, 0.0), (3059, 0.0), (3061, 0.0), (3062, 0.0), (3063, 0.0), (3064, 0.0), (3065, 0.0), (3068, 0.0), (3070, 0.0), (3072, 0.0), (3074, 0.0), (3075, 0.0), (3076, 0.0), (3077, 0.0), (3079, 0.0), (3081, 0.0), (3082, 0.0), (3084, 0.0), (3086, 0.0), (3087, 0.0), (3088, 0.0), (3092, 0.0), (3093, 0.0), (3094, 0.0), (3095, 0.0), (3098, 0.0), (3099, 0.0), (3100, 0.0), (3101, 0.0), (3102, 0.0), (3103, 0.0), (3104, 0.0), (3105, 0.0), (3106, 0.0), (3107, 0.0), (3109, 0.0), (3110, 0.0), (3113, 0.0), (3114, 0.0), (3115, 0.0), (3117, 0.0), (3118, 0.0), (3119, 0.0), (3120, 0.0), (3123, 0.0), (3126, 0.0), (3128, 0.0), (3131, 0.0), (3132, 0.0), (3134, 0.0), (3135, 0.0), (3136, 0.0), (3139, 0.0), (3140, 0.0), (3143, 0.0), (3146, 0.0), (3147, 0.0), (3148, 0.0), (3153, 0.0), (3154, 0.0), (3155, 0.0), (3156, 0.0), (3158, 0.0), (3159, 0.0), (3160, 0.0), (3162, 0.0), (3163, 0.0), (3164, 0.0), (3165, 0.0), (3166, 0.0), (3167, 0.0), (3168, 0.0), (3169, 0.0), (3170, 0.0), (3171, 0.0), (3173, 0.0), (3174, 0.0), (3175, 0.0), (3176, 0.0), (3177, 0.0), (3178, 0.0), (3179, 0.0), (3180, 0.0), (3182, 0.0), (3183, 0.0), (3184, 0.0), (3185, 0.0), (3186, 0.0), (3187, 0.0), (3188, 0.0), (3189, 0.0), (3190, 0.0), (3191, 0.0), (3192, 0.0), (3193, 0.0), (3194, 0.0), (3195, 0.0), (3196, 0.0), (3198, 0.0), (3202, 0.0), (3203, 0.0), (3206, 0.0), (3207, 0.0), (3208, 0.0), (3209, 0.0), (3210, 0.0), (3212, 0.0), (3213, 0.0), (3214, 0.0), (3215, 0.0), (3216, 0.0), (3217, 0.0), (3219, 0.0), (3220, 0.0), (3221, 0.0), (3223, 0.0), (3224, 0.0), (3225, 0.0), (3227, 0.0), (3229, 0.0), (3230, 0.0), (3232, 0.0), (3235, 0.0), (3236, 0.0), (3239, 0.0), (3241, 0.0), (3242, 0.0), (3243, 0.0), (3244, 0.0), (3245, 0.0), (3246, 0.0), (3247, 0.0), (3248, 0.0), (3249, 0.0), (3250, 0.0), (3251, 0.0), (3253, 0.0), (3254, 0.0), (3255, 0.0), (3256, 0.0), (3257, 0.0), (3258, 0.0), (3261, 0.0), (3262, 0.0), (3263, 0.0), (3266, 0.0), (3267, 0.0), (3268, 0.0), (3269, 0.0), (3271, 0.0), (3273, 0.0), (3274, 0.0), (3275, 0.0), (3276, 0.0), (3278, 0.0), (3279, 0.0), (3280, 0.0), (3281, 0.0), (3282, 0.0), (3289, 0.0), (3290, 0.0), (3291, 0.0), (3292, 0.0), (3296, 0.0), (3298, 0.0), (3299, 0.0), (3300, 0.0), (3301, 0.0), (3302, 0.0), (3305, 0.0), (3307, 0.0), (3308, 0.0), (3309, 0.0), (3310, 0.0), (3312, 0.0), (3314, 0.0), (3315, 0.0), (3318, 0.0), (3319, 0.0), (3322, 0.0), (3323, 0.0), (3324, 0.0), (3325, 0.0), (3326, 0.0), (3329, 0.0), (3331, 0.0), (3332, 0.0), (3333, 0.0), (3334, 0.0), (3337, 0.0), (3338, 0.0), (3339, 0.0), (3340, 0.0), (3341, 0.0), (3346, 0.0), (3347, 0.0), (3348, 0.0), (3349, 0.0), (3351, 0.0), (3352, 0.0), (3353, 0.0), (3354, 0.0), (3355, 0.0), (3356, 0.0), (3357, 0.0), (3358, 0.0), (3359, 0.0), (3361, 0.0), (3369, 0.0), (3371, 0.0), (3372, 0.0), (3373, 0.0), (3375, 0.0), (3377, 0.0), (3378, 0.0), (3379, 0.0), (3380, 0.0), (3381, 0.0), (3382, 0.0), (3383, 0.0), (3385, 0.0), (3387, 0.0), (3390, 0.0), (3391, 0.0), (3394, 0.0), (3396, 0.0), (3398, 0.0), (3400, 0.0), (3401, 0.0), (3402, 0.0), (3404, 0.0), (3405, 0.0), (3406, 0.0), (3408, 0.0), (3413, 0.0), (3415, 0.0), (3416, 0.0), (3417, 0.0), (3418, 0.0), (3419, 0.0), (3421, 0.0), (3422, 0.0), (3423, 0.0), (3425, 0.0), (3426, 0.0), (3427, 0.0), (3428, 0.0), (3429, 0.0), (3430, 0.0), (3431, 0.0), (3432, 0.0), (3433, 0.0), (3434, 0.0), (3436, 0.0), (3438, 0.0), (3439, 0.0), (3440, 0.0), (3441, 0.0), (3442, 0.0), (3443, 0.0), (3449, 0.0), (3450, 0.0), (3451, 0.0), (3452, 0.0), (3453, 0.0), (3455, 0.0), (3460, 0.0), (3462, 0.0), (3466, 0.0), (3467, 0.0), (3468, 0.0), (3470, 0.0), (3471, 0.0), (3472, 0.0), (3475, 0.0), (3476, 0.0), (3478, 0.0), (3479, 0.0), (3480, 0.0), (3482, 0.0), (3483, 0.0), (3485, 0.0), (3486, 0.0), (3487, 0.0), (3488, 0.0), (3489, 0.0), (3490, 0.0), (3493, 0.0), (3494, 0.0), (3495, 0.0), (3496, 0.0), (3497, 0.0), (3498, 0.0), (3499, 0.0), (3500, 0.0), (3501, 0.0), (3504, 0.0), (3505, 0.0), (3506, 0.0), (3508, 0.0), (3509, 0.0), (3510, 0.0), (3511, 0.0), (3512, 0.0), (3513, 0.0), (3514, 0.0), (3516, 0.0), (3517, 0.0), (3519, 0.0), (3521, 0.0), (3522, 0.0), (3523, 0.0), (3525, 0.0), (3527, 0.0), (3528, 0.0), (3529, 0.0), (3530, 0.0), (3531, 0.0), (3533, 0.0), (3534, 0.0), (3535, 0.0), (3537, 0.0), (3538, 0.0), (3541, 0.0), (3542, 0.0), (3543, 0.0), (3544, 0.0), (3545, 0.0), (3547, 0.0), (3548, 0.0), (3552, 0.0), (3553, 0.0), (3555, 0.0), (3556, 0.0), (3558, 0.0), (3559, 0.0), (3560, 0.0), (3561, 0.0), (3565, 0.0), (3569, 0.0), (3570, 0.0), (3571, 0.0), (3572, 0.0), (3573, 0.0), (3574, 0.0), (3575, 0.0), (3576, 0.0), (3580, 0.0), (3581, 0.0), (3582, 0.0), (3583, 0.0), (3584, 0.0), (3585, 0.0), (3586, 0.0), (3587, 0.0), (3588, 0.0), (3589, 0.0), (3590, 0.0), (3591, 0.0), (3592, 0.0), (3593, 0.0), (3595, 0.0), (3596, 0.0), (3597, 0.0), (3600, 0.0), (3601, 0.0), (3602, 0.0), (3603, 0.0), (3604, 0.0), (3605, 0.0), (3609, 0.0), (3611, 0.0), (3614, 0.0), (3615, 0.0), (3617, 0.0), (3619, 0.0), (3620, 0.0), (3621, 0.0), (3622, 0.0), (3623, 0.0), (3624, 0.0), (3625, 0.0), (3627, 0.0), (3629, 0.0), (3630, 0.0), (3631, 0.0), (3634, 0.0), (3635, 0.0), (3636, 0.0), (3637, 0.0), (3638, 0.0), (3640, 0.0), (3641, 0.0), (3642, 0.0), (3644, 0.0), (3647, 0.0), (3649, 0.0), (3652, 0.0), (3654, 0.0), (3656, 0.0), (3657, 0.0), (3659, 0.0), (3660, 0.0), (3662, 0.0), (3663, 0.0), (3664, 0.0), (3665, 0.0), (3666, 0.0), (3667, 0.0), (3669, 0.0), (3670, 0.0), (3671, 0.0), (3672, 0.0), (3673, 0.0), (3675, 0.0), (3676, 0.0), (3679, 0.0), (3680, 0.0), (3683, 0.0), (3684, 0.0), (3686, 0.0), (3687, 0.0), (3688, 0.0), (3691, 0.0), (3693, 0.0), (3694, 0.0), (3695, 0.0), (3697, 0.0), (3699, 0.0), (3700, 0.0), (3702, 0.0), (3703, 0.0), (3705, 0.0), (3706, 0.0), (3707, 0.0), (3708, 0.0), (3710, 0.0), (3712, 0.0), (3713, 0.0), (3714, 0.0), (3715, 0.0), (3717, 0.0), (3718, 0.0), (3719, 0.0), (3721, 0.0), (3723, 0.0), (3725, 0.0), (3726, 0.0), (3727, 0.0), (3728, 0.0), (3729, 0.0), (3732, 0.0), (3733, 0.0), (3734, 0.0), (3737, 0.0), (3738, 0.0), (3740, 0.0), (3742, 0.0), (3744, 0.0), (3745, 0.0), (3749, 0.0), (3750, 0.0), (3754, 0.0), (3755, 0.0), (3756, 0.0), (3757, 0.0), (3758, 0.0), (3759, 0.0), (3760, 0.0), (3761, 0.0), (3762, 0.0), (3763, 0.0), (3764, 0.0), (3766, 0.0), (3767, 0.0), (3768, 0.0), (3769, 0.0), (3770, 0.0), (3771, 0.0), (3772, 0.0), (3773, 0.0), (3774, 0.0), (3775, 0.0), (3776, 0.0), (3779, 0.0), (3781, 0.0), (3782, 0.0), (3784, 0.0), (3787, 0.0), (3788, 0.0), (3791, 0.0), (3792, 0.0), (3793, 0.0), (3794, 0.0), (3795, 0.0), (3796, 0.0), (3797, 0.0), (3798, 0.0), (3799, 0.0), (3800, 0.0), (3801, 0.0), (3802, 0.0), (3804, 0.0), (3806, 0.0), (3808, 0.0), (3813, 0.0), (3814, 0.0), (3815, 0.0), (3816, 0.0), (3820, 0.0), (3824, 0.0), (3827, 0.0), (3828, 0.0), (3829, 0.0), (3830, 0.0), (3831, 0.0), (3832, 0.0), (3833, 0.0), (3834, 0.0), (3835, 0.0), (3837, 0.0), (3838, 0.0), (3839, 0.0), (3840, 0.0), (3843, 0.0), (3844, 0.0), (3845, 0.0), (3847, 0.0), (3848, 0.0), (3849, 0.0), (3850, 0.0), (3851, 0.0), (3853, 0.0), (3855, 0.0), (3856, 0.0), (3859, 0.0), (3860, 0.0), (3861, 0.0), (3862, 0.0), (3863, 0.0), (3864, 0.0), (3867, 0.0), (3870, 0.0), (3871, 0.0), (3872, 0.0), (3873, 0.0), (3874, 0.0), (3876, 0.0), (3877, 0.0), (3878, 0.0), (3879, 0.0), (3880, 0.0), (3882, 0.0), (3883, 0.0), (3884, 0.0), (3885, 0.0), (3887, 0.0), (3888, 0.0), (3889, 0.0), (3892, 0.0), (3893, 0.0), (3895, 0.0), (3896, 0.0), (3898, 0.0), (3899, 0.0), (3900, 0.0), (3901, 0.0), (3902, 0.0), (3904, 0.0), (3905, 0.0), (3906, 0.0), (3908, 0.0), (3909, 0.0), (3911, 0.0), (3912, 0.0), (3913, 0.0), (3915, 0.0), (3918, 0.0), (3922, 0.0), (3923, 0.0), (3925, 0.0), (3927, 0.0), (3929, 0.0), (3930, 0.0), (3931, 0.0), (3932, 0.0), (3933, 0.0), (3934, 0.0), (3935, 0.0), (3937, 0.0), (3939, 0.0), (3940, 0.0), (3941, 0.0), (3942, 0.0), (3943, 0.0), (3945, 0.0), (3946, 0.0), (3947, 0.0), (3948, 0.0), (3949, 0.0), (3950, 0.0), (3951, 0.0), (3952, 0.0), (3953, 0.0), (3954, 0.0), (3956, 0.0), (3958, 0.0), (3960, 0.0), (3961, 0.0), (3962, 0.0), (3964, 0.0), (3967, 0.0), (3969, 0.0), (3971, 0.0), (3972, 0.0), (3973, 0.0), (3974, 0.0), (3975, 0.0), (3976, 0.0), (3977, 0.0), (3978, 0.0), (3979, 0.0), (3981, 0.0), (3982, 0.0), (3984, 0.0), (3985, 0.0), (3986, 0.0), (3987, 0.0), (3988, 0.0), (3989, 0.0), (3990, 0.0), (3991, 0.0), (3992, 0.0), (3993, 0.0), (3995, 0.0), (3996, 0.0), (3997, 0.0), (3999, 0.0), (4000, 0.0), (4002, 0.0), (4003, 0.0), (4004, 0.0), (4005, 0.0), (4008, 0.0), (4014, 0.0), (4016, 0.0), (4017, 0.0), (4018, 0.0), (4019, 0.0), (4021, 0.0), (4022, 0.0), (4023, 0.0), (4024, 0.0), (4026, 0.0), (4027, 0.0), (4028, 0.0), (4029, 0.0), (4030, 0.0), (4033, 0.0), (4035, 0.0), (4036, 0.0), (4037, 0.0), (4040, 0.0), (4041, 0.0), (4042, 0.0), (4043, 0.0), (4044, 0.0), (4045, 0.0), (4046, 0.0), (4047, 0.0), (4048, 0.0), (4049, 0.0), (4050, 0.0), (4051, 0.0), (4052, 0.0), (4053, 0.0), (4054, 0.0), (4056, 0.0), (4058, 0.0), (4060, 0.0), (4063, 0.0), (4065, 0.0), (4066, 0.0), (4067, 0.0), (4069, 0.0), (4072, 0.0), (4073, 0.0), (4075, 0.0), (4078, 0.0), (4079, 0.0), (4080, 0.0), (4081, 0.0), (4082, 0.0), (4083, 0.0), (4084, 0.0), (4085, 0.0), (4086, 0.0), (4087, 0.0), (4088, 0.0), (4089, 0.0), (4091, 0.0), (4092, 0.0), (4093, 0.0), (4094, 0.0), (4095, 0.0), (4096, 0.0), (4097, 0.0), (4098, 0.0), (4100, 0.0), (4101, 0.0), (4102, 0.0), (4103, 0.0), (4104, 0.0), (4107, 0.0), (4111, 0.0), (4113, 0.0), (4114, 0.0), (4115, 0.0), (4116, 0.0), (4117, 0.0), (4120, 0.0), (4121, 0.0), (4122, 0.0), (4123, 0.0), (4124, 0.0), (4125, 0.0), (4126, 0.0), (4127, 0.0), (4128, 0.0), (4129, 0.0), (4130, 0.0), (4131, 0.0), (4133, 0.0), (4134, 0.0), (4138, 0.0), (4139, 0.0), (4141, 0.0), (4142, 0.0), (4144, 0.0), (4145, 0.0), (4147, 0.0), (4148, 0.0), (4149, 0.0), (4150, 0.0), (4151, 0.0), (4153, 0.0), (4159, 0.0), (4160, 0.0), (4161, 0.0), (4162, 0.0), (4163, 0.0), (4164, 0.0), (4166, 0.0), (4167, 0.0), (4169, 0.0), (4170, 0.0), (4172, 0.0), (4173, 0.0), (4175, 0.0), (4177, 0.0), (4178, 0.0), (4179, 0.0), (4180, 0.0), (4181, 0.0), (4182, 0.0), (4183, 0.0), (4184, 0.0), (4185, 0.0), (4186, 0.0), (4187, 0.0), (4188, 0.0), (4190, 0.0), (4195, 0.0), (4196, 0.0), (4197, 0.0), (4198, 0.0), (4202, 0.0), (4204, 0.0), (4206, 0.0), (4207, 0.0), (4208, 0.0), (4209, 0.0), (4211, 0.0), (4212, 0.0), (4213, 0.0), (4214, 0.0), (4215, 0.0), (4216, 0.0), (4219, 0.0), (4220, 0.0), (4221, 0.0), (4222, 0.0), (4223, 0.0), (4224, 0.0), (4225, 0.0), (4227, 0.0), (4228, 0.0), (4229, 0.0), (4230, 0.0), (4231, 0.0), (4232, 0.0), (4233, 0.0), (4234, 0.0), (4235, 0.0), (4238, 0.0), (4239, 0.0), (4240, 0.0), (4243, 0.0), (4244, 0.0), (4245, 0.0), (4246, 0.0), (4247, 0.0), (4248, 0.0), (4249, 0.0), (4250, 0.0), (4251, 0.0), (4252, 0.0), (4253, 0.0), (4254, 0.0), (4255, 0.0), (4256, 0.0), (4259, 0.0), (4260, 0.0), (4261, 0.0), (4263, 0.0), (4264, 0.0), (4266, 0.0), (4268, 0.0), (4271, 0.0), (4273, 0.0), (4274, 0.0), (4275, 0.0), (4276, 0.0), (4277, 0.0), (4278, 0.0), (4279, 0.0), (4280, 0.0), (4284, 0.0), (4285, 0.0), (4286, 0.0), (4287, 0.0), (4288, 0.0), (4289, 0.0), (4291, 0.0), (4294, 0.0), (4295, 0.0), (4296, 0.0), (4298, 0.0), (4299, 0.0), (4301, 0.0), (4302, 0.0), (4304, 0.0), (4305, 0.0), (4306, 0.0), (4307, 0.0), (4308, 0.0), (4309, 0.0), (4310, 0.0), (4311, 0.0), (4313, 0.0), (4315, 0.0), (4316, 0.0), (4317, 0.0), (4318, 0.0), (4319, 0.0), (4320, 0.0), (4321, 0.0), (4322, 0.0), (4323, 0.0), (4324, 0.0), (4325, 0.0), (4326, 0.0), (4327, 0.0), (4331, 0.0), (4333, 0.0), (4335, 0.0), (4336, 0.0), (4338, 0.0), (4343, 0.0), (4345, 0.0), (4346, 0.0), (4347, 0.0), (4349, 0.0), (4350, 0.0), (4352, 0.0), (4353, 0.0), (4354, 0.0), (4355, 0.0), (4357, 0.0), (4361, 0.0), (4362, 0.0), (4365, 0.0), (4367, 0.0), (4368, 0.0), (4369, 0.0), (4372, 0.0), (4373, 0.0), (4375, 0.0), (4378, 0.0), (4381, 0.0), (4382, 0.0), (4383, 0.0), (4384, 0.0), (4385, 0.0), (4386, 0.0), (4387, 0.0), (4388, 0.0), (4390, 0.0), (4391, 0.0), (4392, 0.0), (4393, 0.0), (4394, 0.0), (4396, 0.0), (4398, 0.0), (4400, 0.0), (4403, 0.0), (4404, 0.0), (4405, 0.0), (4407, 0.0), (4408, 0.0), (4409, 0.0), (4410, 0.0), (4411, 0.0), (4412, 0.0), (4413, 0.0), (4415, 0.0), (4416, 0.0), (4417, 0.0), (4418, 0.0), (4419, 0.0), (4420, 0.0), (4421, 0.0), (4422, 0.0), (4423, 0.0), (4424, 0.0), (4425, 0.0), (4426, 0.0), (4428, 0.0), (4429, 0.0), (4430, 0.0), (4432, 0.0), (4433, 0.0), (4434, 0.0), (4435, 0.0), (4437, 0.0), (4439, 0.0), (4440, 0.0), (4441, 0.0), (4443, 0.0), (4444, 0.0), (4445, 0.0), (4446, 0.0), (4449, 0.0), (4450, 0.0), (4452, 0.0), (4453, 0.0), (4454, 0.0), (4456, 0.0), (4457, 0.0), (4458, 0.0), (4461, 0.0), (4463, 0.0), (4464, 0.0), (4465, 0.0), (4466, 0.0), (4468, 0.0), (4469, 0.0), (4470, 0.0), (4471, 0.0), (4474, 0.0), (4475, 0.0), (4476, 0.0), (4479, 0.0), (4480, 0.0), (4481, 0.0), (4484, 0.0), (4485, 0.0), (4487, 0.0), (4488, 0.0), (4489, 0.0), (4490, 0.0), (4491, 0.0), (4493, 0.0), (4494, 0.0), (4497, 0.0), (4498, 0.0), (4499, 0.0), (4500, 0.0), (4501, 0.0), (4502, 0.0), (4503, 0.0), (4505, 0.0), (4506, 0.0), (4507, 0.0), (4508, 0.0), (4509, 0.0), (4510, 0.0), (4511, 0.0), (4512, 0.0), (4513, 0.0), (4514, 0.0), (4517, 0.0), (4518, 0.0), (4519, 0.0), (4520, 0.0), (4521, 0.0), (4522, 0.0), (4525, 0.0), (4527, 0.0), (4528, 0.0), (4529, 0.0), (4530, 0.0), (4532, 0.0), (4533, 0.0), (4534, 0.0), (4535, 0.0), (4536, 0.0), (4537, 0.0), (4538, 0.0), (4539, 0.0), (4540, 0.0), (4542, 0.0), (4543, 0.0), (4544, 0.0), (4545, 0.0), (4547, 0.0), (4550, 0.0), (4552, 0.0), (4553, 0.0), (4554, 0.0), (4555, 0.0), (4556, 0.0), (4557, 0.0), (4558, 0.0), (4560, 0.0), (4561, 0.0), (4562, 0.0), (4563, 0.0), (4565, 0.0), (4566, 0.0), (4567, 0.0), (4571, 0.0), (4572, 0.0), (4573, 0.0), (4575, 0.0), (4577, 0.0), (4578, 0.0), (4579, 0.0), (4580, 0.0), (4581, 0.0), (4582, 0.0), (4583, 0.0), (4584, 0.0), (4586, 0.0), (4587, 0.0), (4588, 0.0), (4591, 0.0), (4593, 0.0), (4594, 0.0), (4595, 0.0), (4597, 0.0), (4599, 0.0), (4601, 0.0), (4602, 0.0), (4603, 0.0), (4605, 0.0), (4606, 0.0), (4607, 0.0), (4608, 0.0), (4610, 0.0), (4611, 0.0), (4614, 0.0), (4615, 0.0), (4616, 0.0), (4617, 0.0), (4618, 0.0), (4620, 0.0), (4622, 0.0), (4623, 0.0), (4625, 0.0), (4626, 0.0), (4627, 0.0), (4628, 0.0), (4630, 0.0), (4631, 0.0), (4632, 0.0), (4633, 0.0), (4635, 0.0), (4636, 0.0), (4637, 0.0), (4638, 0.0), (4639, 0.0), (4640, 0.0), (4641, 0.0), (4642, 0.0), (4644, 0.0), (4645, 0.0), (4646, 0.0), (4647, 0.0), (4648, 0.0), (4649, 0.0), (4650, 0.0), (4651, 0.0), (4653, 0.0), (4654, 0.0), (4655, 0.0), (4656, 0.0), (4657, 0.0), (4659, 0.0), (4660, 0.0), (4661, 0.0), (4663, 0.0), (4664, 0.0), (4665, 0.0), (4666, 0.0), (4668, 0.0), (4669, 0.0), (4670, 0.0), (4671, 0.0), (4672, 0.0), (4673, 0.0), (4676, 0.0), (4677, 0.0), (4678, 0.0), (4680, 0.0), (4681, 0.0), (4683, 0.0), (4684, 0.0), (4685, 0.0), (4688, 0.0), (4690, 0.0), (4691, 0.0), (4692, 0.0), (4693, 0.0), (4694, 0.0), (4696, 0.0), (4697, 0.0), (4698, 0.0), (4699, 0.0), (4700, 0.0), (4701, 0.0), (4702, 0.0), (4703, 0.0), (4704, 0.0), (4705, 0.0), (4706, 0.0), (4707, 0.0), (4708, 0.0), (4709, 0.0), (4710, 0.0), (4712, 0.0), (4713, 0.0), (4714, 0.0), (4715, 0.0), (4716, 0.0), (4717, 0.0), (4718, 0.0), (4719, 0.0), (4720, 0.0), (4721, 0.0), (4722, 0.0), (4723, 0.0), (4724, 0.0), (4725, 0.0), (4727, 0.0), (4728, 0.0), (4729, 0.0), (4730, 0.0), (4731, 0.0), (4733, 0.0), (4734, 0.0), (4735, 0.0), (4736, 0.0), (4737, 0.0), (4738, 0.0), (4739, 0.0), (4740, 0.0), (4742, 0.0), (4743, 0.0), (4744, 0.0), (4745, 0.0), (4746, 0.0), (4747, 0.0), (4749, 0.0), (4750, 0.0), (4751, 0.0), (4753, 0.0), (4755, 0.0), (4757, 0.0), (4759, 0.0)]\n"
          ]
        }
      ]
    },
    {
      "cell_type": "code",
      "source": [
        "#print the name of the similar movies based on the index\n",
        "print(\"Top 30 Movies suggested for you : \\n\")\n",
        "i = 1\n",
        "for movie in Sorted_Similar_Movies:\n",
        "  index = movie[0]\n",
        "  title_from_index = df[df.index==index]['Movie_Title'].values[0]\n",
        "  if (i<31):\n",
        "    print(i,'-',title_from_index)\n",
        "    i+=1"
      ],
      "metadata": {
        "colab": {
          "base_uri": "https://localhost:8080/"
        },
        "id": "V3ZDwLOP5s0M",
        "outputId": "90566aa2-804c-4390-e05d-41f781e82ac5"
      },
      "execution_count": 81,
      "outputs": [
        {
          "output_type": "stream",
          "name": "stdout",
          "text": [
            "Top 30 Movies suggested for you : \n",
            "\n",
            "1 - The Wicked Within\n",
            "2 - Y tu mamá también\n",
            "3 - The Time Machine\n",
            "4 - Eragon\n",
            "5 - Teeth\n",
            "6 - Resident Evil: Apocalypse\n",
            "7 - Running Forever\n",
            "8 - Inkheart\n",
            "9 - Resident Evil: Retribution\n",
            "10 - Bled\n",
            "11 - Twin Falls Idaho\n",
            "12 - Gunless\n",
            "13 - History of the World: Part I\n",
            "14 - Paddington\n",
            "15 - The Prince of Tides\n",
            "16 - Thir13en Ghosts\n",
            "17 - Slam\n",
            "18 - The Fourth Kind\n",
            "19 - The Boy in the Striped Pyjamas\n",
            "20 - Blow Out\n",
            "21 - G.I. Joe: The Rise of Cobra\n",
            "22 - The Maid's Room\n",
            "23 - Marvin's Room\n",
            "24 - Wah-Wah\n",
            "25 - All That Jazz\n",
            "26 - Dark Shadows\n",
            "27 - Where the Wild Things Are\n",
            "28 - The Upside of Anger\n",
            "29 - Sexy Beast\n",
            "30 - Legends of Oz: Dorothy's Return\n"
          ]
        }
      ]
    },
    {
      "cell_type": "markdown",
      "source": [
        "## Top 10 movie recommendation system"
      ],
      "metadata": {
        "id": "MCmieF4g6yB4"
      }
    },
    {
      "cell_type": "code",
      "source": [
        "matching_movies = df[df.Movie_Title == Close_Match]\n",
        "if not matching_movies.empty:\n",
        "    Index_of_Movie = matching_movies['Movie_ID'].values[0]\n",
        "    # Rest of your code for recommendation goes here\n",
        "else:\n",
        "    print(\"No matching movie found.\")\n",
        "\n"
      ],
      "metadata": {
        "id": "10qP9CDeBL0Z"
      },
      "execution_count": 84,
      "outputs": []
    },
    {
      "cell_type": "code",
      "source": [
        "Movie_name = input(\"Enter you favourite movie name :\")\n",
        "list_of_all_titles = df['Movie_Title'].tolist()\n",
        "find_Close_Match = difflib.get_close_matches(Movie_name,list_of_all_titles)\n",
        "Close_Match = find_Close_Match[0]\n",
        "Index_of_Movie = df[df.Movie_Title == Close_Match]['Movie_ID'].values[0]\n",
        "Recommendation_Score = list(enumerate(Similarity_score[Index_of_Movie]))\n",
        "sorted_similar_movies = sorted(Recommendation_Score,key = lambda x:x[1],reverse= True)\n",
        "\n",
        "print(\"Top 10 Movies Suggested for you are :-\")\n",
        "i = 1\n",
        "for movie in sorted_similar_movies:\n",
        "  index = movie[0]\n",
        "  title_from_index = df[df.Movie_ID==index]['Movie_Title'].values\n",
        "  if (i<11):\n",
        "    print(i,'-',title_from_index)\n",
        "    i+=1\n"
      ],
      "metadata": {
        "colab": {
          "base_uri": "https://localhost:8080/"
        },
        "id": "TWUf64K36jfC",
        "outputId": "e9f0316b-1ad7-410c-de58-12200d1a1563"
      },
      "execution_count": 86,
      "outputs": [
        {
          "output_type": "stream",
          "name": "stdout",
          "text": [
            "Enter you favourite movie name :Interstellar\n",
            "Top 10 Movies Suggested for you are :-\n",
            "1 - ['Interstellar']\n",
            "2 - ['Out of Sight']\n",
            "3 - ['The Perfect Storm']\n",
            "4 - ['The Chronicles of Narnia: Prince Caspian']\n",
            "5 - ['How to Lose Friends & Alienate People']\n",
            "6 - ['Resident Evil']\n",
            "7 - ['Rotor DR1']\n",
            "8 - ['Space Jam']\n",
            "9 - ['Fascination']\n",
            "10 - [\"Love's Abiding Joy\"]\n"
          ]
        }
      ]
    },
    {
      "cell_type": "code",
      "source": [
        "\n"
      ],
      "metadata": {
        "id": "P3jTh_BL8HNI"
      },
      "execution_count": 68,
      "outputs": []
    }
  ]
}